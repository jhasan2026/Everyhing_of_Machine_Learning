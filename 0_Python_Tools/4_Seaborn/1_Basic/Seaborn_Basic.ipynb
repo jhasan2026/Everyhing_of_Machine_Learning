{
 "cells": [
  {
   "metadata": {},
   "cell_type": "markdown",
   "source": [
    "### Why Seaborn?\n",
    "\n",
    "- provides a layer of abstraction hence simpler to use\n",
    "- better aesthetics\n",
    "- more graphs included"
   ],
   "id": "686cd96062eb4952"
  },
  {
   "metadata": {},
   "cell_type": "markdown",
   "source": [
    "### Seaborn Roadmap\n",
    "\n",
    "Types of Functions\n",
    "\n",
    "- Figure Level\n",
    "- Axis Level\n",
    "\n",
    "Main Classification\n",
    "\n",
    "- Relational Plot\n",
    "- Distribution Plot\n",
    "- Categorical Plot\n",
    "- Regression Plot\n",
    "- Matrix Plot\n",
    "- Multiplots\n",
    "\n",
    "https://seaborn.pydata.org/api.html"
   ],
   "id": "c54ba341fd79f378"
  },
  {
   "metadata": {},
   "cell_type": "markdown",
   "source": [
    "### 1. Relational Plot\n",
    "\n",
    "- to see the statistical relation between 2 or more variables.\n",
    "- Bivariate Analysis\n",
    "\n",
    "Plots under this section\n",
    "\n",
    "- scatterplot\n",
    "- lineplot"
   ],
   "id": "d08d25b780cecc68"
  },
  {
   "metadata": {},
   "cell_type": "code",
   "source": [
    "import numpy as np\n",
    "import seaborn as sns\n",
    "import matplotlib.pyplot as plt\n",
    "import plotly.express as px\n"
   ],
   "id": "a81cc92df43e9e3a",
   "outputs": [],
   "execution_count": null
  },
  {
   "metadata": {},
   "cell_type": "code",
   "source": [
    "tips = sns.load_dataset('tips')\n",
    "tips"
   ],
   "id": "ba33152592054670",
   "outputs": [],
   "execution_count": null
  },
  {
   "metadata": {},
   "cell_type": "markdown",
   "source": "##### i. Scatter plot",
   "id": "aa3752c209919c6c"
  },
  {
   "metadata": {},
   "cell_type": "code",
   "source": [
    "# axis level\n",
    "sns.scatterplot(data=tips,x='total_bill',y='tip',hue='sex',style='time',size='size')"
   ],
   "id": "ee5dafa49324d61",
   "outputs": [],
   "execution_count": null
  },
  {
   "metadata": {},
   "cell_type": "code",
   "source": [
    "# fig level (relplot)\n",
    "sns.relplot(data=tips,x='total_bill',y='tip',kind='scatter',hue='sex',style='time',size='size')\n"
   ],
   "id": "5429a104df746b14",
   "outputs": [],
   "execution_count": null
  },
  {
   "metadata": {},
   "cell_type": "markdown",
   "source": "##### ii. Lineplot",
   "id": "7fa3a54cf016f335"
  },
  {
   "metadata": {},
   "cell_type": "code",
   "source": [
    "gap = px.data.gapminder()\n",
    "temp_df = gap[gap['country'] == 'India']\n",
    "temp_df"
   ],
   "id": "ce1366af4015db89",
   "outputs": [],
   "execution_count": null
  },
  {
   "metadata": {},
   "cell_type": "code",
   "source": [
    "# axis level \n",
    "sns.lineplot(data=temp_df,x='year',y='lifeExp')"
   ],
   "id": "a51c14ec82b5d776",
   "outputs": [],
   "execution_count": null
  },
  {
   "metadata": {},
   "cell_type": "code",
   "source": [
    "# fig level\n",
    "sns.relplot(data=temp_df,x='year',y='lifeExp',kind='line')"
   ],
   "id": "c0d9403829d81756",
   "outputs": [],
   "execution_count": null
  },
  {
   "metadata": {},
   "cell_type": "code",
   "source": [
    "temp_df = gap[gap['country'].isin(['India','Brazil','Germany'])]\n",
    "temp_df"
   ],
   "id": "c0b5243008919456",
   "outputs": [],
   "execution_count": null
  },
  {
   "metadata": {},
   "cell_type": "code",
   "source": "sns.relplot(kind='line',data=temp_df,x='year',y='lifeExp',hue='country',style='continent',size='continent')",
   "id": "9cde6fe3802b349d",
   "outputs": [],
   "execution_count": null
  },
  {
   "metadata": {},
   "cell_type": "code",
   "source": "sns.lineplot(data=temp_df,x='year',y='lifeExp',hue='country')",
   "id": "f66d6fc8bf455798",
   "outputs": [],
   "execution_count": null
  },
  {
   "metadata": {},
   "cell_type": "code",
   "source": "sns.relplot(data=tips,x='total_bill',y='tip',kind='scatter',hue='sex')",
   "id": "3b2fa38668551521",
   "outputs": [],
   "execution_count": null
  },
  {
   "metadata": {},
   "cell_type": "code",
   "source": [
    "#facet_plot (only for figure level)\n",
    "sns.relplot(data=tips,x='total_bill',y='tip',kind='scatter',col='sex')"
   ],
   "id": "e26e217cc33ae4f0",
   "outputs": [],
   "execution_count": null
  },
  {
   "metadata": {},
   "cell_type": "code",
   "source": "sns.relplot(data=tips,x='total_bill',y='tip',kind='scatter',row='sex')",
   "id": "a7ec8e8f7457b939",
   "outputs": [],
   "execution_count": null
  },
  {
   "metadata": {},
   "cell_type": "code",
   "source": "sns.relplot(data=tips,x='total_bill',y='tip',kind='scatter',row='smoker',col='sex')",
   "id": "8c2b515c380fae46",
   "outputs": [],
   "execution_count": null
  },
  {
   "metadata": {},
   "cell_type": "code",
   "source": "sns.relplot(data=tips,x='total_bill',y='tip',kind='scatter',row='sex',col='day')",
   "id": "4894676b9f2ce1eb",
   "outputs": [],
   "execution_count": null
  },
  {
   "metadata": {},
   "cell_type": "code",
   "source": "sns.relplot(data=gap,x='lifeExp',y='gdpPercap',kind='scatter')",
   "id": "5ea5a73842630ad9",
   "outputs": [],
   "execution_count": null
  },
  {
   "metadata": {},
   "cell_type": "code",
   "source": [
    "# col wrap\n",
    "sns.relplot(data=gap,x='lifeExp',y='gdpPercap',kind='scatter',col='year',col_wrap=3)"
   ],
   "id": "d92639a728bf1d5a",
   "outputs": [],
   "execution_count": null
  },
  {
   "metadata": {},
   "cell_type": "markdown",
   "source": [
    "### 2. Distribution Plots\n",
    "\n",
    "- used for univariate analysis\n",
    "- used to find out the distribution\n",
    "- Range of the observation\n",
    "- Central Tendency\n",
    "- is the data bimodal?\n",
    "- Are there outliers?\n",
    "\n",
    "Plots under distribution plot\n",
    "\n",
    "- histplot\n",
    "- kdeplot\n",
    "- rugplot"
   ],
   "id": "ee1b4ee9454ec913"
  },
  {
   "metadata": {},
   "cell_type": "markdown",
   "source": "##### i. Histogram",
   "id": "b0d267e5084b8e9f"
  },
  {
   "metadata": {},
   "cell_type": "code",
   "source": [
    "# figure --> displot\n",
    "#axes level --> hisplot, kdeplot, rugplot"
   ],
   "id": "86f9932bfa7f3336",
   "outputs": [],
   "execution_count": null
  },
  {
   "metadata": {},
   "cell_type": "code",
   "source": [
    "# figure\n",
    "sns.displot(data=tips,x='total_bill',kind='hist')"
   ],
   "id": "4b439117d4b0d293",
   "outputs": [],
   "execution_count": null
  },
  {
   "metadata": {},
   "cell_type": "code",
   "source": "sns.displot(data=tips,x='total_bill',kind='hist',bins=20)",
   "id": "507a70180508149",
   "outputs": [],
   "execution_count": null
  },
  {
   "metadata": {},
   "cell_type": "code",
   "source": [
    "# axis level\n",
    "sns.histplot(data=tips,x='total_bill')"
   ],
   "id": "8010c71ecb6a8ba1",
   "outputs": [],
   "execution_count": null
  },
  {
   "metadata": {},
   "cell_type": "code",
   "source": "tips",
   "id": "52437ff3d6cbea16",
   "outputs": [],
   "execution_count": null
  },
  {
   "metadata": {},
   "cell_type": "code",
   "source": [
    "# for categorical column (like a countplot)\n",
    "sns.displot(data=tips,x='day',kind='hist')"
   ],
   "id": "a538f3dc3af77f89",
   "outputs": [],
   "execution_count": null
  },
  {
   "metadata": {},
   "cell_type": "code",
   "source": "sns.displot(data=tips,x='tip',kind='hist',hue='sex',element='step')",
   "id": "b110c7ace79a9339",
   "outputs": [],
   "execution_count": null
  },
  {
   "metadata": {},
   "cell_type": "code",
   "source": [
    "titanic = sns.load_dataset('titanic')\n",
    "titanic"
   ],
   "id": "74aa1f822c8fbb82",
   "outputs": [],
   "execution_count": null
  },
  {
   "metadata": {},
   "cell_type": "code",
   "source": "sns.displot(data=titanic,x='age',kind='hist',element='step',hue='sex')",
   "id": "94abc9c0f7f7cc28",
   "outputs": [],
   "execution_count": null
  },
  {
   "metadata": {},
   "cell_type": "code",
   "source": [
    "# only for fig level\n",
    "sns.displot(data=tips,x='tip',kind='hist',col='sex',element='step')"
   ],
   "id": "53d0bec70058f3b7",
   "outputs": [],
   "execution_count": null
  },
  {
   "metadata": {},
   "cell_type": "markdown",
   "source": "##### ii. Skeplot",
   "id": "675a7284e2417cd2"
  },
  {
   "metadata": {},
   "cell_type": "code",
   "source": "tips",
   "id": "3a4d1ee2b90bd141",
   "outputs": [],
   "execution_count": null
  },
  {
   "metadata": {},
   "cell_type": "code",
   "source": "sns.kdeplot(data=tips,x='total_bill')",
   "id": "fe534818b1a5aa8b",
   "outputs": [],
   "execution_count": null
  },
  {
   "metadata": {},
   "cell_type": "code",
   "source": "sns.displot(data=tips,x='total_bill',kind='kde',hue='sex',fill=True)",
   "id": "664f7894a6416462",
   "outputs": [],
   "execution_count": null
  },
  {
   "metadata": {},
   "cell_type": "markdown",
   "source": "##### iii. Rugplot",
   "id": "219e307fb26c391"
  },
  {
   "metadata": {},
   "cell_type": "code",
   "source": [
    "sns.kdeplot(data=tips,x='total_bill')\n",
    "sns.rugplot(data=tips,x='total_bill')"
   ],
   "id": "95e03e7517a3ca1c",
   "outputs": [],
   "execution_count": null
  },
  {
   "metadata": {},
   "cell_type": "markdown",
   "source": "###### Bivariate histogram",
   "id": "307ce7b99cfdbb3"
  },
  {
   "metadata": {},
   "cell_type": "code",
   "source": "sns.histplot(data=tips,x='total_bill',y='tip')",
   "id": "9cbe8773d8389da0",
   "outputs": [],
   "execution_count": null
  },
  {
   "metadata": {},
   "cell_type": "code",
   "source": "sns.displot(data=tips,kind='hist',x='total_bill',y='tip')",
   "id": "7e1bc82fd97dca68",
   "outputs": [],
   "execution_count": null
  },
  {
   "metadata": {},
   "cell_type": "markdown",
   "source": "#### Bivariate kdeplot",
   "id": "aaaec51aff0b4a7c"
  },
  {
   "metadata": {},
   "cell_type": "code",
   "source": "sns.kdeplot(data=tips,x='total_bill',y='tip')",
   "id": "e67567fcc738e0ba",
   "outputs": [],
   "execution_count": null
  },
  {
   "metadata": {},
   "cell_type": "markdown",
   "source": [
    "# 3.Categorical Plots\n",
    "\n",
    "### Categorical Scatter Plot  (Bi variate analysis)\n",
    "\n",
    "- Stripplot\n",
    "- Swarmplot\n",
    "\n",
    "### Categorical Distribution Plots   (Single variate analysis)\n",
    "\n",
    "- Boxplot\n",
    "- Violinplot\n",
    "\n",
    "### Categorical Estimate Plot -> for central tendency\n",
    "\n",
    "- Barplot\n",
    "- Pointplot\n",
    "- Countplot\n",
    "\n",
    "### Figure level function -> `catplot`"
   ],
   "id": "27585d1c3d21a4c3"
  },
  {
   "metadata": {},
   "cell_type": "markdown",
   "source": "##### 1.i) StipPlot  (x->one cat vs y->one num)",
   "id": "2608cf9881fd5ae7"
  },
  {
   "metadata": {},
   "cell_type": "code",
   "source": [
    "# axis level\n",
    "sns.stripplot(data=tips,x='day',y='total_bill')"
   ],
   "id": "31bda2404d1bae28",
   "outputs": [],
   "execution_count": null
  },
  {
   "metadata": {},
   "cell_type": "code",
   "source": "sns.stripplot(data=tips,x='day',y='total_bill',jitter=False)",
   "id": "2888a7f1e6944686",
   "outputs": [],
   "execution_count": null
  },
  {
   "metadata": {},
   "cell_type": "code",
   "source": [
    "# fig level\n",
    "sns.catplot(data=tips,x='day',y='total_bill',kind='strip')"
   ],
   "id": "7dfa44800bf25a38",
   "outputs": [],
   "execution_count": null
  },
  {
   "metadata": {},
   "cell_type": "code",
   "source": "sns.catplot(data=tips,x='day',y='total_bill',kind='strip',jitter=0.2,hue='sex')",
   "id": "6d00ecacd3d557ed",
   "outputs": [],
   "execution_count": null
  },
  {
   "metadata": {},
   "cell_type": "markdown",
   "source": "ii) Swarmplot ",
   "id": "153e267a93f86d92"
  },
  {
   "metadata": {},
   "cell_type": "code",
   "source": [
    "# fig level\n",
    "sns.catplot(data=tips,x='day',y='total_bill',kind='swarm')"
   ],
   "id": "a41176231464fbbc",
   "outputs": [],
   "execution_count": null
  },
  {
   "metadata": {},
   "cell_type": "code",
   "source": [
    "# axis level\n",
    "sns.swarmplot(data=tips,x='day',y='total_bill')"
   ],
   "id": "f84930ba32557ea2",
   "outputs": [],
   "execution_count": null
  },
  {
   "metadata": {},
   "cell_type": "code",
   "source": "sns.swarmplot(data=tips,x='day',y='total_bill',hue='sex')",
   "id": "9e94eb1959d2774c",
   "outputs": [],
   "execution_count": null
  },
  {
   "metadata": {},
   "cell_type": "markdown",
   "source": [
    "##### 2.i)Boxplot\n",
    "\n",
    "\n",
    "A boxplot is a standardized way of displaying the distribution of data based on a five number summary (“minimum”, first quartile [Q1], median, third quartile [Q3] and “maximum”). It can tell you about your outliers and what their values are. Boxplots can also tell you if your data is symmetrical, how tightly your data is grouped and if and how your data is skewed."
   ],
   "id": "7d8f690f1f8920d9"
  },
  {
   "metadata": {},
   "cell_type": "code",
   "source": [
    "# axis level\n",
    "sns.boxplot(data=tips,x='sex',y='total_bill')"
   ],
   "id": "fb9712e497fcd572",
   "outputs": [],
   "execution_count": null
  },
  {
   "metadata": {},
   "cell_type": "code",
   "source": "sns.boxplot(data=tips,x='day',y='total_bill')",
   "id": "e831f54952f837a1",
   "outputs": [],
   "execution_count": null
  },
  {
   "metadata": {},
   "cell_type": "code",
   "source": "sns.boxplot(data=tips,x='day',y='total_bill',hue='sex')",
   "id": "38c19975416259d1",
   "outputs": [],
   "execution_count": null
  },
  {
   "metadata": {},
   "cell_type": "code",
   "source": "sns.boxplot(data=tips,y='total_bill',hue='sex')",
   "id": "6e3b1d4094b4ca72",
   "outputs": [],
   "execution_count": null
  },
  {
   "metadata": {},
   "cell_type": "code",
   "source": [
    "#fig level ->  catplot\n",
    "sns.catplot(data=tips,x='day',y='total_bill',kind='box')"
   ],
   "id": "4cdc5f3eb3ff9adb",
   "outputs": [],
   "execution_count": null
  },
  {
   "metadata": {},
   "cell_type": "code",
   "source": "sns.catplot(data=tips,x='day',y='total_bill',kind='box')",
   "id": "bd54851ec4115738",
   "outputs": [],
   "execution_count": null
  },
  {
   "metadata": {},
   "cell_type": "markdown",
   "source": "##### ii) Violineplot (boxplot + KDEplot)",
   "id": "5db4e20e8593668a"
  },
  {
   "metadata": {},
   "cell_type": "code",
   "source": [
    "# ax lev\n",
    "sns.violinplot(data=tips,x='day',y='total_bill')"
   ],
   "id": "9e3b8e9176eb9fa3",
   "outputs": [],
   "execution_count": null
  },
  {
   "metadata": {},
   "cell_type": "code",
   "source": [
    "# fig\n",
    "sns.catplot(data=tips,x='day',y='total_bill',kind='violin')"
   ],
   "id": "77cf6ce0824c5ec9",
   "outputs": [],
   "execution_count": null
  },
  {
   "metadata": {},
   "cell_type": "code",
   "source": "sns.catplot(data=tips,x='day',y='total_bill',kind='violin',hue='sex',split=2)  ## split no of cat of sex(hue)",
   "id": "bb15c70ee3a6d74f",
   "outputs": [],
   "execution_count": null
  },
  {
   "metadata": {},
   "cell_type": "markdown",
   "source": "##### 3.i) Barplot",
   "id": "1945861f5776f433"
  },
  {
   "metadata": {},
   "cell_type": "code",
   "source": "sns.barplot(data=tips,x='sex',y='total_bill')",
   "id": "60bf1efd5869bbf3",
   "outputs": [],
   "execution_count": null
  },
  {
   "metadata": {},
   "cell_type": "code",
   "source": "sns.barplot(data=tips,x='sex',y='total_bill',hue='smoker',estimator=np.std)",
   "id": "10834d99afc15084",
   "outputs": [],
   "execution_count": null
  },
  {
   "metadata": {},
   "cell_type": "code",
   "source": "sns.barplot(data=tips,x='sex',y='total_bill',hue='smoker',estimator=np.median)",
   "id": "f0fa67186e30ce51",
   "outputs": [],
   "execution_count": null
  },
  {
   "metadata": {},
   "cell_type": "code",
   "source": "sns.barplot(data=tips,x='sex',y='total_bill',hue='smoker',estimator=np.min)",
   "id": "c10d61dcda4bd37c",
   "outputs": [],
   "execution_count": null
  },
  {
   "metadata": {},
   "cell_type": "markdown",
   "source": "##### ii)Pointplot",
   "id": "1bc985e8e9cf6c28"
  },
  {
   "metadata": {},
   "cell_type": "code",
   "source": "sns.pointplot(data=tips,x='sex',y='total_bill',estimator=np.mean,hue='smoker')",
   "id": "173b1c83c5eb9a42",
   "outputs": [],
   "execution_count": null
  },
  {
   "metadata": {},
   "cell_type": "markdown",
   "source": "##### iii)Countplot",
   "id": "ef61535820d4a8fd"
  },
  {
   "metadata": {},
   "cell_type": "code",
   "source": "sns.countplot(data=tips,x='sex')",
   "id": "1a4967085fb320ab",
   "outputs": [],
   "execution_count": null
  },
  {
   "metadata": {},
   "cell_type": "code",
   "source": "sns.countplot(data=tips,x='sex',hue='day')",
   "id": "fe6c766096377fb9",
   "outputs": [],
   "execution_count": null
  },
  {
   "metadata": {},
   "cell_type": "code",
   "source": [
    "# faceting\n",
    "sns.catplot(data=tips,x='sex',y='total_bill',col='smoker',kind='box')"
   ],
   "id": "1a49388de882f8e0",
   "outputs": [],
   "execution_count": null
  },
  {
   "metadata": {},
   "cell_type": "code",
   "source": "sns.catplot(data=tips,x='sex',y='total_bill',row='time',col='smoker',kind='box')",
   "id": "4b2b0ac4be2cc149",
   "outputs": [],
   "execution_count": null
  },
  {
   "metadata": {},
   "cell_type": "markdown",
   "source": [
    "### 4. Matrix Plot\n",
    "\n",
    "- Heatmap\n",
    "- Clustermap"
   ],
   "id": "4c6bf095cb3831b6"
  },
  {
   "metadata": {},
   "cell_type": "code",
   "source": "gap",
   "id": "16633916ef7b64d7",
   "outputs": [],
   "execution_count": null
  },
  {
   "metadata": {},
   "cell_type": "code",
   "source": [
    "temp_df = gap.pivot(index='country',columns='year',values='lifeExp')\n",
    "temp_df"
   ],
   "id": "1114f43790db811d",
   "outputs": [],
   "execution_count": null
  },
  {
   "metadata": {},
   "cell_type": "markdown",
   "source": "##### i. Heatmap",
   "id": "9d4e0257b76af9fe"
  },
  {
   "metadata": {},
   "cell_type": "code",
   "source": [
    "# heatmap ---> axis level (no fig)\n",
    "plt.figure(figsize=(15,10))\n",
    "sns.heatmap(temp_df)"
   ],
   "id": "8639206b34e4a8ad",
   "outputs": [],
   "execution_count": null
  },
  {
   "metadata": {},
   "cell_type": "code",
   "source": [
    "# annotation\n",
    "temp_df = gap[gap['continent'] == 'Europe'].pivot(index='country',columns='year',values='lifeExp')\n",
    "plt.figure(figsize=(15,15))\n",
    "sns.heatmap(temp_df,annot=True,linewidths=0.5)"
   ],
   "id": "746645fe47fdd00b",
   "outputs": [],
   "execution_count": null
  },
  {
   "metadata": {},
   "cell_type": "code",
   "source": [
    "plt.figure(figsize=(15,15))\n",
    "sns.heatmap(temp_df,annot=True,linewidths=0.5,cmap='viridis')"
   ],
   "id": "e2e630ed66d54ef9",
   "outputs": [],
   "execution_count": null
  },
  {
   "metadata": {},
   "cell_type": "code",
   "source": [
    "plt.figure(figsize=(15,15))\n",
    "sns.heatmap(temp_df,annot=True,linewidths=0.5,cmap='summer')"
   ],
   "id": "2637379999013322",
   "outputs": [],
   "execution_count": null
  },
  {
   "metadata": {},
   "cell_type": "code",
   "source": [
    "plt.figure(figsize=(15,15))\n",
    "sns.heatmap(temp_df,annot=True,linewidths=0.5,cmap='jet')"
   ],
   "id": "fccbbe70143a8c2c",
   "outputs": [],
   "execution_count": null
  },
  {
   "metadata": {},
   "cell_type": "markdown",
   "source": "##### ii.Clustermap",
   "id": "c8e4649ec4902b02"
  },
  {
   "metadata": {},
   "cell_type": "code",
   "source": [
    "iris = px.data.iris()\n",
    "iris"
   ],
   "id": "790230cb4e256515",
   "outputs": [],
   "execution_count": null
  },
  {
   "metadata": {},
   "cell_type": "code",
   "source": "sns.clustermap(iris.iloc[:,[0,1,2,3]])",
   "id": "8d614ecd385099ba",
   "outputs": [],
   "execution_count": null
  },
  {
   "metadata": {},
   "cell_type": "markdown",
   "source": "# 5. Regreession Plot",
   "id": "e5ccfae5f207ec95"
  },
  {
   "metadata": {},
   "cell_type": "code",
   "source": "tips",
   "id": "2caf4d6166123f98",
   "outputs": [],
   "execution_count": null
  },
  {
   "metadata": {},
   "cell_type": "code",
   "source": [
    "# axis level (hue not available)\n",
    "sns.regplot(data=tips,x='total_bill',y='tip')"
   ],
   "id": "f0e88fbb621d5665",
   "outputs": [],
   "execution_count": null
  },
  {
   "metadata": {},
   "cell_type": "code",
   "source": [
    "# fig level\n",
    "sns.lmplot(data=tips,x='total_bill',y='tip',hue='sex')"
   ],
   "id": "d749f93e266c298",
   "outputs": [],
   "execution_count": null
  },
  {
   "metadata": {},
   "cell_type": "code",
   "source": [
    "# residual error from linear regression line\n",
    "sns.residplot(data=tips,x='total_bill',y='tip')"
   ],
   "id": "b9ace020876e602f",
   "outputs": [],
   "execution_count": null
  },
  {
   "metadata": {},
   "cell_type": "markdown",
   "source": [
    "# 6.Multiplots\n",
    "\n",
    "- facetplot\n",
    "- jointplot\n",
    "- pairplot"
   ],
   "id": "1612d4a5e14ab92"
  },
  {
   "metadata": {},
   "cell_type": "markdown",
   "source": "#### facetplot",
   "id": "31527906b2cd0ec4"
  },
  {
   "metadata": {},
   "cell_type": "code",
   "source": [
    "# relplot, displot, catplot\n",
    "sns.catplot(data=tips,x='sex',y='total_bill',kind='violin',row='time',col='day')"
   ],
   "id": "4a06e58e9a6910c8",
   "outputs": [],
   "execution_count": null
  },
  {
   "metadata": {},
   "cell_type": "code",
   "source": [
    "g = sns.FacetGrid(data=tips,row='time',col='day')\n",
    "g.map(sns.violinplot,'sex','total_bill')"
   ],
   "id": "a80d089a0de0f84a",
   "outputs": [],
   "execution_count": null
  },
  {
   "metadata": {},
   "cell_type": "code",
   "source": [
    "g = sns.FacetGrid(data=tips,row='time',col='day')\n",
    "g.map(sns.boxplot,'sex','total_bill')\n",
    "g.add_legend()"
   ],
   "id": "caa781d4c20afb74",
   "outputs": [],
   "execution_count": null
  },
  {
   "metadata": {},
   "cell_type": "markdown",
   "source": "#### jointplot",
   "id": "f69ff53d08c66360"
  },
  {
   "metadata": {},
   "cell_type": "code",
   "source": "sns.jointplot(data=tips,x='total_bill',y='tip')",
   "id": "f2b42eab31152227",
   "outputs": [],
   "execution_count": null
  },
  {
   "metadata": {},
   "cell_type": "code",
   "source": "sns.jointplot(data=tips,x='total_bill',y='tip',kind='kde')",
   "id": "2cde6c37390d04f6",
   "outputs": [],
   "execution_count": null
  },
  {
   "metadata": {},
   "cell_type": "code",
   "source": "sns.jointplot(data=tips,x='total_bill',y='tip',kind='hist',hue='sex')",
   "id": "6177fc3714bddb26",
   "outputs": [],
   "execution_count": null
  },
  {
   "metadata": {},
   "cell_type": "code",
   "source": "sns.jointplot(data=tips,x='total_bill',y='tip',kind='reg')",
   "id": "3c84c2b673b68259",
   "outputs": [],
   "execution_count": null
  },
  {
   "metadata": {},
   "cell_type": "code",
   "source": [
    "# Grid plot\n",
    "g = sns.JointGrid(data=tips,x='total_bill',y='tip')\n",
    "g.plot(sns.scatterplot,sns.histplot)"
   ],
   "id": "626dcee79357cc4d",
   "outputs": [],
   "execution_count": null
  },
  {
   "metadata": {},
   "cell_type": "code",
   "source": [
    "g = sns.JointGrid(data=tips,x='total_bill',y='tip')\n",
    "g.plot(sns.scatterplot,sns.boxplot)"
   ],
   "id": "9959b74acc696473",
   "outputs": [],
   "execution_count": null
  },
  {
   "metadata": {},
   "cell_type": "code",
   "source": [
    "g = sns.JointGrid(data=tips,x='total_bill',y='tip')\n",
    "g.plot(sns.scatterplot,sns.violinplot)"
   ],
   "id": "7a61b8a289afa98c",
   "outputs": [],
   "execution_count": null
  },
  {
   "metadata": {},
   "cell_type": "code",
   "source": [
    "g = sns.JointGrid(data=tips,x='total_bill',y='tip')\n",
    "g.plot(sns.kdeplot,sns.violinplot)"
   ],
   "id": "637ce79497627770",
   "outputs": [],
   "execution_count": null
  },
  {
   "metadata": {},
   "cell_type": "markdown",
   "source": "#### pairplot (Pairwise relation)",
   "id": "56a1da452bf14a83"
  },
  {
   "metadata": {},
   "cell_type": "code",
   "source": "iris",
   "id": "621430cf28916227",
   "outputs": [],
   "execution_count": null
  },
  {
   "metadata": {},
   "cell_type": "code",
   "source": "sns.pairplot(iris)",
   "id": "fec0937700cb608f",
   "outputs": [],
   "execution_count": null
  },
  {
   "metadata": {},
   "cell_type": "code",
   "source": "sns.pairplot(iris,hue='species')",
   "id": "cdc71617a30b87ce",
   "outputs": [],
   "execution_count": null
  },
  {
   "metadata": {},
   "cell_type": "code",
   "source": [
    "g = sns.PairGrid(data=iris,hue='species')\n",
    "g.map(sns.scatterplot)"
   ],
   "id": "83240a3db9a40a3e",
   "outputs": [],
   "execution_count": null
  },
  {
   "metadata": {},
   "cell_type": "code",
   "source": [
    "g = sns.PairGrid(data=iris,hue='species')\n",
    "g.map_diag(sns.histplot)\n",
    "g.map_offdiag(sns.scatterplot)"
   ],
   "id": "c22b5f0ef8d4d5d0",
   "outputs": [],
   "execution_count": null
  },
  {
   "metadata": {},
   "cell_type": "code",
   "source": [
    "g = sns.PairGrid(data=iris,hue='species')\n",
    "g.map_diag(sns.violinplot)\n",
    "g.map_offdiag(sns.scatterplot)"
   ],
   "id": "fe314b46b9ef6991",
   "outputs": [],
   "execution_count": null
  },
  {
   "metadata": {},
   "cell_type": "code",
   "source": [
    "g = sns.PairGrid(data=iris,hue='species')\n",
    "g.map_diag(sns.boxplot)\n",
    "g.map_offdiag(sns.scatterplot)"
   ],
   "id": "adb0b568d28022a4",
   "outputs": [],
   "execution_count": null
  },
  {
   "metadata": {},
   "cell_type": "code",
   "source": [
    "g = sns.PairGrid(data=iris,hue='species')\n",
    "g.map_diag(sns.boxplot)\n",
    "g.map_offdiag(sns.histplot)"
   ],
   "id": "15d34bcce01b666e",
   "outputs": [],
   "execution_count": null
  },
  {
   "metadata": {},
   "cell_type": "code",
   "source": [
    "# only these two var\n",
    "g = sns.PairGrid(data=iris,hue='species',vars=['sepal_width','petal_width'])\n",
    "g.map_diag(sns.boxplot)\n",
    "g.map_offdiag(sns.kdeplot)"
   ],
   "id": "da25b7790f238aa0",
   "outputs": [],
   "execution_count": null
  },
  {
   "metadata": {},
   "cell_type": "code",
   "source": [
    "g = sns.PairGrid(data=iris,hue='species')\n",
    "g.map_diag(sns.histplot)\n",
    "g.map_upper(sns.kdeplot)\n",
    "g.map_lower(sns.scatterplot)"
   ],
   "id": "816955ca7a92582a",
   "outputs": [],
   "execution_count": null
  },
  {
   "metadata": {},
   "cell_type": "code",
   "source": "",
   "id": "a5bf5185be929079",
   "outputs": [],
   "execution_count": null
  }
 ],
 "metadata": {
  "kernelspec": {
   "display_name": "Python 3",
   "language": "python",
   "name": "python3"
  },
  "language_info": {
   "codemirror_mode": {
    "name": "ipython",
    "version": 2
   },
   "file_extension": ".py",
   "mimetype": "text/x-python",
   "name": "python",
   "nbconvert_exporter": "python",
   "pygments_lexer": "ipython2",
   "version": "2.7.6"
  }
 },
 "nbformat": 4,
 "nbformat_minor": 5
}
