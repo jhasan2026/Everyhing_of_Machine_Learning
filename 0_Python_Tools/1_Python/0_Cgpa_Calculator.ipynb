{
 "cells": [
  {
   "cell_type": "code",
   "id": "initial_id",
   "metadata": {
    "collapsed": true,
    "ExecuteTime": {
     "end_time": "2024-10-29T03:38:57.787817Z",
     "start_time": "2024-10-29T03:38:55.446568Z"
    }
   },
   "source": "no_of_course = int(input(\"Number of course\"))",
   "outputs": [],
   "execution_count": 17
  },
  {
   "metadata": {
    "ExecuteTime": {
     "end_time": "2024-10-29T03:39:31.822075Z",
     "start_time": "2024-10-29T03:38:57.787817Z"
    }
   },
   "cell_type": "code",
   "source": [
    "total_cred = 0\n",
    "sum = 0\n",
    "for i in range(0,no_of_course):\n",
    "    credit = int(input(\"Credit for \" + str(i+1) ))\n",
    "    grade = float(input(\"Grade for \" + str(i+1) ))\n",
    "    total_cred += credit\n",
    "    sum += (credit*grade)"
   ],
   "id": "f3628133e5af4be5",
   "outputs": [],
   "execution_count": 18
  },
  {
   "metadata": {
    "ExecuteTime": {
     "end_time": "2024-10-29T03:39:31.827172Z",
     "start_time": "2024-10-29T03:39:31.823600Z"
    }
   },
   "cell_type": "code",
   "source": "sum/total_cred",
   "id": "8e3fddd840bd1fe6",
   "outputs": [
    {
     "data": {
      "text/plain": [
       "3.787142857142857"
      ]
     },
     "execution_count": 19,
     "metadata": {},
     "output_type": "execute_result"
    }
   ],
   "execution_count": 19
  }
 ],
 "metadata": {
  "kernelspec": {
   "display_name": "Python 3",
   "language": "python",
   "name": "python3"
  },
  "language_info": {
   "codemirror_mode": {
    "name": "ipython",
    "version": 2
   },
   "file_extension": ".py",
   "mimetype": "text/x-python",
   "name": "python",
   "nbconvert_exporter": "python",
   "pygments_lexer": "ipython2",
   "version": "2.7.6"
  }
 },
 "nbformat": 4,
 "nbformat_minor": 5
}
