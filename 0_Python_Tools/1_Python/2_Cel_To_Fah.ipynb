{
 "cells": [
  {
   "cell_type": "code",
   "id": "initial_id",
   "metadata": {
    "collapsed": true,
    "ExecuteTime": {
     "end_time": "2024-10-29T03:08:51.241263Z",
     "start_time": "2024-10-29T03:08:48.719784Z"
    }
   },
   "source": "cel = float(input(\"Celsius degree\"))",
   "outputs": [],
   "execution_count": 1
  },
  {
   "metadata": {
    "ExecuteTime": {
     "end_time": "2024-10-29T03:08:51.245655Z",
     "start_time": "2024-10-29T03:08:51.241263Z"
    }
   },
   "cell_type": "code",
   "source": "fah = (cel/5)*9 + 32",
   "id": "89735cb7d15e32d3",
   "outputs": [],
   "execution_count": 2
  },
  {
   "metadata": {
    "ExecuteTime": {
     "end_time": "2024-10-29T03:08:51.253428Z",
     "start_time": "2024-10-29T03:08:51.245655Z"
    }
   },
   "cell_type": "code",
   "source": "fah",
   "id": "1d0e03c3e84710b",
   "outputs": [
    {
     "data": {
      "text/plain": [
       "89.6"
      ]
     },
     "execution_count": 3,
     "metadata": {},
     "output_type": "execute_result"
    }
   ],
   "execution_count": 3
  }
 ],
 "metadata": {
  "kernelspec": {
   "display_name": "Python 3",
   "language": "python",
   "name": "python3"
  },
  "language_info": {
   "codemirror_mode": {
    "name": "ipython",
    "version": 2
   },
   "file_extension": ".py",
   "mimetype": "text/x-python",
   "name": "python",
   "nbconvert_exporter": "python",
   "pygments_lexer": "ipython2",
   "version": "2.7.6"
  }
 },
 "nbformat": 4,
 "nbformat_minor": 5
}
