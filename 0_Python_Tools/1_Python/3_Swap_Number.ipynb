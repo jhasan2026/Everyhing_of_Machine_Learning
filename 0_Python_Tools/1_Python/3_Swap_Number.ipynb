{
 "cells": [
  {
   "cell_type": "code",
   "id": "initial_id",
   "metadata": {
    "collapsed": true,
    "ExecuteTime": {
     "end_time": "2024-10-29T03:14:07.976190Z",
     "start_time": "2024-10-29T03:14:04.519368Z"
    }
   },
   "source": "x,y = map(int,input(\"Insert a and b\").split())",
   "outputs": [],
   "execution_count": 14
  },
  {
   "metadata": {
    "ExecuteTime": {
     "end_time": "2024-10-29T03:14:07.980313Z",
     "start_time": "2024-10-29T03:14:07.977276Z"
    }
   },
   "cell_type": "code",
   "source": [
    "def swap(a,b):\n",
    "    temp = a\n",
    "    a = b\n",
    "    b = temp\n",
    "    return a,b"
   ],
   "id": "8ca6b23d409aeb2f",
   "outputs": [],
   "execution_count": 15
  },
  {
   "metadata": {
    "ExecuteTime": {
     "end_time": "2024-10-29T03:14:07.987547Z",
     "start_time": "2024-10-29T03:14:07.984374Z"
    }
   },
   "cell_type": "code",
   "source": "x,y = swap(x,y)",
   "id": "f98027063276a709",
   "outputs": [],
   "execution_count": 16
  },
  {
   "metadata": {
    "ExecuteTime": {
     "end_time": "2024-10-29T03:14:08.027442Z",
     "start_time": "2024-10-29T03:14:08.015752Z"
    }
   },
   "cell_type": "code",
   "source": "print(x,y)",
   "id": "c42eea26aa162a2",
   "outputs": [
    {
     "name": "stdout",
     "output_type": "stream",
     "text": [
      "15 10\n"
     ]
    }
   ],
   "execution_count": 17
  }
 ],
 "metadata": {
  "kernelspec": {
   "display_name": "Python 3",
   "language": "python",
   "name": "python3"
  },
  "language_info": {
   "codemirror_mode": {
    "name": "ipython",
    "version": 2
   },
   "file_extension": ".py",
   "mimetype": "text/x-python",
   "name": "python",
   "nbconvert_exporter": "python",
   "pygments_lexer": "ipython2",
   "version": "2.7.6"
  }
 },
 "nbformat": 4,
 "nbformat_minor": 5
}
