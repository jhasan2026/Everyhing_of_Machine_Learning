{
 "cells": [
  {
   "cell_type": "code",
   "id": "initial_id",
   "metadata": {
    "collapsed": true,
    "ExecuteTime": {
     "end_time": "2024-12-22T14:17:06.096878Z",
     "start_time": "2024-12-22T14:17:06.089353Z"
    }
   },
   "source": [
    "import numpy as np\n",
    "import pandas as pd\n",
    "\n",
    "from sklearn.model_selection import train_test_split\n",
    "\n",
    "from sklearn.impute import KNNImputer,SimpleImputer\n",
    "from sklearn.linear_model import LogisticRegression\n",
    "\n",
    "from sklearn.metrics import accuracy_score"
   ],
   "outputs": [],
   "execution_count": 30
  },
  {
   "metadata": {
    "ExecuteTime": {
     "end_time": "2024-12-22T14:17:06.127771Z",
     "start_time": "2024-12-22T14:17:06.111298Z"
    }
   },
   "cell_type": "code",
   "source": [
    "df = pd.read_csv('../train.csv')[['Age','Pclass','Fare','Survived']]\n",
    "df"
   ],
   "id": "bcdd82f9dbbace9d",
   "outputs": [
    {
     "data": {
      "text/plain": [
       "      Age  Pclass     Fare  Survived\n",
       "0    22.0       3   7.2500         0\n",
       "1    38.0       1  71.2833         1\n",
       "2    26.0       3   7.9250         1\n",
       "3    35.0       1  53.1000         1\n",
       "4    35.0       3   8.0500         0\n",
       "..    ...     ...      ...       ...\n",
       "886  27.0       2  13.0000         0\n",
       "887  19.0       1  30.0000         1\n",
       "888   NaN       3  23.4500         0\n",
       "889  26.0       1  30.0000         1\n",
       "890  32.0       3   7.7500         0\n",
       "\n",
       "[891 rows x 4 columns]"
      ],
      "text/html": [
       "<div>\n",
       "<style scoped>\n",
       "    .dataframe tbody tr th:only-of-type {\n",
       "        vertical-align: middle;\n",
       "    }\n",
       "\n",
       "    .dataframe tbody tr th {\n",
       "        vertical-align: top;\n",
       "    }\n",
       "\n",
       "    .dataframe thead th {\n",
       "        text-align: right;\n",
       "    }\n",
       "</style>\n",
       "<table border=\"1\" class=\"dataframe\">\n",
       "  <thead>\n",
       "    <tr style=\"text-align: right;\">\n",
       "      <th></th>\n",
       "      <th>Age</th>\n",
       "      <th>Pclass</th>\n",
       "      <th>Fare</th>\n",
       "      <th>Survived</th>\n",
       "    </tr>\n",
       "  </thead>\n",
       "  <tbody>\n",
       "    <tr>\n",
       "      <th>0</th>\n",
       "      <td>22.0</td>\n",
       "      <td>3</td>\n",
       "      <td>7.2500</td>\n",
       "      <td>0</td>\n",
       "    </tr>\n",
       "    <tr>\n",
       "      <th>1</th>\n",
       "      <td>38.0</td>\n",
       "      <td>1</td>\n",
       "      <td>71.2833</td>\n",
       "      <td>1</td>\n",
       "    </tr>\n",
       "    <tr>\n",
       "      <th>2</th>\n",
       "      <td>26.0</td>\n",
       "      <td>3</td>\n",
       "      <td>7.9250</td>\n",
       "      <td>1</td>\n",
       "    </tr>\n",
       "    <tr>\n",
       "      <th>3</th>\n",
       "      <td>35.0</td>\n",
       "      <td>1</td>\n",
       "      <td>53.1000</td>\n",
       "      <td>1</td>\n",
       "    </tr>\n",
       "    <tr>\n",
       "      <th>4</th>\n",
       "      <td>35.0</td>\n",
       "      <td>3</td>\n",
       "      <td>8.0500</td>\n",
       "      <td>0</td>\n",
       "    </tr>\n",
       "    <tr>\n",
       "      <th>...</th>\n",
       "      <td>...</td>\n",
       "      <td>...</td>\n",
       "      <td>...</td>\n",
       "      <td>...</td>\n",
       "    </tr>\n",
       "    <tr>\n",
       "      <th>886</th>\n",
       "      <td>27.0</td>\n",
       "      <td>2</td>\n",
       "      <td>13.0000</td>\n",
       "      <td>0</td>\n",
       "    </tr>\n",
       "    <tr>\n",
       "      <th>887</th>\n",
       "      <td>19.0</td>\n",
       "      <td>1</td>\n",
       "      <td>30.0000</td>\n",
       "      <td>1</td>\n",
       "    </tr>\n",
       "    <tr>\n",
       "      <th>888</th>\n",
       "      <td>NaN</td>\n",
       "      <td>3</td>\n",
       "      <td>23.4500</td>\n",
       "      <td>0</td>\n",
       "    </tr>\n",
       "    <tr>\n",
       "      <th>889</th>\n",
       "      <td>26.0</td>\n",
       "      <td>1</td>\n",
       "      <td>30.0000</td>\n",
       "      <td>1</td>\n",
       "    </tr>\n",
       "    <tr>\n",
       "      <th>890</th>\n",
       "      <td>32.0</td>\n",
       "      <td>3</td>\n",
       "      <td>7.7500</td>\n",
       "      <td>0</td>\n",
       "    </tr>\n",
       "  </tbody>\n",
       "</table>\n",
       "<p>891 rows × 4 columns</p>\n",
       "</div>"
      ]
     },
     "execution_count": 31,
     "metadata": {},
     "output_type": "execute_result"
    }
   ],
   "execution_count": 31
  },
  {
   "metadata": {
    "ExecuteTime": {
     "end_time": "2024-12-22T14:17:06.144256Z",
     "start_time": "2024-12-22T14:17:06.139393Z"
    }
   },
   "cell_type": "code",
   "source": "df.isnull().mean() * 100",
   "id": "7b65a1a32cedfa2e",
   "outputs": [
    {
     "data": {
      "text/plain": [
       "Age         19.86532\n",
       "Pclass       0.00000\n",
       "Fare         0.00000\n",
       "Survived     0.00000\n",
       "dtype: float64"
      ]
     },
     "execution_count": 32,
     "metadata": {},
     "output_type": "execute_result"
    }
   ],
   "execution_count": 32
  },
  {
   "metadata": {
    "ExecuteTime": {
     "end_time": "2024-12-22T14:17:06.160421Z",
     "start_time": "2024-12-22T14:17:06.154438Z"
    }
   },
   "cell_type": "code",
   "source": [
    "X = df.drop(columns=['Survived'])\n",
    "y = df['Survived']"
   ],
   "id": "85a862e1ccbf37dc",
   "outputs": [],
   "execution_count": 33
  },
  {
   "metadata": {
    "ExecuteTime": {
     "end_time": "2024-12-22T14:17:06.166236Z",
     "start_time": "2024-12-22T14:17:06.160421Z"
    }
   },
   "cell_type": "code",
   "source": "X_train,X_test,y_train,y_test = train_test_split(X,y,test_size=0.2,random_state=2)",
   "id": "3f16089f1ce1b303",
   "outputs": [],
   "execution_count": 34
  },
  {
   "metadata": {},
   "cell_type": "markdown",
   "source": "# Using mean impute",
   "id": "cf4c6837fe0267e7"
  },
  {
   "metadata": {
    "ExecuteTime": {
     "end_time": "2024-12-22T14:17:06.173053Z",
     "start_time": "2024-12-22T14:17:06.166236Z"
    }
   },
   "cell_type": "code",
   "source": [
    "si = SimpleImputer()\n",
    "\n",
    "X_train_trf2 = si.fit_transform(X_train)\n",
    "X_test_trf2 = si.transform(X_test)"
   ],
   "id": "d01757ffd45dd96c",
   "outputs": [],
   "execution_count": 35
  },
  {
   "metadata": {
    "ExecuteTime": {
     "end_time": "2024-12-22T14:17:06.188420Z",
     "start_time": "2024-12-22T14:17:06.179144Z"
    }
   },
   "cell_type": "code",
   "source": [
    "lr = LogisticRegression()\n",
    "\n",
    "lr.fit(X_train_trf2,y_train)\n",
    "\n",
    "y_pred2 = lr.predict(X_test_trf2)\n",
    "\n",
    "accuracy_score(y_test,y_pred2)"
   ],
   "id": "2fc3fed26d27b21b",
   "outputs": [
    {
     "data": {
      "text/plain": [
       "0.6927374301675978"
      ]
     },
     "execution_count": 36,
     "metadata": {},
     "output_type": "execute_result"
    }
   ],
   "execution_count": 36
  },
  {
   "metadata": {},
   "cell_type": "markdown",
   "source": "# Using KNN impute",
   "id": "f6424cee2a30c5d6"
  },
  {
   "metadata": {
    "ExecuteTime": {
     "end_time": "2024-12-22T14:17:06.266142Z",
     "start_time": "2024-12-22T14:17:06.239455Z"
    }
   },
   "cell_type": "code",
   "source": [
    "knn_impute = KNNImputer(n_neighbors=3,weights='distance')\n",
    "\n",
    "X_train_trf = knn_impute.fit_transform(X_train)\n",
    "X_test_trf = knn_impute.transform(X_test)\n",
    "\n",
    "pd.DataFrame(X_test_trf,columns=X_train.columns)"
   ],
   "id": "b2d7e5e5cf35f453",
   "outputs": [
    {
     "data": {
      "text/plain": [
       "           Age  Pclass     Fare\n",
       "0    42.000000     1.0  26.2875\n",
       "1    21.000000     3.0   8.0500\n",
       "2    24.000000     2.0  65.0000\n",
       "3    28.000000     3.0  56.4958\n",
       "4    17.000000     3.0   7.9250\n",
       "..         ...     ...      ...\n",
       "174  24.000000     3.0   8.0500\n",
       "175  22.000000     3.0   9.0000\n",
       "176  27.477003     3.0  69.5500\n",
       "177  26.000000     3.0   7.8958\n",
       "178  29.000000     3.0  10.4625\n",
       "\n",
       "[179 rows x 3 columns]"
      ],
      "text/html": [
       "<div>\n",
       "<style scoped>\n",
       "    .dataframe tbody tr th:only-of-type {\n",
       "        vertical-align: middle;\n",
       "    }\n",
       "\n",
       "    .dataframe tbody tr th {\n",
       "        vertical-align: top;\n",
       "    }\n",
       "\n",
       "    .dataframe thead th {\n",
       "        text-align: right;\n",
       "    }\n",
       "</style>\n",
       "<table border=\"1\" class=\"dataframe\">\n",
       "  <thead>\n",
       "    <tr style=\"text-align: right;\">\n",
       "      <th></th>\n",
       "      <th>Age</th>\n",
       "      <th>Pclass</th>\n",
       "      <th>Fare</th>\n",
       "    </tr>\n",
       "  </thead>\n",
       "  <tbody>\n",
       "    <tr>\n",
       "      <th>0</th>\n",
       "      <td>42.000000</td>\n",
       "      <td>1.0</td>\n",
       "      <td>26.2875</td>\n",
       "    </tr>\n",
       "    <tr>\n",
       "      <th>1</th>\n",
       "      <td>21.000000</td>\n",
       "      <td>3.0</td>\n",
       "      <td>8.0500</td>\n",
       "    </tr>\n",
       "    <tr>\n",
       "      <th>2</th>\n",
       "      <td>24.000000</td>\n",
       "      <td>2.0</td>\n",
       "      <td>65.0000</td>\n",
       "    </tr>\n",
       "    <tr>\n",
       "      <th>3</th>\n",
       "      <td>28.000000</td>\n",
       "      <td>3.0</td>\n",
       "      <td>56.4958</td>\n",
       "    </tr>\n",
       "    <tr>\n",
       "      <th>4</th>\n",
       "      <td>17.000000</td>\n",
       "      <td>3.0</td>\n",
       "      <td>7.9250</td>\n",
       "    </tr>\n",
       "    <tr>\n",
       "      <th>...</th>\n",
       "      <td>...</td>\n",
       "      <td>...</td>\n",
       "      <td>...</td>\n",
       "    </tr>\n",
       "    <tr>\n",
       "      <th>174</th>\n",
       "      <td>24.000000</td>\n",
       "      <td>3.0</td>\n",
       "      <td>8.0500</td>\n",
       "    </tr>\n",
       "    <tr>\n",
       "      <th>175</th>\n",
       "      <td>22.000000</td>\n",
       "      <td>3.0</td>\n",
       "      <td>9.0000</td>\n",
       "    </tr>\n",
       "    <tr>\n",
       "      <th>176</th>\n",
       "      <td>27.477003</td>\n",
       "      <td>3.0</td>\n",
       "      <td>69.5500</td>\n",
       "    </tr>\n",
       "    <tr>\n",
       "      <th>177</th>\n",
       "      <td>26.000000</td>\n",
       "      <td>3.0</td>\n",
       "      <td>7.8958</td>\n",
       "    </tr>\n",
       "    <tr>\n",
       "      <th>178</th>\n",
       "      <td>29.000000</td>\n",
       "      <td>3.0</td>\n",
       "      <td>10.4625</td>\n",
       "    </tr>\n",
       "  </tbody>\n",
       "</table>\n",
       "<p>179 rows × 3 columns</p>\n",
       "</div>"
      ]
     },
     "execution_count": 37,
     "metadata": {},
     "output_type": "execute_result"
    }
   ],
   "execution_count": 37
  },
  {
   "metadata": {
    "ExecuteTime": {
     "end_time": "2024-12-22T14:17:06.335973Z",
     "start_time": "2024-12-22T14:17:06.324481Z"
    }
   },
   "cell_type": "code",
   "source": [
    "lr = LogisticRegression()\n",
    "\n",
    "lr.fit(X_train_trf,y_train)\n",
    "\n",
    "y_pred = lr.predict(X_test_trf)\n",
    "\n",
    "accuracy_score(y_test,y_pred)"
   ],
   "id": "c669546e26ccb06e",
   "outputs": [
    {
     "data": {
      "text/plain": [
       "0.7150837988826816"
      ]
     },
     "execution_count": 38,
     "metadata": {},
     "output_type": "execute_result"
    }
   ],
   "execution_count": 38
  },
  {
   "metadata": {},
   "cell_type": "markdown",
   "source": "# Best KNN Imputer",
   "id": "18ff16ea52566a34"
  },
  {
   "metadata": {
    "ExecuteTime": {
     "end_time": "2024-12-22T14:17:06.342100Z",
     "start_time": "2024-12-22T14:17:06.335973Z"
    }
   },
   "cell_type": "code",
   "source": [
    "nNeighbour = [x for x in range(1,11)]\n",
    "nNeighbour"
   ],
   "id": "d2b34a7087ef6530",
   "outputs": [
    {
     "data": {
      "text/plain": [
       "[1, 2, 3, 4, 5, 6, 7, 8, 9, 10]"
      ]
     },
     "execution_count": 39,
     "metadata": {},
     "output_type": "execute_result"
    }
   ],
   "execution_count": 39
  },
  {
   "metadata": {
    "ExecuteTime": {
     "end_time": "2024-12-22T14:17:06.370857Z",
     "start_time": "2024-12-22T14:17:06.365705Z"
    }
   },
   "cell_type": "code",
   "source": [
    "def bestKNNImputer(X,y,nNeighbour):\n",
    "    X_trainF, X_testF, y_trainF, y_testF =train_test_split(X,y,test_size=0.2,random_state=0)\n",
    "    mini = 0\n",
    "    minK = 0\n",
    "    for neighbour in nNeighbour:\n",
    "        knn = KNNImputer(n_neighbors=neighbour,weights='distance')\n",
    "        \n",
    "        X_train_trfF = knn.fit_transform(X_trainF)\n",
    "        X_test_trfF = knn.transform(X_testF)\n",
    "        \n",
    "        lr = LogisticRegression()\n",
    "        \n",
    "        lr.fit(X_train_trfF,y_trainF)\n",
    "        \n",
    "        y_pred = lr.predict(X_test_trfF)\n",
    "        \n",
    "        acc = accuracy_score(y_testF,y_pred)\n",
    "        \n",
    "        if acc > mini:\n",
    "            mini = acc\n",
    "            minK = neighbour\n",
    "    return minK, mini"
   ],
   "id": "859c8502a1b48385",
   "outputs": [],
   "execution_count": 40
  },
  {
   "metadata": {
    "ExecuteTime": {
     "end_time": "2024-12-22T14:17:06.557080Z",
     "start_time": "2024-12-22T14:17:06.404422Z"
    }
   },
   "cell_type": "code",
   "source": [
    "bestK, accuracy = bestKNNImputer(X=X,y=y,nNeighbour=nNeighbour)\n",
    "bestK, accuracy"
   ],
   "id": "805be803bf31eb81",
   "outputs": [
    {
     "data": {
      "text/plain": [
       "(2, 0.7430167597765364)"
      ]
     },
     "execution_count": 41,
     "metadata": {},
     "output_type": "execute_result"
    }
   ],
   "execution_count": 41
  },
  {
   "metadata": {
    "ExecuteTime": {
     "end_time": "2024-12-22T14:17:06.560728Z",
     "start_time": "2024-12-22T14:17:06.557080Z"
    }
   },
   "cell_type": "code",
   "source": "",
   "id": "f2f69716c4d48153",
   "outputs": [],
   "execution_count": 41
  }
 ],
 "metadata": {
  "kernelspec": {
   "display_name": "Python 3",
   "language": "python",
   "name": "python3"
  },
  "language_info": {
   "codemirror_mode": {
    "name": "ipython",
    "version": 2
   },
   "file_extension": ".py",
   "mimetype": "text/x-python",
   "name": "python",
   "nbconvert_exporter": "python",
   "pygments_lexer": "ipython2",
   "version": "2.7.6"
  }
 },
 "nbformat": 4,
 "nbformat_minor": 5
}
