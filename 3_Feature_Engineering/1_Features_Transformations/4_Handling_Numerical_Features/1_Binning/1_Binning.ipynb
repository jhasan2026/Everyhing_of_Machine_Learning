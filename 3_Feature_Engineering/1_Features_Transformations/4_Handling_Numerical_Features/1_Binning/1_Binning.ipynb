{
 "cells": [
  {
   "cell_type": "code",
   "id": "initial_id",
   "metadata": {
    "collapsed": true,
    "ExecuteTime": {
     "end_time": "2024-11-02T05:06:50.935037Z",
     "start_time": "2024-11-02T05:06:50.930502Z"
    }
   },
   "source": [
    "import numpy as np\n",
    "import pandas as pd\n",
    "import matplotlib.pyplot as plt\n",
    "import seaborn as sns"
   ],
   "outputs": [],
   "execution_count": 26
  },
  {
   "metadata": {
    "ExecuteTime": {
     "end_time": "2024-11-02T05:06:50.979873Z",
     "start_time": "2024-11-02T05:06:50.953358Z"
    }
   },
   "cell_type": "code",
   "source": [
    "df =pd.read_csv('../train.csv',usecols=['Age','Fare','Survived'])\n",
    "df"
   ],
   "id": "eed9179cec3dd804",
   "outputs": [
    {
     "data": {
      "text/plain": [
       "     Survived   Age     Fare\n",
       "0           0  22.0   7.2500\n",
       "1           1  38.0  71.2833\n",
       "2           1  26.0   7.9250\n",
       "3           1  35.0  53.1000\n",
       "4           0  35.0   8.0500\n",
       "..        ...   ...      ...\n",
       "886         0  27.0  13.0000\n",
       "887         1  19.0  30.0000\n",
       "888         0   NaN  23.4500\n",
       "889         1  26.0  30.0000\n",
       "890         0  32.0   7.7500\n",
       "\n",
       "[891 rows x 3 columns]"
      ],
      "text/html": [
       "<div>\n",
       "<style scoped>\n",
       "    .dataframe tbody tr th:only-of-type {\n",
       "        vertical-align: middle;\n",
       "    }\n",
       "\n",
       "    .dataframe tbody tr th {\n",
       "        vertical-align: top;\n",
       "    }\n",
       "\n",
       "    .dataframe thead th {\n",
       "        text-align: right;\n",
       "    }\n",
       "</style>\n",
       "<table border=\"1\" class=\"dataframe\">\n",
       "  <thead>\n",
       "    <tr style=\"text-align: right;\">\n",
       "      <th></th>\n",
       "      <th>Survived</th>\n",
       "      <th>Age</th>\n",
       "      <th>Fare</th>\n",
       "    </tr>\n",
       "  </thead>\n",
       "  <tbody>\n",
       "    <tr>\n",
       "      <th>0</th>\n",
       "      <td>0</td>\n",
       "      <td>22.0</td>\n",
       "      <td>7.2500</td>\n",
       "    </tr>\n",
       "    <tr>\n",
       "      <th>1</th>\n",
       "      <td>1</td>\n",
       "      <td>38.0</td>\n",
       "      <td>71.2833</td>\n",
       "    </tr>\n",
       "    <tr>\n",
       "      <th>2</th>\n",
       "      <td>1</td>\n",
       "      <td>26.0</td>\n",
       "      <td>7.9250</td>\n",
       "    </tr>\n",
       "    <tr>\n",
       "      <th>3</th>\n",
       "      <td>1</td>\n",
       "      <td>35.0</td>\n",
       "      <td>53.1000</td>\n",
       "    </tr>\n",
       "    <tr>\n",
       "      <th>4</th>\n",
       "      <td>0</td>\n",
       "      <td>35.0</td>\n",
       "      <td>8.0500</td>\n",
       "    </tr>\n",
       "    <tr>\n",
       "      <th>...</th>\n",
       "      <td>...</td>\n",
       "      <td>...</td>\n",
       "      <td>...</td>\n",
       "    </tr>\n",
       "    <tr>\n",
       "      <th>886</th>\n",
       "      <td>0</td>\n",
       "      <td>27.0</td>\n",
       "      <td>13.0000</td>\n",
       "    </tr>\n",
       "    <tr>\n",
       "      <th>887</th>\n",
       "      <td>1</td>\n",
       "      <td>19.0</td>\n",
       "      <td>30.0000</td>\n",
       "    </tr>\n",
       "    <tr>\n",
       "      <th>888</th>\n",
       "      <td>0</td>\n",
       "      <td>NaN</td>\n",
       "      <td>23.4500</td>\n",
       "    </tr>\n",
       "    <tr>\n",
       "      <th>889</th>\n",
       "      <td>1</td>\n",
       "      <td>26.0</td>\n",
       "      <td>30.0000</td>\n",
       "    </tr>\n",
       "    <tr>\n",
       "      <th>890</th>\n",
       "      <td>0</td>\n",
       "      <td>32.0</td>\n",
       "      <td>7.7500</td>\n",
       "    </tr>\n",
       "  </tbody>\n",
       "</table>\n",
       "<p>891 rows × 3 columns</p>\n",
       "</div>"
      ]
     },
     "execution_count": 27,
     "metadata": {},
     "output_type": "execute_result"
    }
   ],
   "execution_count": 27
  },
  {
   "metadata": {
    "ExecuteTime": {
     "end_time": "2024-11-02T05:06:51.014370Z",
     "start_time": "2024-11-02T05:06:51.000736Z"
    }
   },
   "cell_type": "code",
   "source": "df.dropna(inplace=True)",
   "id": "3670baec5fd35685",
   "outputs": [],
   "execution_count": 28
  },
  {
   "metadata": {
    "ExecuteTime": {
     "end_time": "2024-11-02T05:06:51.035211Z",
     "start_time": "2024-11-02T05:06:51.016374Z"
    }
   },
   "cell_type": "code",
   "source": "df",
   "id": "b64ddc7254ad906e",
   "outputs": [
    {
     "data": {
      "text/plain": [
       "     Survived   Age     Fare\n",
       "0           0  22.0   7.2500\n",
       "1           1  38.0  71.2833\n",
       "2           1  26.0   7.9250\n",
       "3           1  35.0  53.1000\n",
       "4           0  35.0   8.0500\n",
       "..        ...   ...      ...\n",
       "885         0  39.0  29.1250\n",
       "886         0  27.0  13.0000\n",
       "887         1  19.0  30.0000\n",
       "889         1  26.0  30.0000\n",
       "890         0  32.0   7.7500\n",
       "\n",
       "[714 rows x 3 columns]"
      ],
      "text/html": [
       "<div>\n",
       "<style scoped>\n",
       "    .dataframe tbody tr th:only-of-type {\n",
       "        vertical-align: middle;\n",
       "    }\n",
       "\n",
       "    .dataframe tbody tr th {\n",
       "        vertical-align: top;\n",
       "    }\n",
       "\n",
       "    .dataframe thead th {\n",
       "        text-align: right;\n",
       "    }\n",
       "</style>\n",
       "<table border=\"1\" class=\"dataframe\">\n",
       "  <thead>\n",
       "    <tr style=\"text-align: right;\">\n",
       "      <th></th>\n",
       "      <th>Survived</th>\n",
       "      <th>Age</th>\n",
       "      <th>Fare</th>\n",
       "    </tr>\n",
       "  </thead>\n",
       "  <tbody>\n",
       "    <tr>\n",
       "      <th>0</th>\n",
       "      <td>0</td>\n",
       "      <td>22.0</td>\n",
       "      <td>7.2500</td>\n",
       "    </tr>\n",
       "    <tr>\n",
       "      <th>1</th>\n",
       "      <td>1</td>\n",
       "      <td>38.0</td>\n",
       "      <td>71.2833</td>\n",
       "    </tr>\n",
       "    <tr>\n",
       "      <th>2</th>\n",
       "      <td>1</td>\n",
       "      <td>26.0</td>\n",
       "      <td>7.9250</td>\n",
       "    </tr>\n",
       "    <tr>\n",
       "      <th>3</th>\n",
       "      <td>1</td>\n",
       "      <td>35.0</td>\n",
       "      <td>53.1000</td>\n",
       "    </tr>\n",
       "    <tr>\n",
       "      <th>4</th>\n",
       "      <td>0</td>\n",
       "      <td>35.0</td>\n",
       "      <td>8.0500</td>\n",
       "    </tr>\n",
       "    <tr>\n",
       "      <th>...</th>\n",
       "      <td>...</td>\n",
       "      <td>...</td>\n",
       "      <td>...</td>\n",
       "    </tr>\n",
       "    <tr>\n",
       "      <th>885</th>\n",
       "      <td>0</td>\n",
       "      <td>39.0</td>\n",
       "      <td>29.1250</td>\n",
       "    </tr>\n",
       "    <tr>\n",
       "      <th>886</th>\n",
       "      <td>0</td>\n",
       "      <td>27.0</td>\n",
       "      <td>13.0000</td>\n",
       "    </tr>\n",
       "    <tr>\n",
       "      <th>887</th>\n",
       "      <td>1</td>\n",
       "      <td>19.0</td>\n",
       "      <td>30.0000</td>\n",
       "    </tr>\n",
       "    <tr>\n",
       "      <th>889</th>\n",
       "      <td>1</td>\n",
       "      <td>26.0</td>\n",
       "      <td>30.0000</td>\n",
       "    </tr>\n",
       "    <tr>\n",
       "      <th>890</th>\n",
       "      <td>0</td>\n",
       "      <td>32.0</td>\n",
       "      <td>7.7500</td>\n",
       "    </tr>\n",
       "  </tbody>\n",
       "</table>\n",
       "<p>714 rows × 3 columns</p>\n",
       "</div>"
      ]
     },
     "execution_count": 29,
     "metadata": {},
     "output_type": "execute_result"
    }
   ],
   "execution_count": 29
  },
  {
   "metadata": {
    "ExecuteTime": {
     "end_time": "2024-11-02T05:06:51.039740Z",
     "start_time": "2024-11-02T05:06:51.035211Z"
    }
   },
   "cell_type": "code",
   "source": [
    "X = df.iloc[:, 1:]\n",
    "y = df.iloc[:, 0]"
   ],
   "id": "eb6a077d8548498b",
   "outputs": [],
   "execution_count": 30
  },
  {
   "metadata": {
    "ExecuteTime": {
     "end_time": "2024-11-02T05:06:51.045014Z",
     "start_time": "2024-11-02T05:06:51.039740Z"
    }
   },
   "cell_type": "code",
   "source": [
    "from sklearn.model_selection import train_test_split\n",
    "X_train, X_test, y_train, y_test = train_test_split(X, y, test_size=0.2, random_state=42)"
   ],
   "id": "421e1a7fbe1f52d6",
   "outputs": [],
   "execution_count": 31
  },
  {
   "metadata": {},
   "cell_type": "markdown",
   "source": "### Without using binning",
   "id": "f9d8e62273e8a1e7"
  },
  {
   "metadata": {
    "ExecuteTime": {
     "end_time": "2024-11-02T05:06:51.054095Z",
     "start_time": "2024-11-02T05:06:51.045014Z"
    }
   },
   "cell_type": "code",
   "source": [
    "from sklearn.tree import DecisionTreeClassifier\n",
    "from sklearn.metrics import accuracy_score\n",
    "dtc = DecisionTreeClassifier()\n",
    "dtc.fit(X_train,y_train)\n",
    "y_pred = dtc.predict(X_test)\n",
    "accuracy_score(y_test,y_pred)"
   ],
   "id": "bea1e5eeb5313444",
   "outputs": [
    {
     "data": {
      "text/plain": [
       "0.6293706293706294"
      ]
     },
     "execution_count": 32,
     "metadata": {},
     "output_type": "execute_result"
    }
   ],
   "execution_count": 32
  },
  {
   "metadata": {
    "ExecuteTime": {
     "end_time": "2024-11-02T05:06:51.076899Z",
     "start_time": "2024-11-02T05:06:51.054095Z"
    }
   },
   "cell_type": "code",
   "source": [
    "from sklearn.model_selection import cross_val_score\n",
    "np.mean(cross_val_score(DecisionTreeClassifier(),X,y,scoring='accuracy'))"
   ],
   "id": "49f6ae5d8d923ada",
   "outputs": [
    {
     "data": {
      "text/plain": [
       "0.6246528119767557"
      ]
     },
     "execution_count": 33,
     "metadata": {},
     "output_type": "execute_result"
    }
   ],
   "execution_count": 33
  },
  {
   "metadata": {},
   "cell_type": "markdown",
   "source": "# Using Binning (lets uniform)",
   "id": "c03560ad0d7a569b"
  },
  {
   "metadata": {
    "ExecuteTime": {
     "end_time": "2024-11-02T05:06:51.081390Z",
     "start_time": "2024-11-02T05:06:51.076899Z"
    }
   },
   "cell_type": "code",
   "source": [
    "from sklearn.preprocessing import KBinsDiscretizer\n",
    "age_kbins = KBinsDiscretizer(encode='ordinal',n_bins=10,strategy='uniform')\n",
    "fare_kbins = KBinsDiscretizer(encode='ordinal',n_bins=10,strategy='uniform')"
   ],
   "id": "dccdebae0ffecc94",
   "outputs": [],
   "execution_count": 34
  },
  {
   "metadata": {
    "ExecuteTime": {
     "end_time": "2024-11-02T05:06:51.147901Z",
     "start_time": "2024-11-02T05:06:51.143023Z"
    }
   },
   "cell_type": "code",
   "source": [
    "from sklearn.compose import ColumnTransformer\n",
    "trf = ColumnTransformer([\n",
    "    ('age',age_kbins,[0]),\n",
    "    ('fare',fare_kbins,[1])\n",
    "])"
   ],
   "id": "c47cb5bdf2e059d1",
   "outputs": [],
   "execution_count": 35
  },
  {
   "metadata": {
    "ExecuteTime": {
     "end_time": "2024-11-02T05:06:51.218101Z",
     "start_time": "2024-11-02T05:06:51.196630Z"
    }
   },
   "cell_type": "code",
   "source": [
    "X_train_trf = trf.fit_transform(X_train)\n",
    "X_test_trf = trf.transform(X_test)"
   ],
   "id": "68a580922f739d10",
   "outputs": [],
   "execution_count": 36
  },
  {
   "metadata": {
    "ExecuteTime": {
     "end_time": "2024-11-02T05:06:51.234908Z",
     "start_time": "2024-11-02T05:06:51.228106Z"
    }
   },
   "cell_type": "code",
   "source": [
    "dtc2 = DecisionTreeClassifier()\n",
    "dtc2.fit(X_train_trf,y_train)\n",
    "y_pred2 = dtc2.predict(X_test_trf)\n",
    "accuracy_score(y_test,y_pred2)"
   ],
   "id": "c136e59fdff1e87f",
   "outputs": [
    {
     "data": {
      "text/plain": [
       "0.6783216783216783"
      ]
     },
     "execution_count": 37,
     "metadata": {},
     "output_type": "execute_result"
    }
   ],
   "execution_count": 37
  },
  {
   "metadata": {},
   "cell_type": "markdown",
   "source": "##### check some property",
   "id": "924b21f3c042299a"
  },
  {
   "metadata": {
    "ExecuteTime": {
     "end_time": "2024-11-02T05:06:51.325847Z",
     "start_time": "2024-11-02T05:06:51.306423Z"
    }
   },
   "cell_type": "code",
   "source": "trf.named_transformers_",
   "id": "62451e72bc9e8064",
   "outputs": [
    {
     "data": {
      "text/plain": [
       "{'age': KBinsDiscretizer(encode='ordinal', n_bins=10, strategy='uniform'),\n",
       " 'fare': KBinsDiscretizer(encode='ordinal', n_bins=10, strategy='uniform')}"
      ]
     },
     "execution_count": 38,
     "metadata": {},
     "output_type": "execute_result"
    }
   ],
   "execution_count": 38
  },
  {
   "metadata": {
    "ExecuteTime": {
     "end_time": "2024-11-02T05:06:51.343316Z",
     "start_time": "2024-11-02T05:06:51.337851Z"
    }
   },
   "cell_type": "code",
   "source": "trf.named_transformers_['age'].n_bins_",
   "id": "ddd86276652c0873",
   "outputs": [
    {
     "data": {
      "text/plain": [
       "array([10])"
      ]
     },
     "execution_count": 39,
     "metadata": {},
     "output_type": "execute_result"
    }
   ],
   "execution_count": 39
  },
  {
   "metadata": {
    "ExecuteTime": {
     "end_time": "2024-11-02T05:06:51.414846Z",
     "start_time": "2024-11-02T05:06:51.409312Z"
    }
   },
   "cell_type": "code",
   "source": "trf.named_transformers_['age'].bin_edges_",
   "id": "b0450a372b8756e4",
   "outputs": [
    {
     "data": {
      "text/plain": [
       "array([array([ 0.42 ,  8.378, 16.336, 24.294, 32.252, 40.21 , 48.168, 56.126,\n",
       "              64.084, 72.042, 80.   ])                                       ],\n",
       "      dtype=object)"
      ]
     },
     "execution_count": 40,
     "metadata": {},
     "output_type": "execute_result"
    }
   ],
   "execution_count": 40
  },
  {
   "metadata": {
    "ExecuteTime": {
     "end_time": "2024-11-02T05:06:51.439696Z",
     "start_time": "2024-11-02T05:06:51.425349Z"
    }
   },
   "cell_type": "code",
   "source": [
    "info = pd.DataFrame({\n",
    "    'age':X_train['Age'],\n",
    "    'age_trf':X_train_trf[:,0],\n",
    "    \n",
    "    'fare':X_train['Fare'],\n",
    "    'fare_trf':X_train_trf[:,0],\n",
    "})"
   ],
   "id": "fbcc66f959dbe99f",
   "outputs": [],
   "execution_count": 41
  },
  {
   "metadata": {
    "ExecuteTime": {
     "end_time": "2024-11-02T05:06:51.452131Z",
     "start_time": "2024-11-02T05:06:51.441200Z"
    }
   },
   "cell_type": "code",
   "source": "info",
   "id": "f7b290d44369b4dd",
   "outputs": [
    {
     "data": {
      "text/plain": [
       "      age  age_trf      fare  fare_trf\n",
       "328  31.0      3.0   20.5250       3.0\n",
       "73   26.0      3.0   14.4542       3.0\n",
       "253  30.0      3.0   16.1000       3.0\n",
       "719  33.0      4.0    7.7750       4.0\n",
       "666  25.0      3.0   13.0000       3.0\n",
       "..    ...      ...       ...       ...\n",
       "92   46.0      5.0   61.1750       5.0\n",
       "134  25.0      3.0   13.0000       3.0\n",
       "337  41.0      5.0  134.5000       5.0\n",
       "548  33.0      4.0   20.5250       4.0\n",
       "130  33.0      4.0    7.8958       4.0\n",
       "\n",
       "[571 rows x 4 columns]"
      ],
      "text/html": [
       "<div>\n",
       "<style scoped>\n",
       "    .dataframe tbody tr th:only-of-type {\n",
       "        vertical-align: middle;\n",
       "    }\n",
       "\n",
       "    .dataframe tbody tr th {\n",
       "        vertical-align: top;\n",
       "    }\n",
       "\n",
       "    .dataframe thead th {\n",
       "        text-align: right;\n",
       "    }\n",
       "</style>\n",
       "<table border=\"1\" class=\"dataframe\">\n",
       "  <thead>\n",
       "    <tr style=\"text-align: right;\">\n",
       "      <th></th>\n",
       "      <th>age</th>\n",
       "      <th>age_trf</th>\n",
       "      <th>fare</th>\n",
       "      <th>fare_trf</th>\n",
       "    </tr>\n",
       "  </thead>\n",
       "  <tbody>\n",
       "    <tr>\n",
       "      <th>328</th>\n",
       "      <td>31.0</td>\n",
       "      <td>3.0</td>\n",
       "      <td>20.5250</td>\n",
       "      <td>3.0</td>\n",
       "    </tr>\n",
       "    <tr>\n",
       "      <th>73</th>\n",
       "      <td>26.0</td>\n",
       "      <td>3.0</td>\n",
       "      <td>14.4542</td>\n",
       "      <td>3.0</td>\n",
       "    </tr>\n",
       "    <tr>\n",
       "      <th>253</th>\n",
       "      <td>30.0</td>\n",
       "      <td>3.0</td>\n",
       "      <td>16.1000</td>\n",
       "      <td>3.0</td>\n",
       "    </tr>\n",
       "    <tr>\n",
       "      <th>719</th>\n",
       "      <td>33.0</td>\n",
       "      <td>4.0</td>\n",
       "      <td>7.7750</td>\n",
       "      <td>4.0</td>\n",
       "    </tr>\n",
       "    <tr>\n",
       "      <th>666</th>\n",
       "      <td>25.0</td>\n",
       "      <td>3.0</td>\n",
       "      <td>13.0000</td>\n",
       "      <td>3.0</td>\n",
       "    </tr>\n",
       "    <tr>\n",
       "      <th>...</th>\n",
       "      <td>...</td>\n",
       "      <td>...</td>\n",
       "      <td>...</td>\n",
       "      <td>...</td>\n",
       "    </tr>\n",
       "    <tr>\n",
       "      <th>92</th>\n",
       "      <td>46.0</td>\n",
       "      <td>5.0</td>\n",
       "      <td>61.1750</td>\n",
       "      <td>5.0</td>\n",
       "    </tr>\n",
       "    <tr>\n",
       "      <th>134</th>\n",
       "      <td>25.0</td>\n",
       "      <td>3.0</td>\n",
       "      <td>13.0000</td>\n",
       "      <td>3.0</td>\n",
       "    </tr>\n",
       "    <tr>\n",
       "      <th>337</th>\n",
       "      <td>41.0</td>\n",
       "      <td>5.0</td>\n",
       "      <td>134.5000</td>\n",
       "      <td>5.0</td>\n",
       "    </tr>\n",
       "    <tr>\n",
       "      <th>548</th>\n",
       "      <td>33.0</td>\n",
       "      <td>4.0</td>\n",
       "      <td>20.5250</td>\n",
       "      <td>4.0</td>\n",
       "    </tr>\n",
       "    <tr>\n",
       "      <th>130</th>\n",
       "      <td>33.0</td>\n",
       "      <td>4.0</td>\n",
       "      <td>7.8958</td>\n",
       "      <td>4.0</td>\n",
       "    </tr>\n",
       "  </tbody>\n",
       "</table>\n",
       "<p>571 rows × 4 columns</p>\n",
       "</div>"
      ]
     },
     "execution_count": 42,
     "metadata": {},
     "output_type": "execute_result"
    }
   ],
   "execution_count": 42
  },
  {
   "metadata": {
    "ExecuteTime": {
     "end_time": "2024-11-02T05:07:10.293223Z",
     "start_time": "2024-11-02T05:07:10.270963Z"
    }
   },
   "cell_type": "code",
   "source": [
    "info['Age_labels'] = pd.cut(x=X_train['Age'],bins=trf.named_transformers_['age'].bin_edges_[0].tolist())\n",
    "info['Fare_labels'] = pd.cut(x=X_train['Fare'],bins=trf.named_transformers_['fare'].bin_edges_[0].tolist())\n",
    "info"
   ],
   "id": "45f793b3780a1589",
   "outputs": [
    {
     "data": {
      "text/plain": [
       "      age  age_trf      fare  fare_trf        Age_labels         Fare_labels\n",
       "328  31.0      3.0   20.5250       3.0  (24.294, 32.252]       (0.0, 51.233]\n",
       "73   26.0      3.0   14.4542       3.0  (24.294, 32.252]       (0.0, 51.233]\n",
       "253  30.0      3.0   16.1000       3.0  (24.294, 32.252]       (0.0, 51.233]\n",
       "719  33.0      4.0    7.7750       4.0   (32.252, 40.21]       (0.0, 51.233]\n",
       "666  25.0      3.0   13.0000       3.0  (24.294, 32.252]       (0.0, 51.233]\n",
       "..    ...      ...       ...       ...               ...                 ...\n",
       "92   46.0      5.0   61.1750       5.0   (40.21, 48.168]   (51.233, 102.466]\n",
       "134  25.0      3.0   13.0000       3.0  (24.294, 32.252]       (0.0, 51.233]\n",
       "337  41.0      5.0  134.5000       5.0   (40.21, 48.168]  (102.466, 153.699]\n",
       "548  33.0      4.0   20.5250       4.0   (32.252, 40.21]       (0.0, 51.233]\n",
       "130  33.0      4.0    7.8958       4.0   (32.252, 40.21]       (0.0, 51.233]\n",
       "\n",
       "[571 rows x 6 columns]"
      ],
      "text/html": [
       "<div>\n",
       "<style scoped>\n",
       "    .dataframe tbody tr th:only-of-type {\n",
       "        vertical-align: middle;\n",
       "    }\n",
       "\n",
       "    .dataframe tbody tr th {\n",
       "        vertical-align: top;\n",
       "    }\n",
       "\n",
       "    .dataframe thead th {\n",
       "        text-align: right;\n",
       "    }\n",
       "</style>\n",
       "<table border=\"1\" class=\"dataframe\">\n",
       "  <thead>\n",
       "    <tr style=\"text-align: right;\">\n",
       "      <th></th>\n",
       "      <th>age</th>\n",
       "      <th>age_trf</th>\n",
       "      <th>fare</th>\n",
       "      <th>fare_trf</th>\n",
       "      <th>Age_labels</th>\n",
       "      <th>Fare_labels</th>\n",
       "    </tr>\n",
       "  </thead>\n",
       "  <tbody>\n",
       "    <tr>\n",
       "      <th>328</th>\n",
       "      <td>31.0</td>\n",
       "      <td>3.0</td>\n",
       "      <td>20.5250</td>\n",
       "      <td>3.0</td>\n",
       "      <td>(24.294, 32.252]</td>\n",
       "      <td>(0.0, 51.233]</td>\n",
       "    </tr>\n",
       "    <tr>\n",
       "      <th>73</th>\n",
       "      <td>26.0</td>\n",
       "      <td>3.0</td>\n",
       "      <td>14.4542</td>\n",
       "      <td>3.0</td>\n",
       "      <td>(24.294, 32.252]</td>\n",
       "      <td>(0.0, 51.233]</td>\n",
       "    </tr>\n",
       "    <tr>\n",
       "      <th>253</th>\n",
       "      <td>30.0</td>\n",
       "      <td>3.0</td>\n",
       "      <td>16.1000</td>\n",
       "      <td>3.0</td>\n",
       "      <td>(24.294, 32.252]</td>\n",
       "      <td>(0.0, 51.233]</td>\n",
       "    </tr>\n",
       "    <tr>\n",
       "      <th>719</th>\n",
       "      <td>33.0</td>\n",
       "      <td>4.0</td>\n",
       "      <td>7.7750</td>\n",
       "      <td>4.0</td>\n",
       "      <td>(32.252, 40.21]</td>\n",
       "      <td>(0.0, 51.233]</td>\n",
       "    </tr>\n",
       "    <tr>\n",
       "      <th>666</th>\n",
       "      <td>25.0</td>\n",
       "      <td>3.0</td>\n",
       "      <td>13.0000</td>\n",
       "      <td>3.0</td>\n",
       "      <td>(24.294, 32.252]</td>\n",
       "      <td>(0.0, 51.233]</td>\n",
       "    </tr>\n",
       "    <tr>\n",
       "      <th>...</th>\n",
       "      <td>...</td>\n",
       "      <td>...</td>\n",
       "      <td>...</td>\n",
       "      <td>...</td>\n",
       "      <td>...</td>\n",
       "      <td>...</td>\n",
       "    </tr>\n",
       "    <tr>\n",
       "      <th>92</th>\n",
       "      <td>46.0</td>\n",
       "      <td>5.0</td>\n",
       "      <td>61.1750</td>\n",
       "      <td>5.0</td>\n",
       "      <td>(40.21, 48.168]</td>\n",
       "      <td>(51.233, 102.466]</td>\n",
       "    </tr>\n",
       "    <tr>\n",
       "      <th>134</th>\n",
       "      <td>25.0</td>\n",
       "      <td>3.0</td>\n",
       "      <td>13.0000</td>\n",
       "      <td>3.0</td>\n",
       "      <td>(24.294, 32.252]</td>\n",
       "      <td>(0.0, 51.233]</td>\n",
       "    </tr>\n",
       "    <tr>\n",
       "      <th>337</th>\n",
       "      <td>41.0</td>\n",
       "      <td>5.0</td>\n",
       "      <td>134.5000</td>\n",
       "      <td>5.0</td>\n",
       "      <td>(40.21, 48.168]</td>\n",
       "      <td>(102.466, 153.699]</td>\n",
       "    </tr>\n",
       "    <tr>\n",
       "      <th>548</th>\n",
       "      <td>33.0</td>\n",
       "      <td>4.0</td>\n",
       "      <td>20.5250</td>\n",
       "      <td>4.0</td>\n",
       "      <td>(32.252, 40.21]</td>\n",
       "      <td>(0.0, 51.233]</td>\n",
       "    </tr>\n",
       "    <tr>\n",
       "      <th>130</th>\n",
       "      <td>33.0</td>\n",
       "      <td>4.0</td>\n",
       "      <td>7.8958</td>\n",
       "      <td>4.0</td>\n",
       "      <td>(32.252, 40.21]</td>\n",
       "      <td>(0.0, 51.233]</td>\n",
       "    </tr>\n",
       "  </tbody>\n",
       "</table>\n",
       "<p>571 rows × 6 columns</p>\n",
       "</div>"
      ]
     },
     "execution_count": 44,
     "metadata": {},
     "output_type": "execute_result"
    }
   ],
   "execution_count": 44
  },
  {
   "metadata": {},
   "cell_type": "markdown",
   "source": "# Function for binarization",
   "id": "548018afd4e46d68"
  },
  {
   "metadata": {
    "ExecuteTime": {
     "end_time": "2024-11-02T05:19:37.191918Z",
     "start_time": "2024-11-02T05:19:37.186436Z"
    }
   },
   "cell_type": "code",
   "source": [
    "def binarization(bins,strategy):\n",
    "    age_kbins = KBinsDiscretizer(encode='ordinal',n_bins=bins,strategy=strategy)\n",
    "    fare_kbins = KBinsDiscretizer(encode='ordinal',n_bins=bins,strategy=strategy)\n",
    "    \n",
    "    trf = ColumnTransformer([\n",
    "        ('age',age_kbins,[0]),\n",
    "        ('fare',fare_kbins,[1]),\n",
    "    ])\n",
    "    \n",
    "    X_trf = trf.fit_transform(X)\n",
    "    print(np.mean(cross_val_score(DecisionTreeClassifier(),X,y,scoring='accuracy')))\n",
    "    \n",
    "    plt.figure(figsize=(16,10))\n",
    "    plt.subplot(221)\n",
    "    plt.hist(X['Age'])\n",
    "    \n",
    "    plt.subplot(222)\n",
    "    plt.hist(X_trf[:,0],color='green')\n",
    "    \n",
    "    plt.subplot(223)\n",
    "    plt.hist(X['Fare'])\n",
    "    \n",
    "    plt.subplot(224)\n",
    "    plt.hist(X_trf[:,1],color='green')\n",
    "    \n",
    "    plt.show()\n",
    "    "
   ],
   "id": "b1207bbbe78c373a",
   "outputs": [],
   "execution_count": 47
  },
  {
   "metadata": {
    "ExecuteTime": {
     "end_time": "2024-11-02T05:19:38.862456Z",
     "start_time": "2024-11-02T05:19:38.352539Z"
    }
   },
   "cell_type": "code",
   "source": "binarization(10,'uniform')",
   "id": "d876aa50325bf47d",
   "outputs": [
    {
     "name": "stdout",
     "output_type": "stream",
     "text": [
      "0.6218556091795528\n"
     ]
    },
    {
     "data": {
      "text/plain": [
       "<Figure size 1600x1000 with 4 Axes>"
      ],
      "image/png": "[encoded data removed]"
     },
     "metadata": {},
     "output_type": "display_data"
    }
   ],
   "execution_count": 48
  },
  {
   "metadata": {
    "ExecuteTime": {
     "end_time": "2024-11-02T05:20:14.544342Z",
     "start_time": "2024-11-02T05:20:14.019077Z"
    }
   },
   "cell_type": "code",
   "source": "binarization(15,'quantile')",
   "id": "99017c2a17b0ea9",
   "outputs": [
    {
     "name": "stdout",
     "output_type": "stream",
     "text": [
      "0.6176499556781246\n"
     ]
    },
    {
     "data": {
      "text/plain": [
       "<Figure size 1600x1000 with 4 Axes>"
      ],
      "image/png": "[encoded data removed]"
     },
     "metadata": {},
     "output_type": "display_data"
    }
   ],
   "execution_count": 50
  },
  {
   "metadata": {
    "ExecuteTime": {
     "end_time": "2024-11-02T05:20:32.869398Z",
     "start_time": "2024-11-02T05:20:31.907542Z"
    }
   },
   "cell_type": "code",
   "source": "binarization(15,'kmeans')",
   "id": "5f84b7cefd9c65b7",
   "outputs": [
    {
     "name": "stderr",
     "output_type": "stream",
     "text": [
      "C:\\Users\\HP TECHNOLOGY\\anaconda3\\Lib\\site-packages\\sklearn\\cluster\\_kmeans.py:1382: UserWarning: KMeans is known to have a memory leak on Windows with MKL, when there are less chunks than available threads. You can avoid it by setting the environment variable OMP_NUM_THREADS=3.\n",
      "  warnings.warn(\n",
      "C:\\Users\\HP TECHNOLOGY\\anaconda3\\Lib\\site-packages\\sklearn\\cluster\\_kmeans.py:1382: UserWarning: KMeans is known to have a memory leak on Windows with MKL, when there are less chunks than available threads. You can avoid it by setting the environment variable OMP_NUM_THREADS=3.\n",
      "  warnings.warn(\n"
     ]
    },
    {
     "name": "stdout",
     "output_type": "stream",
     "text": [
      "0.6148527528809219\n"
     ]
    },
    {
     "data": {
      "text/plain": [
       "<Figure size 1600x1000 with 4 Axes>"
      ],
      "image/png": "[encoded data removed]"
     },
     "metadata": {},
     "output_type": "display_data"
    }
   ],
   "execution_count": 51
  },
  {
   "metadata": {},
   "cell_type": "code",
   "outputs": [],
   "execution_count": null,
   "source": "",
   "id": "1faeb370f5355ad5"
  }
 ],
 "metadata": {
  "kernelspec": {
   "display_name": "Python 3",
   "language": "python",
   "name": "python3"
  },
  "language_info": {
   "codemirror_mode": {
    "name": "ipython",
    "version": 2
   },
   "file_extension": ".py",
   "mimetype": "text/x-python",
   "name": "python",
   "nbconvert_exporter": "python",
   "pygments_lexer": "ipython2",
   "version": "2.7.6"
  }
 },
 "nbformat": 4,
 "nbformat_minor": 5
}
