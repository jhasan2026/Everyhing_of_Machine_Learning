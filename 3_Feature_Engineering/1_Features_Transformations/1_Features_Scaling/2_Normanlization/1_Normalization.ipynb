{
 "cells": [
  {
   "cell_type": "code",
   "id": "initial_id",
   "metadata": {
    "collapsed": true,
    "ExecuteTime": {
     "end_time": "2024-10-31T05:18:22.566607Z",
     "start_time": "2024-10-31T05:18:22.559763Z"
    }
   },
   "source": [
    "import numpy as np\n",
    "import pandas as pd\n",
    "import matplotlib.pyplot as plt\n",
    "import seaborn as sns"
   ],
   "outputs": [],
   "execution_count": 20
  },
  {
   "metadata": {
    "ExecuteTime": {
     "end_time": "2024-10-31T05:18:22.577487Z",
     "start_time": "2024-10-31T05:18:22.566607Z"
    }
   },
   "cell_type": "code",
   "source": [
    "df = pd.read_csv('wine_data.csv',usecols=[0,1,2],header=None,names=['Class label', 'Alcohol', 'Malic acid'])\n",
    "df"
   ],
   "id": "f5d781df75de564a",
   "outputs": [
    {
     "data": {
      "text/plain": [
       "     Class label  Alcohol  Malic acid\n",
       "0              1    14.23        1.71\n",
       "1              1    13.20        1.78\n",
       "2              1    13.16        2.36\n",
       "3              1    14.37        1.95\n",
       "4              1    13.24        2.59\n",
       "..           ...      ...         ...\n",
       "173            3    13.71        5.65\n",
       "174            3    13.40        3.91\n",
       "175            3    13.27        4.28\n",
       "176            3    13.17        2.59\n",
       "177            3    14.13        4.10\n",
       "\n",
       "[178 rows x 3 columns]"
      ],
      "text/html": [
       "<div>\n",
       "<style scoped>\n",
       "    .dataframe tbody tr th:only-of-type {\n",
       "        vertical-align: middle;\n",
       "    }\n",
       "\n",
       "    .dataframe tbody tr th {\n",
       "        vertical-align: top;\n",
       "    }\n",
       "\n",
       "    .dataframe thead th {\n",
       "        text-align: right;\n",
       "    }\n",
       "</style>\n",
       "<table border=\"1\" class=\"dataframe\">\n",
       "  <thead>\n",
       "    <tr style=\"text-align: right;\">\n",
       "      <th></th>\n",
       "      <th>Class label</th>\n",
       "      <th>Alcohol</th>\n",
       "      <th>Malic acid</th>\n",
       "    </tr>\n",
       "  </thead>\n",
       "  <tbody>\n",
       "    <tr>\n",
       "      <th>0</th>\n",
       "      <td>1</td>\n",
       "      <td>14.23</td>\n",
       "      <td>1.71</td>\n",
       "    </tr>\n",
       "    <tr>\n",
       "      <th>1</th>\n",
       "      <td>1</td>\n",
       "      <td>13.20</td>\n",
       "      <td>1.78</td>\n",
       "    </tr>\n",
       "    <tr>\n",
       "      <th>2</th>\n",
       "      <td>1</td>\n",
       "      <td>13.16</td>\n",
       "      <td>2.36</td>\n",
       "    </tr>\n",
       "    <tr>\n",
       "      <th>3</th>\n",
       "      <td>1</td>\n",
       "      <td>14.37</td>\n",
       "      <td>1.95</td>\n",
       "    </tr>\n",
       "    <tr>\n",
       "      <th>4</th>\n",
       "      <td>1</td>\n",
       "      <td>13.24</td>\n",
       "      <td>2.59</td>\n",
       "    </tr>\n",
       "    <tr>\n",
       "      <th>...</th>\n",
       "      <td>...</td>\n",
       "      <td>...</td>\n",
       "      <td>...</td>\n",
       "    </tr>\n",
       "    <tr>\n",
       "      <th>173</th>\n",
       "      <td>3</td>\n",
       "      <td>13.71</td>\n",
       "      <td>5.65</td>\n",
       "    </tr>\n",
       "    <tr>\n",
       "      <th>174</th>\n",
       "      <td>3</td>\n",
       "      <td>13.40</td>\n",
       "      <td>3.91</td>\n",
       "    </tr>\n",
       "    <tr>\n",
       "      <th>175</th>\n",
       "      <td>3</td>\n",
       "      <td>13.27</td>\n",
       "      <td>4.28</td>\n",
       "    </tr>\n",
       "    <tr>\n",
       "      <th>176</th>\n",
       "      <td>3</td>\n",
       "      <td>13.17</td>\n",
       "      <td>2.59</td>\n",
       "    </tr>\n",
       "    <tr>\n",
       "      <th>177</th>\n",
       "      <td>3</td>\n",
       "      <td>14.13</td>\n",
       "      <td>4.10</td>\n",
       "    </tr>\n",
       "  </tbody>\n",
       "</table>\n",
       "<p>178 rows × 3 columns</p>\n",
       "</div>"
      ]
     },
     "execution_count": 21,
     "metadata": {},
     "output_type": "execute_result"
    }
   ],
   "execution_count": 21
  },
  {
   "metadata": {
    "ExecuteTime": {
     "end_time": "2024-10-31T05:18:22.848800Z",
     "start_time": "2024-10-31T05:18:22.577487Z"
    }
   },
   "cell_type": "code",
   "source": "sns.displot(kind='kde',data=df,x='Alcohol')",
   "id": "310d448ab570d678",
   "outputs": [
    {
     "name": "stderr",
     "output_type": "stream",
     "text": [
      "C:\\Users\\HP TECHNOLOGY\\anaconda3\\Lib\\site-packages\\seaborn\\_oldcore.py:1119: FutureWarning: use_inf_as_na option is deprecated and will be removed in a future version. Convert inf values to NaN before operating instead.\n",
      "  with pd.option_context('mode.use_inf_as_na', True):\n"
     ]
    },
    {
     "data": {
      "text/plain": [
       "<seaborn.axisgrid.FacetGrid at 0x2b84106e650>"
      ]
     },
     "execution_count": 22,
     "metadata": {},
     "output_type": "execute_result"
    },
    {
     "data": {
      "text/plain": [
       "<Figure size 500x500 with 1 Axes>"
      ],
      "image/png": "[encoded data removed]"
     },
     "metadata": {},
     "output_type": "display_data"
    }
   ],
   "execution_count": 22
  },
  {
   "metadata": {
    "ExecuteTime": {
     "end_time": "2024-10-31T05:18:23.235067Z",
     "start_time": "2024-10-31T05:18:22.848800Z"
    }
   },
   "cell_type": "code",
   "source": "sns.displot(kind='kde',data=df,x='Malic acid')",
   "id": "896e103cd20416b",
   "outputs": [
    {
     "name": "stderr",
     "output_type": "stream",
     "text": [
      "C:\\Users\\HP TECHNOLOGY\\anaconda3\\Lib\\site-packages\\seaborn\\_oldcore.py:1119: FutureWarning: use_inf_as_na option is deprecated and will be removed in a future version. Convert inf values to NaN before operating instead.\n",
      "  with pd.option_context('mode.use_inf_as_na', True):\n"
     ]
    },
    {
     "data": {
      "text/plain": [
       "<seaborn.axisgrid.FacetGrid at 0x2b84107c150>"
      ]
     },
     "execution_count": 23,
     "metadata": {},
     "output_type": "execute_result"
    },
    {
     "data": {
      "text/plain": [
       "<Figure size 500x500 with 1 Axes>"
      ],
      "image/png": "[encoded data removed]"
     },
     "metadata": {},
     "output_type": "display_data"
    }
   ],
   "execution_count": 23
  },
  {
   "metadata": {
    "ExecuteTime": {
     "end_time": "2024-10-31T05:18:23.640958Z",
     "start_time": "2024-10-31T05:18:23.235067Z"
    }
   },
   "cell_type": "code",
   "source": [
    "color_dict={1:'red',3:'green',2:'blue'}\n",
    "sns.relplot(kind='scatter',data=df,x='Alcohol',y='Malic acid',hue='Class label',palette=color_dict)"
   ],
   "id": "a07d5ef6019ecaf4",
   "outputs": [
    {
     "data": {
      "text/plain": [
       "<seaborn.axisgrid.FacetGrid at 0x2b8418ca050>"
      ]
     },
     "execution_count": 24,
     "metadata": {},
     "output_type": "execute_result"
    },
    {
     "data": {
      "text/plain": [
       "<Figure size 579.236x500 with 1 Axes>"
      ],
      "image/png": "[encoded data removed]"
     },
     "metadata": {},
     "output_type": "display_data"
    }
   ],
   "execution_count": 24
  },
  {
   "metadata": {
    "ExecuteTime": {
     "end_time": "2024-10-31T05:18:23.646350Z",
     "start_time": "2024-10-31T05:18:23.640958Z"
    }
   },
   "cell_type": "code",
   "source": [
    "from sklearn.model_selection import train_test_split\n",
    "X_train, X_test, y_train, y_test = train_test_split(df.drop('Class label',axis=1),df['Class label'],test_size=0.2,random_state=0)"
   ],
   "id": "32e456e0552928d7",
   "outputs": [],
   "execution_count": 25
  },
  {
   "metadata": {
    "ExecuteTime": {
     "end_time": "2024-10-31T05:18:23.651297Z",
     "start_time": "2024-10-31T05:18:23.646350Z"
    }
   },
   "cell_type": "code",
   "source": [
    "print(X_train.shape)\n",
    "print(X_test.shape)\n",
    "print(y_train.shape)\n",
    "print(y_test.shape)"
   ],
   "id": "85942085d41ed406",
   "outputs": [
    {
     "name": "stdout",
     "output_type": "stream",
     "text": [
      "(142, 2)\n",
      "(36, 2)\n",
      "(142,)\n",
      "(36,)\n"
     ]
    }
   ],
   "execution_count": 26
  },
  {
   "metadata": {
    "ExecuteTime": {
     "end_time": "2024-10-31T05:18:23.657762Z",
     "start_time": "2024-10-31T05:18:23.651297Z"
    }
   },
   "cell_type": "code",
   "source": [
    "from sklearn.preprocessing import MinMaxScaler\n",
    "\n",
    "scaler = MinMaxScaler()\n",
    "\n",
    "X_train_scalled = scaler.fit_transform(X_train)\n",
    "X_test_scalled = scaler.transform(X_test)"
   ],
   "id": "74a858aaebc7bc6d",
   "outputs": [],
   "execution_count": 27
  },
  {
   "metadata": {
    "ExecuteTime": {
     "end_time": "2024-10-31T05:18:23.665443Z",
     "start_time": "2024-10-31T05:18:23.657762Z"
    }
   },
   "cell_type": "code",
   "source": "X_train_scalled",
   "id": "ccce411f1e6014f4",
   "outputs": [
    {
     "data": {
      "text/plain": [
       "array([[0.71505376, 0.51323829],\n",
       "       [0.44623656, 0.16089613],\n",
       "       [0.15860215, 0.25458248],\n",
       "       [0.63709677, 0.64562118],\n",
       "       [0.66397849, 0.21792261],\n",
       "       [0.72580645, 0.15478615],\n",
       "       [0.33870968, 0.42566191],\n",
       "       [0.42204301, 0.12219959],\n",
       "       [0.10215054, 0.        ],\n",
       "       [0.7016129 , 0.48065173],\n",
       "       [0.42204301, 0.3503055 ],\n",
       "       [0.25      , 0.0712831 ],\n",
       "       [0.32795699, 0.6395112 ],\n",
       "       [0.87903226, 0.24032587],\n",
       "       [0.49731183, 0.45824847],\n",
       "       [0.66129032, 0.58044807],\n",
       "       [0.68010753, 0.19755601],\n",
       "       [0.88978495, 0.19144603],\n",
       "       [0.72043011, 0.22810591],\n",
       "       [0.31989247, 0.11201629],\n",
       "       [0.60215054, 0.7209776 ],\n",
       "       [0.57258065, 0.57637475],\n",
       "       [0.76075269, 0.15682281],\n",
       "       [0.48924731, 0.51527495],\n",
       "       [0.75537634, 0.68839104],\n",
       "       [0.61021505, 0.19959267],\n",
       "       [0.54301075, 0.63543788],\n",
       "       [0.39784946, 0.10183299],\n",
       "       [0.33870968, 0.13645621],\n",
       "       [0.46774194, 0.54786151],\n",
       "       [0.5188172 , 0.55193483],\n",
       "       [0.70967742, 0.10386965],\n",
       "       [0.57258065, 0.3299389 ],\n",
       "       [0.36021505, 0.0407332 ],\n",
       "       [0.38709677, 0.15885947],\n",
       "       [0.20967742, 0.28105906],\n",
       "       [0.59408602, 0.6598778 ],\n",
       "       [0.82526882, 0.2892057 ],\n",
       "       [0.15591398, 0.12423625],\n",
       "       [0.52688172, 0.18940937],\n",
       "       [0.46774194, 0.33604888],\n",
       "       [0.65860215, 0.18940937],\n",
       "       [0.1155914 , 0.61099796],\n",
       "       [0.27956989, 0.2892057 ],\n",
       "       [0.21236559, 0.14867617],\n",
       "       [0.65053763, 0.60285132],\n",
       "       [0.31451613, 0.46639511],\n",
       "       [0.54301075, 0.20162933],\n",
       "       [0.57526882, 0.90631365],\n",
       "       [0.28225806, 0.12016293],\n",
       "       [0.30645161, 0.14460285],\n",
       "       [0.37365591, 0.75152749],\n",
       "       [0.22580645, 0.72708758],\n",
       "       [0.3172043 , 0.09164969],\n",
       "       [0.78225806, 0.20162933],\n",
       "       [0.82526882, 0.26069246],\n",
       "       [0.44086022, 0.04887984],\n",
       "       [1.        , 0.20162933],\n",
       "       [0.32795699, 0.81059063],\n",
       "       [0.48924731, 0.17515275],\n",
       "       [0.72580645, 0.73727088],\n",
       "       [0.81451613, 0.18126273],\n",
       "       [0.69892473, 0.21792261],\n",
       "       [0.34946237, 0.0509165 ],\n",
       "       [0.75      , 0.20570265],\n",
       "       [0.28225806, 0.27291242],\n",
       "       [0.53763441, 0.03258656],\n",
       "       [0.89784946, 0.24643585],\n",
       "       [0.57526882, 0.37678208],\n",
       "       [0.45430108, 0.20570265],\n",
       "       [0.90322581, 0.23014257],\n",
       "       [0.62096774, 0.0407332 ],\n",
       "       [0.16935484, 0.23217923],\n",
       "       [0.21774194, 0.0305499 ],\n",
       "       [0.49193548, 0.12423625],\n",
       "       [0.7311828 , 0.20162933],\n",
       "       [0.40322581, 0.97148676],\n",
       "       [0.55913978, 0.23625255],\n",
       "       [0.90053763, 0.23014257],\n",
       "       [0.86021505, 0.19755601],\n",
       "       [0.26075269, 0.15682281],\n",
       "       [0.59139785, 0.52138493],\n",
       "       [0.90053763, 0.58044807],\n",
       "       [0.83064516, 0.15071283],\n",
       "       [0.26075269, 0.54786151],\n",
       "       [0.35215054, 0.34826884],\n",
       "       [0.65860215, 0.21792261],\n",
       "       [0.60752688, 0.25050916],\n",
       "       [0.63978495, 0.63136456],\n",
       "       [0.72043011, 1.        ],\n",
       "       [0.36021505, 0.09572301],\n",
       "       [0.58333333, 0.21181263],\n",
       "       [0.11290323, 0.33808554],\n",
       "       [0.69623656, 0.85743381],\n",
       "       [0.76612903, 0.23421589],\n",
       "       [0.37365591, 0.36863544],\n",
       "       [0.47849462, 0.3197556 ],\n",
       "       [0.41666667, 0.11201629],\n",
       "       [0.75268817, 0.16904277],\n",
       "       [0.5483871 , 0.15478615],\n",
       "       [0.44892473, 0.57230143],\n",
       "       [0.73655914, 0.23625255],\n",
       "       [0.48655914, 0.45213849],\n",
       "       [0.36021505, 0.18126273],\n",
       "       [0.66666667, 0.21588595],\n",
       "       [0.76344086, 0.23625255],\n",
       "       [0.28225806, 0.13238289],\n",
       "       [0.68548387, 0.18737271],\n",
       "       [0.55107527, 0.64358452],\n",
       "       [0.20430108, 0.28309572],\n",
       "       [0.38172043, 0.46639511],\n",
       "       [0.71236559, 0.22199593],\n",
       "       [0.66935484, 0.49490835],\n",
       "       [0.66397849, 0.48472505],\n",
       "       [0.49462366, 0.78818737],\n",
       "       [0.80376344, 0.19144603],\n",
       "       [0.33870968, 0.49490835],\n",
       "       [0.28225806, 0.07942974],\n",
       "       [0.44892473, 0.63747454],\n",
       "       [0.        , 0.15682281],\n",
       "       [0.6155914 , 0.50916497],\n",
       "       [0.83333333, 0.68431772],\n",
       "       [0.66129032, 0.18737271],\n",
       "       [0.21774194, 0.43788187],\n",
       "       [0.54301075, 0.26680244],\n",
       "       [0.45430108, 0.21792261],\n",
       "       [0.4811828 , 0.53564155],\n",
       "       [0.63709677, 0.78615071],\n",
       "       [0.85752688, 0.66191446],\n",
       "       [0.72311828, 0.14052953],\n",
       "       [0.51075269, 0.42158859],\n",
       "       [0.16397849, 0.2688391 ],\n",
       "       [0.33870968, 0.17718941],\n",
       "       [0.16666667, 0.18940937],\n",
       "       [0.60483871, 0.18329939],\n",
       "       [0.51075269, 0.62321792],\n",
       "       [0.76075269, 0.12423625],\n",
       "       [0.21236559, 0.19959267],\n",
       "       [0.36021505, 0.08757637],\n",
       "       [0.37365591, 0.17718941],\n",
       "       [0.77150538, 0.19144603],\n",
       "       [0.84139785, 0.3604888 ]])"
      ]
     },
     "execution_count": 28,
     "metadata": {},
     "output_type": "execute_result"
    }
   ],
   "execution_count": 28
  },
  {
   "metadata": {
    "ExecuteTime": {
     "end_time": "2024-10-31T05:18:23.672191Z",
     "start_time": "2024-10-31T05:18:23.665443Z"
    }
   },
   "cell_type": "code",
   "source": [
    "X_train_scalled = pd.DataFrame(X_train_scalled,columns=X_train.columns)\n",
    "X_test_scalled = pd.DataFrame(X_test_scalled,columns=X_test.columns)"
   ],
   "id": "ae4143d7bf3a423e",
   "outputs": [],
   "execution_count": 29
  },
  {
   "metadata": {
    "ExecuteTime": {
     "end_time": "2024-10-31T05:18:23.680059Z",
     "start_time": "2024-10-31T05:18:23.672191Z"
    }
   },
   "cell_type": "code",
   "source": "X_train_scalled",
   "id": "ec8a229dde7455b4",
   "outputs": [
    {
     "data": {
      "text/plain": [
       "      Alcohol  Malic acid\n",
       "0    0.715054    0.513238\n",
       "1    0.446237    0.160896\n",
       "2    0.158602    0.254582\n",
       "3    0.637097    0.645621\n",
       "4    0.663978    0.217923\n",
       "..        ...         ...\n",
       "137  0.212366    0.199593\n",
       "138  0.360215    0.087576\n",
       "139  0.373656    0.177189\n",
       "140  0.771505    0.191446\n",
       "141  0.841398    0.360489\n",
       "\n",
       "[142 rows x 2 columns]"
      ],
      "text/html": [
       "<div>\n",
       "<style scoped>\n",
       "    .dataframe tbody tr th:only-of-type {\n",
       "        vertical-align: middle;\n",
       "    }\n",
       "\n",
       "    .dataframe tbody tr th {\n",
       "        vertical-align: top;\n",
       "    }\n",
       "\n",
       "    .dataframe thead th {\n",
       "        text-align: right;\n",
       "    }\n",
       "</style>\n",
       "<table border=\"1\" class=\"dataframe\">\n",
       "  <thead>\n",
       "    <tr style=\"text-align: right;\">\n",
       "      <th></th>\n",
       "      <th>Alcohol</th>\n",
       "      <th>Malic acid</th>\n",
       "    </tr>\n",
       "  </thead>\n",
       "  <tbody>\n",
       "    <tr>\n",
       "      <th>0</th>\n",
       "      <td>0.715054</td>\n",
       "      <td>0.513238</td>\n",
       "    </tr>\n",
       "    <tr>\n",
       "      <th>1</th>\n",
       "      <td>0.446237</td>\n",
       "      <td>0.160896</td>\n",
       "    </tr>\n",
       "    <tr>\n",
       "      <th>2</th>\n",
       "      <td>0.158602</td>\n",
       "      <td>0.254582</td>\n",
       "    </tr>\n",
       "    <tr>\n",
       "      <th>3</th>\n",
       "      <td>0.637097</td>\n",
       "      <td>0.645621</td>\n",
       "    </tr>\n",
       "    <tr>\n",
       "      <th>4</th>\n",
       "      <td>0.663978</td>\n",
       "      <td>0.217923</td>\n",
       "    </tr>\n",
       "    <tr>\n",
       "      <th>...</th>\n",
       "      <td>...</td>\n",
       "      <td>...</td>\n",
       "    </tr>\n",
       "    <tr>\n",
       "      <th>137</th>\n",
       "      <td>0.212366</td>\n",
       "      <td>0.199593</td>\n",
       "    </tr>\n",
       "    <tr>\n",
       "      <th>138</th>\n",
       "      <td>0.360215</td>\n",
       "      <td>0.087576</td>\n",
       "    </tr>\n",
       "    <tr>\n",
       "      <th>139</th>\n",
       "      <td>0.373656</td>\n",
       "      <td>0.177189</td>\n",
       "    </tr>\n",
       "    <tr>\n",
       "      <th>140</th>\n",
       "      <td>0.771505</td>\n",
       "      <td>0.191446</td>\n",
       "    </tr>\n",
       "    <tr>\n",
       "      <th>141</th>\n",
       "      <td>0.841398</td>\n",
       "      <td>0.360489</td>\n",
       "    </tr>\n",
       "  </tbody>\n",
       "</table>\n",
       "<p>142 rows × 2 columns</p>\n",
       "</div>"
      ]
     },
     "execution_count": 30,
     "metadata": {},
     "output_type": "execute_result"
    }
   ],
   "execution_count": 30
  },
  {
   "metadata": {
    "ExecuteTime": {
     "end_time": "2024-10-31T05:18:23.687692Z",
     "start_time": "2024-10-31T05:18:23.680059Z"
    }
   },
   "cell_type": "code",
   "source": "X_test_scalled",
   "id": "eab728bcff171695",
   "outputs": [
    {
     "data": {
      "text/plain": [
       "     Alcohol  Malic acid\n",
       "0   0.728495    0.189409\n",
       "1   0.473118    0.393075\n",
       "2   0.360215    0.079430\n",
       "3   0.680108    0.201629\n",
       "4   0.543011    1.030550\n",
       "5   0.142473    0.266802\n",
       "6   0.814516    0.287169\n",
       "7   0.357527    0.629328\n",
       "8   0.327957    0.201629\n",
       "9   0.282258    0.221996\n",
       "10  0.626344    0.370672\n",
       "11  0.766129    0.875764\n",
       "12  0.852151    0.207739\n",
       "13  0.360215    0.067210\n",
       "14  0.685484    0.374745\n",
       "15  0.260753    0.036660\n",
       "16  0.733871    0.160896\n",
       "17  0.849462    0.173116\n",
       "18  0.432796    0.126273\n",
       "19  0.752688    0.185336\n",
       "20  0.559140    0.054990\n",
       "21  0.543011    0.185336\n",
       "22  0.594086    0.376782\n",
       "23  0.397849    0.201629\n",
       "24  0.349462    0.073320\n",
       "25  0.400538    0.344196\n",
       "26  0.376344    0.160896\n",
       "27  0.303763    0.177189\n",
       "28  0.196237    0.395112\n",
       "29  0.739247    0.411405\n",
       "30  0.634409    0.209776\n",
       "31  0.857527    0.195519\n",
       "32  0.271505    0.725051\n",
       "33  0.854839    0.672098\n",
       "34  1.021505    0.183299\n",
       "35  0.543011    0.209776"
      ],
      "text/html": [
       "<div>\n",
       "<style scoped>\n",
       "    .dataframe tbody tr th:only-of-type {\n",
       "        vertical-align: middle;\n",
       "    }\n",
       "\n",
       "    .dataframe tbody tr th {\n",
       "        vertical-align: top;\n",
       "    }\n",
       "\n",
       "    .dataframe thead th {\n",
       "        text-align: right;\n",
       "    }\n",
       "</style>\n",
       "<table border=\"1\" class=\"dataframe\">\n",
       "  <thead>\n",
       "    <tr style=\"text-align: right;\">\n",
       "      <th></th>\n",
       "      <th>Alcohol</th>\n",
       "      <th>Malic acid</th>\n",
       "    </tr>\n",
       "  </thead>\n",
       "  <tbody>\n",
       "    <tr>\n",
       "      <th>0</th>\n",
       "      <td>0.728495</td>\n",
       "      <td>0.189409</td>\n",
       "    </tr>\n",
       "    <tr>\n",
       "      <th>1</th>\n",
       "      <td>0.473118</td>\n",
       "      <td>0.393075</td>\n",
       "    </tr>\n",
       "    <tr>\n",
       "      <th>2</th>\n",
       "      <td>0.360215</td>\n",
       "      <td>0.079430</td>\n",
       "    </tr>\n",
       "    <tr>\n",
       "      <th>3</th>\n",
       "      <td>0.680108</td>\n",
       "      <td>0.201629</td>\n",
       "    </tr>\n",
       "    <tr>\n",
       "      <th>4</th>\n",
       "      <td>0.543011</td>\n",
       "      <td>1.030550</td>\n",
       "    </tr>\n",
       "    <tr>\n",
       "      <th>5</th>\n",
       "      <td>0.142473</td>\n",
       "      <td>0.266802</td>\n",
       "    </tr>\n",
       "    <tr>\n",
       "      <th>6</th>\n",
       "      <td>0.814516</td>\n",
       "      <td>0.287169</td>\n",
       "    </tr>\n",
       "    <tr>\n",
       "      <th>7</th>\n",
       "      <td>0.357527</td>\n",
       "      <td>0.629328</td>\n",
       "    </tr>\n",
       "    <tr>\n",
       "      <th>8</th>\n",
       "      <td>0.327957</td>\n",
       "      <td>0.201629</td>\n",
       "    </tr>\n",
       "    <tr>\n",
       "      <th>9</th>\n",
       "      <td>0.282258</td>\n",
       "      <td>0.221996</td>\n",
       "    </tr>\n",
       "    <tr>\n",
       "      <th>10</th>\n",
       "      <td>0.626344</td>\n",
       "      <td>0.370672</td>\n",
       "    </tr>\n",
       "    <tr>\n",
       "      <th>11</th>\n",
       "      <td>0.766129</td>\n",
       "      <td>0.875764</td>\n",
       "    </tr>\n",
       "    <tr>\n",
       "      <th>12</th>\n",
       "      <td>0.852151</td>\n",
       "      <td>0.207739</td>\n",
       "    </tr>\n",
       "    <tr>\n",
       "      <th>13</th>\n",
       "      <td>0.360215</td>\n",
       "      <td>0.067210</td>\n",
       "    </tr>\n",
       "    <tr>\n",
       "      <th>14</th>\n",
       "      <td>0.685484</td>\n",
       "      <td>0.374745</td>\n",
       "    </tr>\n",
       "    <tr>\n",
       "      <th>15</th>\n",
       "      <td>0.260753</td>\n",
       "      <td>0.036660</td>\n",
       "    </tr>\n",
       "    <tr>\n",
       "      <th>16</th>\n",
       "      <td>0.733871</td>\n",
       "      <td>0.160896</td>\n",
       "    </tr>\n",
       "    <tr>\n",
       "      <th>17</th>\n",
       "      <td>0.849462</td>\n",
       "      <td>0.173116</td>\n",
       "    </tr>\n",
       "    <tr>\n",
       "      <th>18</th>\n",
       "      <td>0.432796</td>\n",
       "      <td>0.126273</td>\n",
       "    </tr>\n",
       "    <tr>\n",
       "      <th>19</th>\n",
       "      <td>0.752688</td>\n",
       "      <td>0.185336</td>\n",
       "    </tr>\n",
       "    <tr>\n",
       "      <th>20</th>\n",
       "      <td>0.559140</td>\n",
       "      <td>0.054990</td>\n",
       "    </tr>\n",
       "    <tr>\n",
       "      <th>21</th>\n",
       "      <td>0.543011</td>\n",
       "      <td>0.185336</td>\n",
       "    </tr>\n",
       "    <tr>\n",
       "      <th>22</th>\n",
       "      <td>0.594086</td>\n",
       "      <td>0.376782</td>\n",
       "    </tr>\n",
       "    <tr>\n",
       "      <th>23</th>\n",
       "      <td>0.397849</td>\n",
       "      <td>0.201629</td>\n",
       "    </tr>\n",
       "    <tr>\n",
       "      <th>24</th>\n",
       "      <td>0.349462</td>\n",
       "      <td>0.073320</td>\n",
       "    </tr>\n",
       "    <tr>\n",
       "      <th>25</th>\n",
       "      <td>0.400538</td>\n",
       "      <td>0.344196</td>\n",
       "    </tr>\n",
       "    <tr>\n",
       "      <th>26</th>\n",
       "      <td>0.376344</td>\n",
       "      <td>0.160896</td>\n",
       "    </tr>\n",
       "    <tr>\n",
       "      <th>27</th>\n",
       "      <td>0.303763</td>\n",
       "      <td>0.177189</td>\n",
       "    </tr>\n",
       "    <tr>\n",
       "      <th>28</th>\n",
       "      <td>0.196237</td>\n",
       "      <td>0.395112</td>\n",
       "    </tr>\n",
       "    <tr>\n",
       "      <th>29</th>\n",
       "      <td>0.739247</td>\n",
       "      <td>0.411405</td>\n",
       "    </tr>\n",
       "    <tr>\n",
       "      <th>30</th>\n",
       "      <td>0.634409</td>\n",
       "      <td>0.209776</td>\n",
       "    </tr>\n",
       "    <tr>\n",
       "      <th>31</th>\n",
       "      <td>0.857527</td>\n",
       "      <td>0.195519</td>\n",
       "    </tr>\n",
       "    <tr>\n",
       "      <th>32</th>\n",
       "      <td>0.271505</td>\n",
       "      <td>0.725051</td>\n",
       "    </tr>\n",
       "    <tr>\n",
       "      <th>33</th>\n",
       "      <td>0.854839</td>\n",
       "      <td>0.672098</td>\n",
       "    </tr>\n",
       "    <tr>\n",
       "      <th>34</th>\n",
       "      <td>1.021505</td>\n",
       "      <td>0.183299</td>\n",
       "    </tr>\n",
       "    <tr>\n",
       "      <th>35</th>\n",
       "      <td>0.543011</td>\n",
       "      <td>0.209776</td>\n",
       "    </tr>\n",
       "  </tbody>\n",
       "</table>\n",
       "</div>"
      ]
     },
     "execution_count": 31,
     "metadata": {},
     "output_type": "execute_result"
    }
   ],
   "execution_count": 31
  },
  {
   "metadata": {
    "ExecuteTime": {
     "end_time": "2024-10-31T05:27:40.099859Z",
     "start_time": "2024-10-31T05:27:40.090252Z"
    }
   },
   "cell_type": "code",
   "source": "np.round(X_train.describe(),1)",
   "id": "f4dd358a094790f6",
   "outputs": [
    {
     "data": {
      "text/plain": [
       "       Alcohol  Malic acid\n",
       "count    142.0       142.0\n",
       "mean      13.0         2.4\n",
       "std        0.8         1.1\n",
       "min       11.0         0.7\n",
       "25%       12.3         1.6\n",
       "50%       13.0         1.9\n",
       "75%       13.6         3.2\n",
       "max       14.8         5.6"
      ],
      "text/html": [
       "<div>\n",
       "<style scoped>\n",
       "    .dataframe tbody tr th:only-of-type {\n",
       "        vertical-align: middle;\n",
       "    }\n",
       "\n",
       "    .dataframe tbody tr th {\n",
       "        vertical-align: top;\n",
       "    }\n",
       "\n",
       "    .dataframe thead th {\n",
       "        text-align: right;\n",
       "    }\n",
       "</style>\n",
       "<table border=\"1\" class=\"dataframe\">\n",
       "  <thead>\n",
       "    <tr style=\"text-align: right;\">\n",
       "      <th></th>\n",
       "      <th>Alcohol</th>\n",
       "      <th>Malic acid</th>\n",
       "    </tr>\n",
       "  </thead>\n",
       "  <tbody>\n",
       "    <tr>\n",
       "      <th>count</th>\n",
       "      <td>142.0</td>\n",
       "      <td>142.0</td>\n",
       "    </tr>\n",
       "    <tr>\n",
       "      <th>mean</th>\n",
       "      <td>13.0</td>\n",
       "      <td>2.4</td>\n",
       "    </tr>\n",
       "    <tr>\n",
       "      <th>std</th>\n",
       "      <td>0.8</td>\n",
       "      <td>1.1</td>\n",
       "    </tr>\n",
       "    <tr>\n",
       "      <th>min</th>\n",
       "      <td>11.0</td>\n",
       "      <td>0.7</td>\n",
       "    </tr>\n",
       "    <tr>\n",
       "      <th>25%</th>\n",
       "      <td>12.3</td>\n",
       "      <td>1.6</td>\n",
       "    </tr>\n",
       "    <tr>\n",
       "      <th>50%</th>\n",
       "      <td>13.0</td>\n",
       "      <td>1.9</td>\n",
       "    </tr>\n",
       "    <tr>\n",
       "      <th>75%</th>\n",
       "      <td>13.6</td>\n",
       "      <td>3.2</td>\n",
       "    </tr>\n",
       "    <tr>\n",
       "      <th>max</th>\n",
       "      <td>14.8</td>\n",
       "      <td>5.6</td>\n",
       "    </tr>\n",
       "  </tbody>\n",
       "</table>\n",
       "</div>"
      ]
     },
     "execution_count": 42,
     "metadata": {},
     "output_type": "execute_result"
    }
   ],
   "execution_count": 42
  },
  {
   "metadata": {
    "ExecuteTime": {
     "end_time": "2024-10-31T05:27:50.716146Z",
     "start_time": "2024-10-31T05:27:50.704941Z"
    }
   },
   "cell_type": "code",
   "source": "np.round(X_train_scalled.describe(),1)",
   "id": "8254acdae958f48a",
   "outputs": [
    {
     "data": {
      "text/plain": [
       "       Alcohol  Malic acid\n",
       "count    142.0       142.0\n",
       "mean       0.5         0.3\n",
       "std        0.2         0.2\n",
       "min        0.0         0.0\n",
       "25%        0.4         0.2\n",
       "50%        0.5         0.2\n",
       "75%        0.7         0.5\n",
       "max        1.0         1.0"
      ],
      "text/html": [
       "<div>\n",
       "<style scoped>\n",
       "    .dataframe tbody tr th:only-of-type {\n",
       "        vertical-align: middle;\n",
       "    }\n",
       "\n",
       "    .dataframe tbody tr th {\n",
       "        vertical-align: top;\n",
       "    }\n",
       "\n",
       "    .dataframe thead th {\n",
       "        text-align: right;\n",
       "    }\n",
       "</style>\n",
       "<table border=\"1\" class=\"dataframe\">\n",
       "  <thead>\n",
       "    <tr style=\"text-align: right;\">\n",
       "      <th></th>\n",
       "      <th>Alcohol</th>\n",
       "      <th>Malic acid</th>\n",
       "    </tr>\n",
       "  </thead>\n",
       "  <tbody>\n",
       "    <tr>\n",
       "      <th>count</th>\n",
       "      <td>142.0</td>\n",
       "      <td>142.0</td>\n",
       "    </tr>\n",
       "    <tr>\n",
       "      <th>mean</th>\n",
       "      <td>0.5</td>\n",
       "      <td>0.3</td>\n",
       "    </tr>\n",
       "    <tr>\n",
       "      <th>std</th>\n",
       "      <td>0.2</td>\n",
       "      <td>0.2</td>\n",
       "    </tr>\n",
       "    <tr>\n",
       "      <th>min</th>\n",
       "      <td>0.0</td>\n",
       "      <td>0.0</td>\n",
       "    </tr>\n",
       "    <tr>\n",
       "      <th>25%</th>\n",
       "      <td>0.4</td>\n",
       "      <td>0.2</td>\n",
       "    </tr>\n",
       "    <tr>\n",
       "      <th>50%</th>\n",
       "      <td>0.5</td>\n",
       "      <td>0.2</td>\n",
       "    </tr>\n",
       "    <tr>\n",
       "      <th>75%</th>\n",
       "      <td>0.7</td>\n",
       "      <td>0.5</td>\n",
       "    </tr>\n",
       "    <tr>\n",
       "      <th>max</th>\n",
       "      <td>1.0</td>\n",
       "      <td>1.0</td>\n",
       "    </tr>\n",
       "  </tbody>\n",
       "</table>\n",
       "</div>"
      ]
     },
     "execution_count": 43,
     "metadata": {},
     "output_type": "execute_result"
    }
   ],
   "execution_count": 43
  },
  {
   "metadata": {
    "ExecuteTime": {
     "end_time": "2024-10-31T05:26:42.299374Z",
     "start_time": "2024-10-31T05:26:41.841821Z"
    }
   },
   "cell_type": "code",
   "source": [
    "fig, axes = plt.subplots(nrows=1,ncols=2,figsize=(16,8))\n",
    "\n",
    "sns.scatterplot(data=X_train,x='Alcohol',y='Malic acid',ax=axes[0])\n",
    "axes[0].set_title(\"Before Scaling\")\n",
    "sns.scatterplot(data=X_train_scalled,x='Alcohol',y='Malic acid',ax=axes[1])\n",
    "axes[1].set_title(\"Before Scaling\")\n",
    "\n",
    "plt.show()"
   ],
   "id": "d04b765a2919d629",
   "outputs": [
    {
     "data": {
      "text/plain": [
       "<Figure size 1600x800 with 2 Axes>"
      ],
      "image/png": "[encoded data removed]"
     },
     "metadata": {},
     "output_type": "display_data"
    }
   ],
   "execution_count": 39
  },
  {
   "metadata": {},
   "cell_type": "code",
   "outputs": [],
   "execution_count": null,
   "source": "",
   "id": "fa8e56806b3b2f32"
  }
 ],
 "metadata": {
  "kernelspec": {
   "display_name": "Python 3",
   "language": "python",
   "name": "python3"
  },
  "language_info": {
   "codemirror_mode": {
    "name": "ipython",
    "version": 2
   },
   "file_extension": ".py",
   "mimetype": "text/x-python",
   "name": "python",
   "nbconvert_exporter": "python",
   "pygments_lexer": "ipython2",
   "version": "2.7.6"
  }
 },
 "nbformat": 4,
 "nbformat_minor": 5
}
