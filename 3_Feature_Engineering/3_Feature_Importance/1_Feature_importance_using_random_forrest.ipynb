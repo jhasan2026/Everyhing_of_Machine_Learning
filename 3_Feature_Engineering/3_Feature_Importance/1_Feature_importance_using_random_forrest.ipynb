{
 "cells": [
  {
   "cell_type": "code",
   "id": "initial_id",
   "metadata": {
    "collapsed": true,
    "ExecuteTime": {
     "end_time": "2024-12-27T06:32:17.931455Z",
     "start_time": "2024-12-27T06:32:17.926555Z"
    }
   },
   "source": [
    "import numpy as np\n",
    "import pandas as pd\n",
    "import seaborn as sns"
   ],
   "outputs": [],
   "execution_count": 38
  },
  {
   "metadata": {
    "ExecuteTime": {
     "end_time": "2024-12-27T06:32:19.111371Z",
     "start_time": "2024-12-27T06:32:17.973831Z"
    }
   },
   "cell_type": "code",
   "source": [
    "df = pd.read_csv('train.csv')\n",
    "df"
   ],
   "id": "dc675c304e4cc2e2",
   "outputs": [
    {
     "data": {
      "text/plain": [
       "       label  pixel0  pixel1  pixel2  pixel3  pixel4  pixel5  pixel6  pixel7  \\\n",
       "0          1       0       0       0       0       0       0       0       0   \n",
       "1          0       0       0       0       0       0       0       0       0   \n",
       "2          1       0       0       0       0       0       0       0       0   \n",
       "3          4       0       0       0       0       0       0       0       0   \n",
       "4          0       0       0       0       0       0       0       0       0   \n",
       "...      ...     ...     ...     ...     ...     ...     ...     ...     ...   \n",
       "41995      0       0       0       0       0       0       0       0       0   \n",
       "41996      1       0       0       0       0       0       0       0       0   \n",
       "41997      7       0       0       0       0       0       0       0       0   \n",
       "41998      6       0       0       0       0       0       0       0       0   \n",
       "41999      9       0       0       0       0       0       0       0       0   \n",
       "\n",
       "       pixel8  ...  pixel774  pixel775  pixel776  pixel777  pixel778  \\\n",
       "0           0  ...         0         0         0         0         0   \n",
       "1           0  ...         0         0         0         0         0   \n",
       "2           0  ...         0         0         0         0         0   \n",
       "3           0  ...         0         0         0         0         0   \n",
       "4           0  ...         0         0         0         0         0   \n",
       "...       ...  ...       ...       ...       ...       ...       ...   \n",
       "41995       0  ...         0         0         0         0         0   \n",
       "41996       0  ...         0         0         0         0         0   \n",
       "41997       0  ...         0         0         0         0         0   \n",
       "41998       0  ...         0         0         0         0         0   \n",
       "41999       0  ...         0         0         0         0         0   \n",
       "\n",
       "       pixel779  pixel780  pixel781  pixel782  pixel783  \n",
       "0             0         0         0         0         0  \n",
       "1             0         0         0         0         0  \n",
       "2             0         0         0         0         0  \n",
       "3             0         0         0         0         0  \n",
       "4             0         0         0         0         0  \n",
       "...         ...       ...       ...       ...       ...  \n",
       "41995         0         0         0         0         0  \n",
       "41996         0         0         0         0         0  \n",
       "41997         0         0         0         0         0  \n",
       "41998         0         0         0         0         0  \n",
       "41999         0         0         0         0         0  \n",
       "\n",
       "[42000 rows x 785 columns]"
      ],
      "text/html": [
       "<div>\n",
       "<style scoped>\n",
       "    .dataframe tbody tr th:only-of-type {\n",
       "        vertical-align: middle;\n",
       "    }\n",
       "\n",
       "    .dataframe tbody tr th {\n",
       "        vertical-align: top;\n",
       "    }\n",
       "\n",
       "    .dataframe thead th {\n",
       "        text-align: right;\n",
       "    }\n",
       "</style>\n",
       "<table border=\"1\" class=\"dataframe\">\n",
       "  <thead>\n",
       "    <tr style=\"text-align: right;\">\n",
       "      <th></th>\n",
       "      <th>label</th>\n",
       "      <th>pixel0</th>\n",
       "      <th>pixel1</th>\n",
       "      <th>pixel2</th>\n",
       "      <th>pixel3</th>\n",
       "      <th>pixel4</th>\n",
       "      <th>pixel5</th>\n",
       "      <th>pixel6</th>\n",
       "      <th>pixel7</th>\n",
       "      <th>pixel8</th>\n",
       "      <th>...</th>\n",
       "      <th>pixel774</th>\n",
       "      <th>pixel775</th>\n",
       "      <th>pixel776</th>\n",
       "      <th>pixel777</th>\n",
       "      <th>pixel778</th>\n",
       "      <th>pixel779</th>\n",
       "      <th>pixel780</th>\n",
       "      <th>pixel781</th>\n",
       "      <th>pixel782</th>\n",
       "      <th>pixel783</th>\n",
       "    </tr>\n",
       "  </thead>\n",
       "  <tbody>\n",
       "    <tr>\n",
       "      <th>0</th>\n",
       "      <td>1</td>\n",
       "      <td>0</td>\n",
       "      <td>0</td>\n",
       "      <td>0</td>\n",
       "      <td>0</td>\n",
       "      <td>0</td>\n",
       "      <td>0</td>\n",
       "      <td>0</td>\n",
       "      <td>0</td>\n",
       "      <td>0</td>\n",
       "      <td>...</td>\n",
       "      <td>0</td>\n",
       "      <td>0</td>\n",
       "      <td>0</td>\n",
       "      <td>0</td>\n",
       "      <td>0</td>\n",
       "      <td>0</td>\n",
       "      <td>0</td>\n",
       "      <td>0</td>\n",
       "      <td>0</td>\n",
       "      <td>0</td>\n",
       "    </tr>\n",
       "    <tr>\n",
       "      <th>1</th>\n",
       "      <td>0</td>\n",
       "      <td>0</td>\n",
       "      <td>0</td>\n",
       "      <td>0</td>\n",
       "      <td>0</td>\n",
       "      <td>0</td>\n",
       "      <td>0</td>\n",
       "      <td>0</td>\n",
       "      <td>0</td>\n",
       "      <td>0</td>\n",
       "      <td>...</td>\n",
       "      <td>0</td>\n",
       "      <td>0</td>\n",
       "      <td>0</td>\n",
       "      <td>0</td>\n",
       "      <td>0</td>\n",
       "      <td>0</td>\n",
       "      <td>0</td>\n",
       "      <td>0</td>\n",
       "      <td>0</td>\n",
       "      <td>0</td>\n",
       "    </tr>\n",
       "    <tr>\n",
       "      <th>2</th>\n",
       "      <td>1</td>\n",
       "      <td>0</td>\n",
       "      <td>0</td>\n",
       "      <td>0</td>\n",
       "      <td>0</td>\n",
       "      <td>0</td>\n",
       "      <td>0</td>\n",
       "      <td>0</td>\n",
       "      <td>0</td>\n",
       "      <td>0</td>\n",
       "      <td>...</td>\n",
       "      <td>0</td>\n",
       "      <td>0</td>\n",
       "      <td>0</td>\n",
       "      <td>0</td>\n",
       "      <td>0</td>\n",
       "      <td>0</td>\n",
       "      <td>0</td>\n",
       "      <td>0</td>\n",
       "      <td>0</td>\n",
       "      <td>0</td>\n",
       "    </tr>\n",
       "    <tr>\n",
       "      <th>3</th>\n",
       "      <td>4</td>\n",
       "      <td>0</td>\n",
       "      <td>0</td>\n",
       "      <td>0</td>\n",
       "      <td>0</td>\n",
       "      <td>0</td>\n",
       "      <td>0</td>\n",
       "      <td>0</td>\n",
       "      <td>0</td>\n",
       "      <td>0</td>\n",
       "      <td>...</td>\n",
       "      <td>0</td>\n",
       "      <td>0</td>\n",
       "      <td>0</td>\n",
       "      <td>0</td>\n",
       "      <td>0</td>\n",
       "      <td>0</td>\n",
       "      <td>0</td>\n",
       "      <td>0</td>\n",
       "      <td>0</td>\n",
       "      <td>0</td>\n",
       "    </tr>\n",
       "    <tr>\n",
       "      <th>4</th>\n",
       "      <td>0</td>\n",
       "      <td>0</td>\n",
       "      <td>0</td>\n",
       "      <td>0</td>\n",
       "      <td>0</td>\n",
       "      <td>0</td>\n",
       "      <td>0</td>\n",
       "      <td>0</td>\n",
       "      <td>0</td>\n",
       "      <td>0</td>\n",
       "      <td>...</td>\n",
       "      <td>0</td>\n",
       "      <td>0</td>\n",
       "      <td>0</td>\n",
       "      <td>0</td>\n",
       "      <td>0</td>\n",
       "      <td>0</td>\n",
       "      <td>0</td>\n",
       "      <td>0</td>\n",
       "      <td>0</td>\n",
       "      <td>0</td>\n",
       "    </tr>\n",
       "    <tr>\n",
       "      <th>...</th>\n",
       "      <td>...</td>\n",
       "      <td>...</td>\n",
       "      <td>...</td>\n",
       "      <td>...</td>\n",
       "      <td>...</td>\n",
       "      <td>...</td>\n",
       "      <td>...</td>\n",
       "      <td>...</td>\n",
       "      <td>...</td>\n",
       "      <td>...</td>\n",
       "      <td>...</td>\n",
       "      <td>...</td>\n",
       "      <td>...</td>\n",
       "      <td>...</td>\n",
       "      <td>...</td>\n",
       "      <td>...</td>\n",
       "      <td>...</td>\n",
       "      <td>...</td>\n",
       "      <td>...</td>\n",
       "      <td>...</td>\n",
       "      <td>...</td>\n",
       "    </tr>\n",
       "    <tr>\n",
       "      <th>41995</th>\n",
       "      <td>0</td>\n",
       "      <td>0</td>\n",
       "      <td>0</td>\n",
       "      <td>0</td>\n",
       "      <td>0</td>\n",
       "      <td>0</td>\n",
       "      <td>0</td>\n",
       "      <td>0</td>\n",
       "      <td>0</td>\n",
       "      <td>0</td>\n",
       "      <td>...</td>\n",
       "      <td>0</td>\n",
       "      <td>0</td>\n",
       "      <td>0</td>\n",
       "      <td>0</td>\n",
       "      <td>0</td>\n",
       "      <td>0</td>\n",
       "      <td>0</td>\n",
       "      <td>0</td>\n",
       "      <td>0</td>\n",
       "      <td>0</td>\n",
       "    </tr>\n",
       "    <tr>\n",
       "      <th>41996</th>\n",
       "      <td>1</td>\n",
       "      <td>0</td>\n",
       "      <td>0</td>\n",
       "      <td>0</td>\n",
       "      <td>0</td>\n",
       "      <td>0</td>\n",
       "      <td>0</td>\n",
       "      <td>0</td>\n",
       "      <td>0</td>\n",
       "      <td>0</td>\n",
       "      <td>...</td>\n",
       "      <td>0</td>\n",
       "      <td>0</td>\n",
       "      <td>0</td>\n",
       "      <td>0</td>\n",
       "      <td>0</td>\n",
       "      <td>0</td>\n",
       "      <td>0</td>\n",
       "      <td>0</td>\n",
       "      <td>0</td>\n",
       "      <td>0</td>\n",
       "    </tr>\n",
       "    <tr>\n",
       "      <th>41997</th>\n",
       "      <td>7</td>\n",
       "      <td>0</td>\n",
       "      <td>0</td>\n",
       "      <td>0</td>\n",
       "      <td>0</td>\n",
       "      <td>0</td>\n",
       "      <td>0</td>\n",
       "      <td>0</td>\n",
       "      <td>0</td>\n",
       "      <td>0</td>\n",
       "      <td>...</td>\n",
       "      <td>0</td>\n",
       "      <td>0</td>\n",
       "      <td>0</td>\n",
       "      <td>0</td>\n",
       "      <td>0</td>\n",
       "      <td>0</td>\n",
       "      <td>0</td>\n",
       "      <td>0</td>\n",
       "      <td>0</td>\n",
       "      <td>0</td>\n",
       "    </tr>\n",
       "    <tr>\n",
       "      <th>41998</th>\n",
       "      <td>6</td>\n",
       "      <td>0</td>\n",
       "      <td>0</td>\n",
       "      <td>0</td>\n",
       "      <td>0</td>\n",
       "      <td>0</td>\n",
       "      <td>0</td>\n",
       "      <td>0</td>\n",
       "      <td>0</td>\n",
       "      <td>0</td>\n",
       "      <td>...</td>\n",
       "      <td>0</td>\n",
       "      <td>0</td>\n",
       "      <td>0</td>\n",
       "      <td>0</td>\n",
       "      <td>0</td>\n",
       "      <td>0</td>\n",
       "      <td>0</td>\n",
       "      <td>0</td>\n",
       "      <td>0</td>\n",
       "      <td>0</td>\n",
       "    </tr>\n",
       "    <tr>\n",
       "      <th>41999</th>\n",
       "      <td>9</td>\n",
       "      <td>0</td>\n",
       "      <td>0</td>\n",
       "      <td>0</td>\n",
       "      <td>0</td>\n",
       "      <td>0</td>\n",
       "      <td>0</td>\n",
       "      <td>0</td>\n",
       "      <td>0</td>\n",
       "      <td>0</td>\n",
       "      <td>...</td>\n",
       "      <td>0</td>\n",
       "      <td>0</td>\n",
       "      <td>0</td>\n",
       "      <td>0</td>\n",
       "      <td>0</td>\n",
       "      <td>0</td>\n",
       "      <td>0</td>\n",
       "      <td>0</td>\n",
       "      <td>0</td>\n",
       "      <td>0</td>\n",
       "    </tr>\n",
       "  </tbody>\n",
       "</table>\n",
       "<p>42000 rows × 785 columns</p>\n",
       "</div>"
      ]
     },
     "execution_count": 39,
     "metadata": {},
     "output_type": "execute_result"
    }
   ],
   "execution_count": 39
  },
  {
   "metadata": {
    "ExecuteTime": {
     "end_time": "2024-12-27T06:32:19.115509Z",
     "start_time": "2024-12-27T06:32:19.111371Z"
    }
   },
   "cell_type": "code",
   "source": [
    "X = df.iloc[:,1:]\n",
    "y = df.iloc[:,0]"
   ],
   "id": "9bba5970fc6d16b9",
   "outputs": [],
   "execution_count": 40
  },
  {
   "metadata": {
    "ExecuteTime": {
     "end_time": "2024-12-27T06:32:19.387177Z",
     "start_time": "2024-12-27T06:32:19.116521Z"
    }
   },
   "cell_type": "code",
   "source": "sns.heatmap(X.iloc[5].values.reshape(28,28))",
   "id": "a0a766b832dd5873",
   "outputs": [
    {
     "data": {
      "text/plain": [
       "<Axes: >"
      ]
     },
     "execution_count": 41,
     "metadata": {},
     "output_type": "execute_result"
    },
    {
     "data": {
      "text/plain": [
       "<Figure size 640x480 with 2 Axes>"
      ],
      "image/png": "[encoded data removed]"
     },
     "metadata": {},
     "output_type": "display_data"
    }
   ],
   "execution_count": 41
  },
  {
   "metadata": {
    "ExecuteTime": {
     "end_time": "2024-12-27T06:32:44.326068Z",
     "start_time": "2024-12-27T06:32:19.387177Z"
    }
   },
   "cell_type": "code",
   "source": [
    "from sklearn.ensemble import RandomForestClassifier\n",
    "\n",
    "rf = RandomForestClassifier()\n",
    "\n",
    "rf.fit(X,y)"
   ],
   "id": "94cf8dcb2c662979",
   "outputs": [
    {
     "data": {
      "text/plain": [
       "RandomForestClassifier()"
      ],
      "text/html": [
       "<style>#sk-container-id-5 {color: black;background-color: white;}#sk-container-id-5 pre{padding: 0;}#sk-container-id-5 div.sk-toggleable {background-color: white;}#sk-container-id-5 label.sk-toggleable__label {cursor: pointer;display: block;width: 100%;margin-bottom: 0;padding: 0.3em;box-sizing: border-box;text-align: center;}#sk-container-id-5 label.sk-toggleable__label-arrow:before {content: \"▸\";float: left;margin-right: 0.25em;color: #696969;}#sk-container-id-5 label.sk-toggleable__label-arrow:hover:before {color: black;}#sk-container-id-5 div.sk-estimator:hover label.sk-toggleable__label-arrow:before {color: black;}#sk-container-id-5 div.sk-toggleable__content {max-height: 0;max-width: 0;overflow: hidden;text-align: left;background-color: #f0f8ff;}#sk-container-id-5 div.sk-toggleable__content pre {margin: 0.2em;color: black;border-radius: 0.25em;background-color: #f0f8ff;}#sk-container-id-5 input.sk-toggleable__control:checked~div.sk-toggleable__content {max-height: 200px;max-width: 100%;overflow: auto;}#sk-container-id-5 input.sk-toggleable__control:checked~label.sk-toggleable__label-arrow:before {content: \"▾\";}#sk-container-id-5 div.sk-estimator input.sk-toggleable__control:checked~label.sk-toggleable__label {background-color: #d4ebff;}#sk-container-id-5 div.sk-label input.sk-toggleable__control:checked~label.sk-toggleable__label {background-color: #d4ebff;}#sk-container-id-5 input.sk-hidden--visually {border: 0;clip: rect(1px 1px 1px 1px);clip: rect(1px, 1px, 1px, 1px);height: 1px;margin: -1px;overflow: hidden;padding: 0;position: absolute;width: 1px;}#sk-container-id-5 div.sk-estimator {font-family: monospace;background-color: #f0f8ff;border: 1px dotted black;border-radius: 0.25em;box-sizing: border-box;margin-bottom: 0.5em;}#sk-container-id-5 div.sk-estimator:hover {background-color: #d4ebff;}#sk-container-id-5 div.sk-parallel-item::after {content: \"\";width: 100%;border-bottom: 1px solid gray;flex-grow: 1;}#sk-container-id-5 div.sk-label:hover label.sk-toggleable__label {background-color: #d4ebff;}#sk-container-id-5 div.sk-serial::before {content: \"\";position: absolute;border-left: 1px solid gray;box-sizing: border-box;top: 0;bottom: 0;left: 50%;z-index: 0;}#sk-container-id-5 div.sk-serial {display: flex;flex-direction: column;align-items: center;background-color: white;padding-right: 0.2em;padding-left: 0.2em;position: relative;}#sk-container-id-5 div.sk-item {position: relative;z-index: 1;}#sk-container-id-5 div.sk-parallel {display: flex;align-items: stretch;justify-content: center;background-color: white;position: relative;}#sk-container-id-5 div.sk-item::before, #sk-container-id-5 div.sk-parallel-item::before {content: \"\";position: absolute;border-left: 1px solid gray;box-sizing: border-box;top: 0;bottom: 0;left: 50%;z-index: -1;}#sk-container-id-5 div.sk-parallel-item {display: flex;flex-direction: column;z-index: 1;position: relative;background-color: white;}#sk-container-id-5 div.sk-parallel-item:first-child::after {align-self: flex-end;width: 50%;}#sk-container-id-5 div.sk-parallel-item:last-child::after {align-self: flex-start;width: 50%;}#sk-container-id-5 div.sk-parallel-item:only-child::after {width: 0;}#sk-container-id-5 div.sk-dashed-wrapped {border: 1px dashed gray;margin: 0 0.4em 0.5em 0.4em;box-sizing: border-box;padding-bottom: 0.4em;background-color: white;}#sk-container-id-5 div.sk-label label {font-family: monospace;font-weight: bold;display: inline-block;line-height: 1.2em;}#sk-container-id-5 div.sk-label-container {text-align: center;}#sk-container-id-5 div.sk-container {/* jupyter's `normalize.less` sets `[hidden] { display: none; }` but bootstrap.min.css set `[hidden] { display: none !important; }` so we also need the `!important` here to be able to override the default hidden behavior on the sphinx rendered scikit-learn.org. See: https://github.com/scikit-learn/scikit-learn/issues/21755 */display: inline-block !important;position: relative;}#sk-container-id-5 div.sk-text-repr-fallback {display: none;}</style><div id=\"sk-container-id-5\" class=\"sk-top-container\"><div class=\"sk-text-repr-fallback\"><pre>RandomForestClassifier()</pre><b>In a Jupyter environment, please rerun this cell to show the HTML representation or trust the notebook. <br />On GitHub, the HTML representation is unable to render, please try loading this page with nbviewer.org.</b></div><div class=\"sk-container\" hidden><div class=\"sk-item\"><div class=\"sk-estimator sk-toggleable\"><input class=\"sk-toggleable__control sk-hidden--visually\" id=\"sk-estimator-id-5\" type=\"checkbox\" checked><label for=\"sk-estimator-id-5\" class=\"sk-toggleable__label sk-toggleable__label-arrow\">RandomForestClassifier</label><div class=\"sk-toggleable__content\"><pre>RandomForestClassifier()</pre></div></div></div></div></div>"
      ]
     },
     "execution_count": 42,
     "metadata": {},
     "output_type": "execute_result"
    }
   ],
   "execution_count": 42
  },
  {
   "metadata": {
    "ExecuteTime": {
     "end_time": "2024-12-27T06:32:44.344585Z",
     "start_time": "2024-12-27T06:32:44.326068Z"
    }
   },
   "cell_type": "code",
   "source": "rf.feature_importances_",
   "id": "d6d00b3cd965b7bf",
   "outputs": [
    {
     "data": {
      "text/plain": [
       "array([0.00000000e+00, 0.00000000e+00, 0.00000000e+00, 0.00000000e+00,\n",
       "       0.00000000e+00, 0.00000000e+00, 0.00000000e+00, 0.00000000e+00,\n",
       "       0.00000000e+00, 0.00000000e+00, 0.00000000e+00, 0.00000000e+00,\n",
       "       0.00000000e+00, 0.00000000e+00, 0.00000000e+00, 0.00000000e+00,\n",
       "       0.00000000e+00, 0.00000000e+00, 0.00000000e+00, 0.00000000e+00,\n",
       "       0.00000000e+00, 0.00000000e+00, 0.00000000e+00, 0.00000000e+00,\n",
       "       0.00000000e+00, 0.00000000e+00, 0.00000000e+00, 0.00000000e+00,\n",
       "       0.00000000e+00, 0.00000000e+00, 0.00000000e+00, 0.00000000e+00,\n",
       "       0.00000000e+00, 0.00000000e+00, 0.00000000e+00, 0.00000000e+00,\n",
       "       6.92082094e-06, 2.86733287e-06, 3.97015874e-07, 1.44535419e-06,\n",
       "       1.51056539e-06, 3.99581181e-06, 2.09603327e-06, 3.97166838e-06,\n",
       "       3.52841131e-07, 1.96416351e-06, 0.00000000e+00, 0.00000000e+00,\n",
       "       2.00560807e-06, 1.89527769e-06, 0.00000000e+00, 5.01427895e-07,\n",
       "       0.00000000e+00, 0.00000000e+00, 0.00000000e+00, 0.00000000e+00,\n",
       "       0.00000000e+00, 0.00000000e+00, 0.00000000e+00, 0.00000000e+00,\n",
       "       0.00000000e+00, 0.00000000e+00, 9.85033230e-07, 1.24288703e-05,\n",
       "       1.06626031e-05, 1.56405821e-05, 9.66221247e-05, 1.68533769e-04,\n",
       "       1.85795502e-04, 7.47268329e-05, 1.85924430e-04, 9.28930100e-05,\n",
       "       2.37782152e-04, 1.00591482e-04, 1.25448828e-04, 3.72968729e-05,\n",
       "       2.52361131e-05, 7.78091450e-06, 1.20821111e-05, 8.41351571e-07,\n",
       "       0.00000000e+00, 1.14001042e-06, 0.00000000e+00, 0.00000000e+00,\n",
       "       0.00000000e+00, 0.00000000e+00, 0.00000000e+00, 0.00000000e+00,\n",
       "       1.53340747e-06, 4.82711311e-06, 7.14274285e-06, 2.51673300e-05,\n",
       "       7.01854290e-05, 9.81276547e-05, 3.54312543e-04, 3.27075571e-04,\n",
       "       5.88140585e-04, 1.05037416e-03, 8.49498295e-04, 2.88089512e-03,\n",
       "       1.49779646e-03, 1.35403249e-03, 1.46653540e-03, 8.71339264e-04,\n",
       "       3.95255190e-04, 1.44610549e-04, 5.77780753e-05, 2.42163504e-05,\n",
       "       5.51739309e-06, 1.99141730e-06, 2.64652049e-07, 0.00000000e+00,\n",
       "       0.00000000e+00, 0.00000000e+00, 0.00000000e+00, 0.00000000e+00,\n",
       "       4.88717315e-06, 8.94436775e-06, 3.14148882e-05, 7.63249547e-05,\n",
       "       2.21435571e-04, 3.14657401e-04, 5.77349186e-04, 9.64050528e-04,\n",
       "       1.40826197e-03, 1.93760844e-03, 2.47756483e-03, 2.22056535e-03,\n",
       "       1.50760814e-03, 1.12148094e-03, 6.91286523e-04, 5.29627137e-04,\n",
       "       3.54307086e-04, 1.87343446e-04, 1.34332115e-04, 7.53628917e-05,\n",
       "       3.85188623e-05, 1.26488596e-05, 3.96932013e-07, 0.00000000e+00,\n",
       "       0.00000000e+00, 0.00000000e+00, 5.08997319e-07, 2.38092329e-06,\n",
       "       1.65175020e-05, 3.79148134e-05, 1.09718974e-04, 2.44763600e-04,\n",
       "       6.91993266e-04, 1.48764453e-03, 1.87501880e-03, 3.55429299e-03,\n",
       "       3.10055235e-03, 4.73527533e-03, 6.27087634e-03, 5.90174191e-03,\n",
       "       4.98290165e-03, 2.78011237e-03, 2.52384895e-03, 1.40372877e-03,\n",
       "       1.02671003e-03, 5.78155469e-04, 5.13369852e-04, 4.06043096e-04,\n",
       "       9.47972752e-05, 2.90389984e-05, 7.70301508e-06, 0.00000000e+00,\n",
       "       0.00000000e+00, 0.00000000e+00, 1.86154125e-06, 5.80179601e-06,\n",
       "       2.54284451e-05, 9.67606281e-05, 2.73625564e-04, 4.04635711e-04,\n",
       "       1.00416943e-03, 2.17091959e-03, 2.58119710e-03, 2.35386488e-03,\n",
       "       2.52593156e-03, 3.26341633e-03, 3.53101573e-03, 4.45374918e-03,\n",
       "       3.47554982e-03, 2.50993752e-03, 2.28794826e-03, 1.61624789e-03,\n",
       "       1.51172113e-03, 1.23697378e-03, 1.15983893e-03, 1.03525639e-03,\n",
       "       3.60581770e-04, 7.34236313e-05, 7.07681027e-06, 5.29290180e-07,\n",
       "       0.00000000e+00, 4.43677969e-07, 2.83091308e-06, 1.26943681e-05,\n",
       "       7.24834073e-05, 1.64271360e-04, 3.56076320e-04, 5.43212808e-04,\n",
       "       1.35927951e-03, 2.27364501e-03, 1.96032064e-03, 2.62142642e-03,\n",
       "       2.96065326e-03, 4.35665934e-03, 4.47714334e-03, 6.29933902e-03,\n",
       "       4.37637231e-03, 2.98442545e-03, 2.70230759e-03, 2.57221675e-03,\n",
       "       1.73847436e-03, 1.54532982e-03, 1.37855752e-03, 1.20807125e-03,\n",
       "       7.87712316e-04, 1.25377067e-04, 1.04333368e-05, 4.23415063e-07,\n",
       "       1.61708898e-06, 2.00853608e-06, 2.87543722e-06, 2.40792039e-05,\n",
       "       7.08585744e-05, 1.81384709e-04, 4.07595135e-04, 8.17349837e-04,\n",
       "       9.80732435e-04, 1.73263991e-03, 2.73645667e-03, 2.87981999e-03,\n",
       "       3.16425871e-03, 3.48279080e-03, 4.62039368e-03, 6.67948908e-03,\n",
       "       5.38343657e-03, 3.58879428e-03, 3.11881196e-03, 3.35620696e-03,\n",
       "       2.07087935e-03, 1.47616346e-03, 1.15128509e-03, 1.20312326e-03,\n",
       "       8.26115385e-04, 2.27229186e-04, 2.55211428e-05, 8.75297950e-07,\n",
       "       0.00000000e+00, 5.14747770e-07, 1.00497094e-05, 3.69790804e-05,\n",
       "       1.35195353e-04, 2.38018952e-04, 6.89770798e-04, 5.73553441e-04,\n",
       "       1.17071790e-03, 3.25796631e-03, 2.99925134e-03, 4.26024667e-03,\n",
       "       2.66735254e-03, 3.57364714e-03, 3.29726115e-03, 3.47259651e-03,\n",
       "       2.92265599e-03, 3.93352409e-03, 4.68692207e-03, 2.50622784e-03,\n",
       "       3.03437116e-03, 1.90814689e-03, 9.77890880e-04, 8.11506765e-04,\n",
       "       4.37567855e-04, 1.29726542e-04, 1.48197496e-05, 4.63122584e-07,\n",
       "       0.00000000e+00, 5.09682144e-07, 3.02410818e-06, 2.09573997e-05,\n",
       "       1.21430120e-04, 1.93406114e-04, 6.43258556e-04, 1.24528959e-03,\n",
       "       1.71122932e-03, 3.42407575e-03, 7.38325462e-03, 5.74417740e-03,\n",
       "       3.65019112e-03, 2.78452862e-03, 3.73238370e-03, 3.60307541e-03,\n",
       "       3.27149147e-03, 3.87433312e-03, 3.59173852e-03, 3.39918799e-03,\n",
       "       2.61988997e-03, 2.06337030e-03, 9.69549455e-04, 4.38991407e-04,\n",
       "       1.90190987e-04, 7.60785496e-05, 6.54456271e-06, 2.07982895e-06,\n",
       "       0.00000000e+00, 7.59232614e-07, 8.87551519e-06, 3.23661474e-05,\n",
       "       1.07573426e-04, 2.87259812e-04, 6.04371526e-04, 1.65365852e-03,\n",
       "       2.45181454e-03, 3.36826341e-03, 6.01165214e-03, 4.36937788e-03,\n",
       "       3.59743789e-03, 3.04408881e-03, 5.74302147e-03, 4.52064021e-03,\n",
       "       3.64827276e-03, 3.81193339e-03, 4.10475698e-03, 2.99784623e-03,\n",
       "       2.50951026e-03, 2.13898763e-03, 8.86429518e-04, 4.70824859e-04,\n",
       "       1.57136553e-04, 4.17736072e-05, 1.36408935e-05, 2.56175543e-06,\n",
       "       0.00000000e+00, 0.00000000e+00, 4.41079229e-07, 3.07126616e-05,\n",
       "       9.20268850e-05, 2.54014247e-04, 7.77419914e-04, 1.71278526e-03,\n",
       "       3.43197915e-03, 4.05791196e-03, 5.66387960e-03, 5.90870294e-03,\n",
       "       4.10193611e-03, 3.70909813e-03, 7.40935888e-03, 3.94286507e-03,\n",
       "       3.52867605e-03, 3.43592325e-03, 4.64772987e-03, 2.17180451e-03,\n",
       "       1.95521698e-03, 1.99877908e-03, 1.45320093e-03, 1.07264415e-03,\n",
       "       1.81069803e-04, 1.89827483e-05, 6.31792502e-06, 3.38481269e-06,\n",
       "       0.00000000e+00, 0.00000000e+00, 3.80841724e-06, 1.82303250e-05,\n",
       "       7.95018438e-05, 3.94496838e-04, 1.01794487e-03, 2.56524745e-03,\n",
       "       3.19352207e-03, 4.69971615e-03, 5.69850839e-03, 4.98823179e-03,\n",
       "       5.81943655e-03, 6.50214255e-03, 1.01494956e-02, 4.75648980e-03,\n",
       "       4.25444332e-03, 5.41705591e-03, 3.53887286e-03, 1.57502081e-03,\n",
       "       1.35863790e-03, 1.57728393e-03, 2.33176159e-03, 1.13617088e-03,\n",
       "       1.67518870e-04, 2.50987737e-05, 5.55578261e-06, 1.04677848e-06,\n",
       "       0.00000000e+00, 0.00000000e+00, 5.14728775e-07, 2.05695327e-05,\n",
       "       9.27693374e-05, 4.31249329e-04, 9.22971560e-04, 2.03780664e-03,\n",
       "       4.10941977e-03, 4.22515258e-03, 5.87085891e-03, 5.01384135e-03,\n",
       "       4.19309730e-03, 7.87704197e-03, 5.91798883e-03, 3.79678702e-03,\n",
       "       3.78992260e-03, 8.11107202e-03, 3.43189465e-03, 1.45362102e-03,\n",
       "       1.21597544e-03, 1.16678247e-03, 2.89142710e-03, 4.84100078e-04,\n",
       "       1.59677665e-04, 2.11951639e-05, 9.05765411e-06, 3.52836311e-07,\n",
       "       0.00000000e+00, 0.00000000e+00, 1.65475350e-06, 1.34605832e-05,\n",
       "       1.03201122e-04, 3.57360017e-04, 8.76040682e-04, 2.91786872e-03,\n",
       "       4.86250837e-03, 3.12227732e-03, 4.76031381e-03, 4.62855306e-03,\n",
       "       4.31980287e-03, 8.43435322e-03, 5.50738874e-03, 4.34212154e-03,\n",
       "       3.81877340e-03, 6.98512884e-03, 3.32336121e-03, 1.54416197e-03,\n",
       "       1.75051495e-03, 2.11757468e-03, 8.11103794e-04, 5.99706536e-04,\n",
       "       1.34072362e-04, 3.67198093e-05, 8.34689952e-06, 2.50871680e-06,\n",
       "       0.00000000e+00, 0.00000000e+00, 3.83954668e-06, 2.34274996e-05,\n",
       "       7.01801944e-05, 6.29583014e-04, 1.66001567e-03, 3.07431070e-03,\n",
       "       4.73248843e-03, 5.28443007e-03, 3.79564207e-03, 5.44245657e-03,\n",
       "       5.45684612e-03, 7.26684244e-03, 5.26299411e-03, 2.57720297e-03,\n",
       "       2.67966505e-03, 4.13713324e-03, 2.87398881e-03, 2.44114265e-03,\n",
       "       1.22730088e-03, 1.05971525e-03, 5.77210950e-04, 3.94996986e-04,\n",
       "       2.09050585e-04, 4.24738026e-05, 2.32522373e-05, 7.59559679e-06,\n",
       "       0.00000000e+00, 0.00000000e+00, 9.03559636e-06, 4.28166102e-05,\n",
       "       1.20863457e-04, 4.71966091e-04, 1.32628179e-03, 2.88515131e-03,\n",
       "       3.37722660e-03, 4.72073046e-03, 5.04918048e-03, 5.15552946e-03,\n",
       "       5.94949209e-03, 5.32016713e-03, 3.55544928e-03, 2.82303870e-03,\n",
       "       1.81124483e-03, 2.62302686e-03, 2.89232998e-03, 1.81886510e-03,\n",
       "       1.57567225e-03, 1.02730350e-03, 5.47463931e-04, 3.55689655e-04,\n",
       "       1.74006862e-04, 4.15299822e-05, 1.40291364e-05, 4.52466525e-06,\n",
       "       0.00000000e+00, 7.05769562e-07, 6.53665989e-06, 5.76691504e-05,\n",
       "       1.56002418e-04, 5.42544204e-04, 9.25365312e-04, 2.40358769e-03,\n",
       "       2.72627520e-03, 3.50286629e-03, 6.49955048e-03, 6.10852377e-03,\n",
       "       4.02889358e-03, 4.60517623e-03, 3.08404432e-03, 1.86980664e-03,\n",
       "       1.49213777e-03, 2.42575840e-03, 2.68118691e-03, 2.91553366e-03,\n",
       "       1.25207799e-03, 9.42257796e-04, 4.95453950e-04, 3.79506398e-04,\n",
       "       1.41495182e-04, 3.86498211e-05, 4.85832997e-06, 6.55735781e-06,\n",
       "       0.00000000e+00, 0.00000000e+00, 7.47115798e-06, 7.83500371e-05,\n",
       "       1.89512817e-04, 5.37644784e-04, 1.42450296e-03, 2.64611784e-03,\n",
       "       2.27015473e-03, 5.53102335e-03, 6.29713038e-03, 5.08973165e-03,\n",
       "       3.84302194e-03, 2.78193691e-03, 1.87898365e-03, 1.43010519e-03,\n",
       "       1.39649216e-03, 2.01952349e-03, 2.73476496e-03, 3.29952313e-03,\n",
       "       1.93045678e-03, 1.31615495e-03, 5.61167549e-04, 4.75443908e-04,\n",
       "       1.30395956e-04, 4.39915347e-05, 3.89267014e-06, 0.00000000e+00,\n",
       "       0.00000000e+00, 5.27985323e-07, 8.23991092e-06, 8.65387668e-05,\n",
       "       1.74360708e-04, 6.98678365e-04, 1.73552307e-03, 3.51952304e-03,\n",
       "       6.63451253e-03, 3.78161257e-03, 3.70305939e-03, 4.89449706e-03,\n",
       "       2.77625277e-03, 2.26858027e-03, 2.17997329e-03, 1.41700810e-03,\n",
       "       1.62061935e-03, 1.81223365e-03, 2.30755412e-03, 2.12051893e-03,\n",
       "       1.23538696e-03, 1.16642672e-03, 6.17132312e-04, 3.75602277e-04,\n",
       "       1.10680264e-04, 2.79184347e-05, 8.58088050e-07, 0.00000000e+00,\n",
       "       0.00000000e+00, 1.11450441e-06, 4.41399872e-06, 6.65668014e-05,\n",
       "       1.73974485e-04, 5.53978717e-04, 1.20819132e-03, 2.60359756e-03,\n",
       "       4.17826064e-03, 3.89050757e-03, 2.73515172e-03, 1.66380937e-03,\n",
       "       1.65635062e-03, 1.53814269e-03, 1.42474461e-03, 1.26794907e-03,\n",
       "       1.12411070e-03, 1.31937668e-03, 1.37742147e-03, 9.79945281e-04,\n",
       "       1.05303598e-03, 5.66967806e-04, 4.08388148e-04, 1.42531147e-04,\n",
       "       4.92861451e-05, 9.80252210e-06, 5.17253512e-07, 0.00000000e+00,\n",
       "       0.00000000e+00, 0.00000000e+00, 1.43893888e-06, 4.83509333e-05,\n",
       "       9.27663538e-05, 2.56582656e-04, 6.47337252e-04, 1.59703840e-03,\n",
       "       3.06822085e-03, 3.45772015e-03, 3.88326342e-03, 2.70091405e-03,\n",
       "       2.05161325e-03, 1.84104673e-03, 1.76085584e-03, 1.67517123e-03,\n",
       "       1.15075239e-03, 1.15509254e-03, 8.33682983e-04, 7.09128362e-04,\n",
       "       3.96220207e-04, 3.31399439e-04, 1.31983163e-04, 7.31914239e-05,\n",
       "       2.01730523e-05, 4.59099603e-06, 2.50427474e-06, 0.00000000e+00,\n",
       "       0.00000000e+00, 0.00000000e+00, 1.37774075e-06, 1.85324289e-05,\n",
       "       6.98965334e-05, 1.27781196e-04, 2.85173768e-04, 7.45180219e-04,\n",
       "       1.05896178e-03, 2.93572821e-03, 3.24530670e-03, 4.91135938e-03,\n",
       "       4.54473342e-03, 3.98694825e-03, 3.40833312e-03, 2.35996606e-03,\n",
       "       1.68804018e-03, 1.17137112e-03, 6.33737196e-04, 4.01647023e-04,\n",
       "       2.23420617e-04, 1.48913575e-04, 7.65441159e-05, 3.76589801e-05,\n",
       "       8.52507131e-06, 1.45657048e-06, 1.51614022e-06, 0.00000000e+00,\n",
       "       0.00000000e+00, 0.00000000e+00, 1.52002324e-06, 1.07052955e-05,\n",
       "       5.37544588e-05, 9.48198768e-05, 2.39164850e-04, 3.84735253e-04,\n",
       "       6.00526700e-04, 9.00349683e-04, 1.08706685e-03, 1.49725812e-03,\n",
       "       1.87865533e-03, 1.66855122e-03, 1.08948510e-03, 7.61575552e-04,\n",
       "       5.53025498e-04, 4.32883655e-04, 3.29147438e-04, 3.01612531e-04,\n",
       "       1.41870875e-04, 9.57090690e-05, 4.91975825e-05, 2.99298121e-05,\n",
       "       8.79430456e-06, 1.31748786e-06, 1.98572977e-06, 0.00000000e+00,\n",
       "       0.00000000e+00, 0.00000000e+00, 0.00000000e+00, 3.22212746e-06,\n",
       "       1.74640662e-05, 4.62193632e-05, 9.31216153e-05, 2.56886158e-04,\n",
       "       4.31938171e-04, 5.96368552e-04, 8.75794912e-04, 8.41630284e-04,\n",
       "       1.33807097e-03, 5.28360801e-04, 8.60413026e-04, 4.92055157e-04,\n",
       "       6.35361568e-04, 5.39653998e-04, 4.34827999e-04, 1.50123669e-04,\n",
       "       1.14327332e-04, 4.95983202e-05, 1.99037442e-05, 5.18755577e-06,\n",
       "       2.03437632e-06, 0.00000000e+00, 0.00000000e+00, 0.00000000e+00,\n",
       "       0.00000000e+00, 0.00000000e+00, 0.00000000e+00, 0.00000000e+00,\n",
       "       7.75966575e-06, 1.45338462e-05, 1.10878925e-05, 1.73805936e-05,\n",
       "       5.04377208e-05, 1.55504411e-04, 7.50746630e-05, 1.26635221e-04,\n",
       "       3.79610163e-04, 2.04239643e-04, 1.55630626e-04, 2.15445120e-04,\n",
       "       2.23950093e-04, 1.16683519e-04, 6.15790774e-05, 4.86281378e-05,\n",
       "       1.65963932e-05, 1.20169703e-05, 5.79960932e-06, 3.12864309e-06,\n",
       "       0.00000000e+00, 0.00000000e+00, 0.00000000e+00, 0.00000000e+00,\n",
       "       0.00000000e+00, 0.00000000e+00, 0.00000000e+00, 0.00000000e+00,\n",
       "       0.00000000e+00, 0.00000000e+00, 2.69321447e-06, 2.64643806e-07,\n",
       "       0.00000000e+00, 1.03642906e-06, 2.14283312e-06, 1.44635569e-06,\n",
       "       2.41642397e-06, 5.43679080e-06, 2.01515858e-06, 3.62137536e-06,\n",
       "       3.90989963e-06, 5.98142866e-06, 4.96725471e-07, 3.07697067e-06,\n",
       "       5.12392401e-07, 1.35823886e-06, 0.00000000e+00, 5.21073897e-07,\n",
       "       0.00000000e+00, 0.00000000e+00, 0.00000000e+00, 0.00000000e+00])"
      ]
     },
     "execution_count": 43,
     "metadata": {},
     "output_type": "execute_result"
    }
   ],
   "execution_count": 43
  },
  {
   "metadata": {
    "ExecuteTime": {
     "end_time": "2024-12-27T06:32:44.356983Z",
     "start_time": "2024-12-27T06:32:44.344585Z"
    }
   },
   "cell_type": "code",
   "source": "rf.feature_importances_.shape",
   "id": "9822c816240eadc",
   "outputs": [
    {
     "data": {
      "text/plain": [
       "(784,)"
      ]
     },
     "execution_count": 44,
     "metadata": {},
     "output_type": "execute_result"
    }
   ],
   "execution_count": 44
  },
  {
   "metadata": {
    "ExecuteTime": {
     "end_time": "2024-12-27T06:32:44.620335Z",
     "start_time": "2024-12-27T06:32:44.356983Z"
    }
   },
   "cell_type": "code",
   "source": "sns.heatmap(rf.feature_importances_.reshape(28,28))",
   "id": "b95b50f8ae6e3d4c",
   "outputs": [
    {
     "data": {
      "text/plain": [
       "<Axes: >"
      ]
     },
     "execution_count": 45,
     "metadata": {},
     "output_type": "execute_result"
    },
    {
     "data": {
      "text/plain": [
       "<Figure size 640x480 with 2 Axes>"
      ],
      "image/png": "[encoded data removed]"
     },
     "metadata": {},
     "output_type": "display_data"
    }
   ],
   "execution_count": 45
  },
  {
   "metadata": {
    "ExecuteTime": {
     "end_time": "2024-12-27T06:32:44.636955Z",
     "start_time": "2024-12-27T06:32:44.620335Z"
    }
   },
   "cell_type": "code",
   "source": "(pd.DataFrame(rf.feature_importances_)).sort_values(by=0,ascending=False).iloc[:50,:]",
   "id": "bda9bdf7d72c1d18",
   "outputs": [
    {
     "data": {
      "text/plain": [
       "            0\n",
       "378  0.010149\n",
       "433  0.008434\n",
       "409  0.008111\n",
       "405  0.007877\n",
       "350  0.007409\n",
       "290  0.007383\n",
       "461  0.007267\n",
       "437  0.006985\n",
       "239  0.006679\n",
       "568  0.006635\n",
       "377  0.006502\n",
       "514  0.006500\n",
       "211  0.006299\n",
       "542  0.006297\n",
       "154  0.006271\n",
       "515  0.006109\n",
       "318  0.006012\n",
       "488  0.005949\n",
       "406  0.005918\n",
       "347  0.005909\n",
       "155  0.005902\n",
       "402  0.005871\n",
       "376  0.005819\n",
       "291  0.005744\n",
       "322  0.005743\n",
       "374  0.005699\n",
       "346  0.005664\n",
       "541  0.005531\n",
       "434  0.005507\n",
       "460  0.005457\n",
       "459  0.005442\n",
       "381  0.005417\n",
       "240  0.005383\n",
       "489  0.005320\n",
       "457  0.005284\n",
       "462  0.005263\n",
       "487  0.005156\n",
       "543  0.005090\n",
       "486  0.005049\n",
       "403  0.005014\n",
       "375  0.004988\n",
       "156  0.004983\n",
       "655  0.004911\n",
       "571  0.004894\n",
       "428  0.004863\n",
       "430  0.004760\n",
       "379  0.004756\n",
       "153  0.004735\n",
       "456  0.004732\n",
       "485  0.004721"
      ],
      "text/html": [
       "<div>\n",
       "<style scoped>\n",
       "    .dataframe tbody tr th:only-of-type {\n",
       "        vertical-align: middle;\n",
       "    }\n",
       "\n",
       "    .dataframe tbody tr th {\n",
       "        vertical-align: top;\n",
       "    }\n",
       "\n",
       "    .dataframe thead th {\n",
       "        text-align: right;\n",
       "    }\n",
       "</style>\n",
       "<table border=\"1\" class=\"dataframe\">\n",
       "  <thead>\n",
       "    <tr style=\"text-align: right;\">\n",
       "      <th></th>\n",
       "      <th>0</th>\n",
       "    </tr>\n",
       "  </thead>\n",
       "  <tbody>\n",
       "    <tr>\n",
       "      <th>378</th>\n",
       "      <td>0.010149</td>\n",
       "    </tr>\n",
       "    <tr>\n",
       "      <th>433</th>\n",
       "      <td>0.008434</td>\n",
       "    </tr>\n",
       "    <tr>\n",
       "      <th>409</th>\n",
       "      <td>0.008111</td>\n",
       "    </tr>\n",
       "    <tr>\n",
       "      <th>405</th>\n",
       "      <td>0.007877</td>\n",
       "    </tr>\n",
       "    <tr>\n",
       "      <th>350</th>\n",
       "      <td>0.007409</td>\n",
       "    </tr>\n",
       "    <tr>\n",
       "      <th>290</th>\n",
       "      <td>0.007383</td>\n",
       "    </tr>\n",
       "    <tr>\n",
       "      <th>461</th>\n",
       "      <td>0.007267</td>\n",
       "    </tr>\n",
       "    <tr>\n",
       "      <th>437</th>\n",
       "      <td>0.006985</td>\n",
       "    </tr>\n",
       "    <tr>\n",
       "      <th>239</th>\n",
       "      <td>0.006679</td>\n",
       "    </tr>\n",
       "    <tr>\n",
       "      <th>568</th>\n",
       "      <td>0.006635</td>\n",
       "    </tr>\n",
       "    <tr>\n",
       "      <th>377</th>\n",
       "      <td>0.006502</td>\n",
       "    </tr>\n",
       "    <tr>\n",
       "      <th>514</th>\n",
       "      <td>0.006500</td>\n",
       "    </tr>\n",
       "    <tr>\n",
       "      <th>211</th>\n",
       "      <td>0.006299</td>\n",
       "    </tr>\n",
       "    <tr>\n",
       "      <th>542</th>\n",
       "      <td>0.006297</td>\n",
       "    </tr>\n",
       "    <tr>\n",
       "      <th>154</th>\n",
       "      <td>0.006271</td>\n",
       "    </tr>\n",
       "    <tr>\n",
       "      <th>515</th>\n",
       "      <td>0.006109</td>\n",
       "    </tr>\n",
       "    <tr>\n",
       "      <th>318</th>\n",
       "      <td>0.006012</td>\n",
       "    </tr>\n",
       "    <tr>\n",
       "      <th>488</th>\n",
       "      <td>0.005949</td>\n",
       "    </tr>\n",
       "    <tr>\n",
       "      <th>406</th>\n",
       "      <td>0.005918</td>\n",
       "    </tr>\n",
       "    <tr>\n",
       "      <th>347</th>\n",
       "      <td>0.005909</td>\n",
       "    </tr>\n",
       "    <tr>\n",
       "      <th>155</th>\n",
       "      <td>0.005902</td>\n",
       "    </tr>\n",
       "    <tr>\n",
       "      <th>402</th>\n",
       "      <td>0.005871</td>\n",
       "    </tr>\n",
       "    <tr>\n",
       "      <th>376</th>\n",
       "      <td>0.005819</td>\n",
       "    </tr>\n",
       "    <tr>\n",
       "      <th>291</th>\n",
       "      <td>0.005744</td>\n",
       "    </tr>\n",
       "    <tr>\n",
       "      <th>322</th>\n",
       "      <td>0.005743</td>\n",
       "    </tr>\n",
       "    <tr>\n",
       "      <th>374</th>\n",
       "      <td>0.005699</td>\n",
       "    </tr>\n",
       "    <tr>\n",
       "      <th>346</th>\n",
       "      <td>0.005664</td>\n",
       "    </tr>\n",
       "    <tr>\n",
       "      <th>541</th>\n",
       "      <td>0.005531</td>\n",
       "    </tr>\n",
       "    <tr>\n",
       "      <th>434</th>\n",
       "      <td>0.005507</td>\n",
       "    </tr>\n",
       "    <tr>\n",
       "      <th>460</th>\n",
       "      <td>0.005457</td>\n",
       "    </tr>\n",
       "    <tr>\n",
       "      <th>459</th>\n",
       "      <td>0.005442</td>\n",
       "    </tr>\n",
       "    <tr>\n",
       "      <th>381</th>\n",
       "      <td>0.005417</td>\n",
       "    </tr>\n",
       "    <tr>\n",
       "      <th>240</th>\n",
       "      <td>0.005383</td>\n",
       "    </tr>\n",
       "    <tr>\n",
       "      <th>489</th>\n",
       "      <td>0.005320</td>\n",
       "    </tr>\n",
       "    <tr>\n",
       "      <th>457</th>\n",
       "      <td>0.005284</td>\n",
       "    </tr>\n",
       "    <tr>\n",
       "      <th>462</th>\n",
       "      <td>0.005263</td>\n",
       "    </tr>\n",
       "    <tr>\n",
       "      <th>487</th>\n",
       "      <td>0.005156</td>\n",
       "    </tr>\n",
       "    <tr>\n",
       "      <th>543</th>\n",
       "      <td>0.005090</td>\n",
       "    </tr>\n",
       "    <tr>\n",
       "      <th>486</th>\n",
       "      <td>0.005049</td>\n",
       "    </tr>\n",
       "    <tr>\n",
       "      <th>403</th>\n",
       "      <td>0.005014</td>\n",
       "    </tr>\n",
       "    <tr>\n",
       "      <th>375</th>\n",
       "      <td>0.004988</td>\n",
       "    </tr>\n",
       "    <tr>\n",
       "      <th>156</th>\n",
       "      <td>0.004983</td>\n",
       "    </tr>\n",
       "    <tr>\n",
       "      <th>655</th>\n",
       "      <td>0.004911</td>\n",
       "    </tr>\n",
       "    <tr>\n",
       "      <th>571</th>\n",
       "      <td>0.004894</td>\n",
       "    </tr>\n",
       "    <tr>\n",
       "      <th>428</th>\n",
       "      <td>0.004863</td>\n",
       "    </tr>\n",
       "    <tr>\n",
       "      <th>430</th>\n",
       "      <td>0.004760</td>\n",
       "    </tr>\n",
       "    <tr>\n",
       "      <th>379</th>\n",
       "      <td>0.004756</td>\n",
       "    </tr>\n",
       "    <tr>\n",
       "      <th>153</th>\n",
       "      <td>0.004735</td>\n",
       "    </tr>\n",
       "    <tr>\n",
       "      <th>456</th>\n",
       "      <td>0.004732</td>\n",
       "    </tr>\n",
       "    <tr>\n",
       "      <th>485</th>\n",
       "      <td>0.004721</td>\n",
       "    </tr>\n",
       "  </tbody>\n",
       "</table>\n",
       "</div>"
      ]
     },
     "execution_count": 46,
     "metadata": {},
     "output_type": "execute_result"
    }
   ],
   "execution_count": 46
  },
  {
   "metadata": {},
   "cell_type": "markdown",
   "source": "# How features important calculated",
   "id": "7d2ec6782412881e"
  },
  {
   "metadata": {
    "ExecuteTime": {
     "end_time": "2024-12-27T06:32:44.640647Z",
     "start_time": "2024-12-27T06:32:44.636955Z"
    }
   },
   "cell_type": "code",
   "source": [
    "from sklearn.datasets import make_classification\n",
    "from sklearn.tree import DecisionTreeClassifier"
   ],
   "id": "376cfdf461d39f8",
   "outputs": [],
   "execution_count": 47
  },
  {
   "metadata": {
    "ExecuteTime": {
     "end_time": "2024-12-27T06:32:44.645549Z",
     "start_time": "2024-12-27T06:32:44.640647Z"
    }
   },
   "cell_type": "code",
   "source": [
    "X,y = make_classification(n_samples=5, n_classes=2,\n",
    "                          n_features=2, n_informative=2, n_redundant=0,\n",
    "                          random_state=0)"
   ],
   "id": "fcdc3e424e930dd1",
   "outputs": [],
   "execution_count": 48
  },
  {
   "metadata": {
    "ExecuteTime": {
     "end_time": "2024-12-27T06:32:44.650896Z",
     "start_time": "2024-12-27T06:32:44.645549Z"
    }
   },
   "cell_type": "code",
   "source": "X",
   "id": "287d956453cbbe51",
   "outputs": [
    {
     "data": {
      "text/plain": [
       "array([[ 0.96399434, -0.12399406],\n",
       "       [ 1.05699092,  0.69448021],\n",
       "       [-0.55744457,  0.08369352],\n",
       "       [-1.19224399, -1.66447018],\n",
       "       [-0.3874711 ,  1.38366234]])"
      ]
     },
     "execution_count": 49,
     "metadata": {},
     "output_type": "execute_result"
    }
   ],
   "execution_count": 49
  },
  {
   "metadata": {},
   "cell_type": "markdown",
   "source": "### Using Decision Tree",
   "id": "e06fb6b8ff369090"
  },
  {
   "metadata": {
    "ExecuteTime": {
     "end_time": "2024-12-27T06:32:44.656440Z",
     "start_time": "2024-12-27T06:32:44.650896Z"
    }
   },
   "cell_type": "code",
   "source": [
    "dtc = DecisionTreeClassifier()\n",
    "dtc.fit(X,y)\n",
    "dtc.feature_importances_"
   ],
   "id": "118158aedccd5ca0",
   "outputs": [
    {
     "data": {
      "text/plain": [
       "array([1., 0.])"
      ]
     },
     "execution_count": 50,
     "metadata": {},
     "output_type": "execute_result"
    }
   ],
   "execution_count": 50
  },
  {
   "metadata": {
    "ExecuteTime": {
     "end_time": "2024-12-27T06:32:44.841276Z",
     "start_time": "2024-12-27T06:32:44.656440Z"
    }
   },
   "cell_type": "code",
   "source": [
    "from sklearn.tree import plot_tree\n",
    "plot_tree(dtc)"
   ],
   "id": "120ab004ab919c95",
   "outputs": [
    {
     "data": {
      "text/plain": [
       "[Text(0.4, 0.8333333333333334, 'x[0] <= -0.875\\ngini = 0.48\\nsamples = 5\\nvalue = [3, 2]'),\n",
       " Text(0.2, 0.5, 'gini = 0.0\\nsamples = 1\\nvalue = [0, 1]'),\n",
       " Text(0.6, 0.5, 'x[0] <= 1.01\\ngini = 0.375\\nsamples = 4\\nvalue = [3, 1]'),\n",
       " Text(0.4, 0.16666666666666666, 'gini = 0.0\\nsamples = 3\\nvalue = [3, 0]'),\n",
       " Text(0.8, 0.16666666666666666, 'gini = 0.0\\nsamples = 1\\nvalue = [0, 1]')]"
      ]
     },
     "execution_count": 51,
     "metadata": {},
     "output_type": "execute_result"
    },
    {
     "data": {
      "text/plain": [
       "<Figure size 640x480 with 1 Axes>"
      ],
      "image/png": "[encoded data removed]"
     },
     "metadata": {},
     "output_type": "display_data"
    }
   ],
   "execution_count": 51
  },
  {
   "metadata": {},
   "cell_type": "markdown",
   "source": "### Using Random forrest",
   "id": "c3537327b8b38e34"
  },
  {
   "metadata": {
    "ExecuteTime": {
     "end_time": "2024-12-27T06:33:38.767554Z",
     "start_time": "2024-12-27T06:33:38.745402Z"
    }
   },
   "cell_type": "code",
   "source": [
    "rf = RandomForestClassifier(n_estimators=3)\n",
    "rf.fit(X,y)\n",
    "rf.feature_importances_"
   ],
   "id": "2c71815d99015b81",
   "outputs": [
    {
     "data": {
      "text/plain": [
       "array([0.66666667, 0.33333333])"
      ]
     },
     "execution_count": 55,
     "metadata": {},
     "output_type": "execute_result"
    }
   ],
   "execution_count": 55
  },
  {
   "metadata": {
    "ExecuteTime": {
     "end_time": "2024-12-27T06:33:39.155986Z",
     "start_time": "2024-12-27T06:33:39.137130Z"
    }
   },
   "cell_type": "code",
   "source": "rf.estimators_",
   "id": "db02d6174a1125ef",
   "outputs": [
    {
     "data": {
      "text/plain": [
       "[DecisionTreeClassifier(max_features='sqrt', random_state=605156255),\n",
       " DecisionTreeClassifier(max_features='sqrt', random_state=1111167150),\n",
       " DecisionTreeClassifier(max_features='sqrt', random_state=1202414752)]"
      ]
     },
     "execution_count": 56,
     "metadata": {},
     "output_type": "execute_result"
    }
   ],
   "execution_count": 56
  },
  {
   "metadata": {
    "ExecuteTime": {
     "end_time": "2024-12-27T06:33:39.713518Z",
     "start_time": "2024-12-27T06:33:39.696019Z"
    }
   },
   "cell_type": "code",
   "source": [
    "print(rf.estimators_[0].feature_importances_)\n",
    "print(rf.estimators_[1].feature_importances_)\n",
    "print(rf.estimators_[2].feature_importances_)"
   ],
   "id": "b58b5c56487c777",
   "outputs": [
    {
     "name": "stdout",
     "output_type": "stream",
     "text": [
      "[1. 0.]\n",
      "[0. 1.]\n",
      "[1. 0.]\n"
     ]
    }
   ],
   "execution_count": 57
  },
  {
   "metadata": {},
   "cell_type": "code",
   "outputs": [],
   "execution_count": null,
   "source": "",
   "id": "2511725204683aae"
  }
 ],
 "metadata": {
  "kernelspec": {
   "display_name": "Python 3",
   "language": "python",
   "name": "python3"
  },
  "language_info": {
   "codemirror_mode": {
    "name": "ipython",
    "version": 2
   },
   "file_extension": ".py",
   "mimetype": "text/x-python",
   "name": "python",
   "nbconvert_exporter": "python",
   "pygments_lexer": "ipython2",
   "version": "2.7.6"
  }
 },
 "nbformat": 4,
 "nbformat_minor": 5
}
