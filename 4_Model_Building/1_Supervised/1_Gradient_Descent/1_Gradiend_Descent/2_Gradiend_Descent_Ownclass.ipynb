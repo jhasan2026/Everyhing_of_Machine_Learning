{
 "cells": [
  {
   "cell_type": "code",
   "id": "initial_id",
   "metadata": {
    "collapsed": true,
    "ExecuteTime": {
     "end_time": "2024-12-24T10:10:39.670851Z",
     "start_time": "2024-12-24T10:10:39.657605Z"
    }
   },
   "source": [
    "from sklearn.datasets import make_regression\n",
    "import matplotlib.pyplot as plt\n",
    "import numpy as np\n",
    "from sklearn.model_selection import cross_val_score\n",
    "from sklearn.metrics import r2_score"
   ],
   "outputs": [],
   "execution_count": 20
  },
  {
   "metadata": {
    "ExecuteTime": {
     "end_time": "2024-12-24T10:10:39.685107Z",
     "start_time": "2024-12-24T10:10:39.671868Z"
    }
   },
   "cell_type": "code",
   "source": "X, y = make_regression(n_samples=100, n_features=1,n_targets=1,n_informative=1,noise=20,random_state=13)",
   "id": "e6ccb170163f861d",
   "outputs": [],
   "execution_count": 21
  },
  {
   "metadata": {
    "ExecuteTime": {
     "end_time": "2024-12-24T10:10:39.833532Z",
     "start_time": "2024-12-24T10:10:39.686326Z"
    }
   },
   "cell_type": "code",
   "source": "plt.scatter(X,y)",
   "id": "24c4a20fa6461431",
   "outputs": [
    {
     "data": {
      "text/plain": [
       "<matplotlib.collections.PathCollection at 0x17139c27e10>"
      ]
     },
     "execution_count": 22,
     "metadata": {},
     "output_type": "execute_result"
    },
    {
     "data": {
      "text/plain": [
       "<Figure size 640x480 with 1 Axes>"
      ],
      "image/png": "[encoded data removed]"
     },
     "metadata": {},
     "output_type": "display_data"
    }
   ],
   "execution_count": 22
  },
  {
   "metadata": {
    "ExecuteTime": {
     "end_time": "2024-12-24T10:10:39.838261Z",
     "start_time": "2024-12-24T10:10:39.833532Z"
    }
   },
   "cell_type": "code",
   "source": [
    "from sklearn.model_selection import train_test_split\n",
    "X_train,X_test,y_train,y_test = train_test_split(X,y,test_size=0.2,random_state=2)"
   ],
   "id": "75b82ef5c071b58c",
   "outputs": [],
   "execution_count": 23
  },
  {
   "metadata": {
    "ExecuteTime": {
     "end_time": "2024-12-24T10:10:39.842537Z",
     "start_time": "2024-12-24T10:10:39.838261Z"
    }
   },
   "cell_type": "code",
   "source": [
    "from sklearn.linear_model import LinearRegression\n",
    "lr = LinearRegression()"
   ],
   "id": "47a1e7e58af2f9d7",
   "outputs": [],
   "execution_count": 24
  },
  {
   "metadata": {
    "ExecuteTime": {
     "end_time": "2024-12-24T10:10:39.848690Z",
     "start_time": "2024-12-24T10:10:39.843541Z"
    }
   },
   "cell_type": "code",
   "source": [
    "lr.fit(X_train,y_train)\n",
    "lr.intercept_, lr.coef_"
   ],
   "id": "656c46acedc8f669",
   "outputs": [
    {
     "data": {
      "text/plain": [
       "(-2.2710144261783825, array([28.12597332]))"
      ]
     },
     "execution_count": 25,
     "metadata": {},
     "output_type": "execute_result"
    }
   ],
   "execution_count": 25
  },
  {
   "metadata": {
    "ExecuteTime": {
     "end_time": "2024-12-24T10:10:39.854414Z",
     "start_time": "2024-12-24T10:10:39.848690Z"
    }
   },
   "cell_type": "code",
   "source": [
    "y_pred = lr.predict(X_test)\n",
    "\n",
    "r2_score(y_test,y_pred)"
   ],
   "id": "62fa195f54bb4afd",
   "outputs": [
    {
     "data": {
      "text/plain": [
       "0.6345158782661012"
      ]
     },
     "execution_count": 26,
     "metadata": {},
     "output_type": "execute_result"
    }
   ],
   "execution_count": 26
  },
  {
   "metadata": {
    "ExecuteTime": {
     "end_time": "2024-12-24T10:10:39.859773Z",
     "start_time": "2024-12-24T10:10:39.854414Z"
    }
   },
   "cell_type": "code",
   "source": [
    "class GDescent:\n",
    "    def __init__(self,learning_rate,epochs):\n",
    "        self.m = 100\n",
    "        self.b = -120\n",
    "        self.lr = learning_rate\n",
    "        self.epochs = epochs\n",
    "    \n",
    "    def fit(self,X,y):\n",
    "        for i in range(self.epochs):\n",
    "            loss_slope_b = -2 * np.sum(y - self.m*X.ravel() - self.b)\n",
    "            loss_slope_m = -2 * np.sum((y - self.m*X.ravel() - self.b) * X.ravel() )\n",
    "            \n",
    "            self.b = self.b - (self.lr * loss_slope_b)\n",
    "            self.m = self.m - (self.lr * loss_slope_m)\n",
    "            \n",
    "        print(self.b,self.m)\n",
    "        \n",
    "    def predict(self,X):\n",
    "        return (self.m * X) + self.b"
   ],
   "id": "e5f2c3667118bfbb",
   "outputs": [],
   "execution_count": 27
  },
  {
   "metadata": {
    "ExecuteTime": {
     "end_time": "2024-12-24T10:10:39.863600Z",
     "start_time": "2024-12-24T10:10:39.859773Z"
    }
   },
   "cell_type": "code",
   "source": "gd = GDescent(0.001,50)",
   "id": "d645b6c0bb119033",
   "outputs": [],
   "execution_count": 28
  },
  {
   "metadata": {
    "ExecuteTime": {
     "end_time": "2024-12-24T10:10:39.868938Z",
     "start_time": "2024-12-24T10:10:39.863600Z"
    }
   },
   "cell_type": "code",
   "source": "gd.fit(X_train,y_train)",
   "id": "5a2b7f0c5ebeefd1",
   "outputs": [
    {
     "name": "stdout",
     "output_type": "stream",
     "text": [
      "-2.3004574196824854 28.159367347119066\n"
     ]
    }
   ],
   "execution_count": 29
  },
  {
   "metadata": {
    "ExecuteTime": {
     "end_time": "2024-12-24T10:10:39.873917Z",
     "start_time": "2024-12-24T10:10:39.868938Z"
    }
   },
   "cell_type": "code",
   "source": [
    "y_pred = gd.predict(X_test)\n",
    "r2_score(y_test,y_pred)"
   ],
   "id": "ad6cb249e15b222e",
   "outputs": [
    {
     "data": {
      "text/plain": [
       "0.6343842836315579"
      ]
     },
     "execution_count": 30,
     "metadata": {},
     "output_type": "execute_result"
    }
   ],
   "execution_count": 30
  },
  {
   "metadata": {
    "ExecuteTime": {
     "end_time": "2024-12-24T10:10:39.876964Z",
     "start_time": "2024-12-24T10:10:39.874919Z"
    }
   },
   "cell_type": "code",
   "source": "",
   "id": "2de82e9581b41039",
   "outputs": [],
   "execution_count": 30
  }
 ],
 "metadata": {
  "kernelspec": {
   "display_name": "Python 3",
   "language": "python",
   "name": "python3"
  },
  "language_info": {
   "codemirror_mode": {
    "name": "ipython",
    "version": 2
   },
   "file_extension": ".py",
   "mimetype": "text/x-python",
   "name": "python",
   "nbconvert_exporter": "python",
   "pygments_lexer": "ipython2",
   "version": "2.7.6"
  }
 },
 "nbformat": 4,
 "nbformat_minor": 5
}
