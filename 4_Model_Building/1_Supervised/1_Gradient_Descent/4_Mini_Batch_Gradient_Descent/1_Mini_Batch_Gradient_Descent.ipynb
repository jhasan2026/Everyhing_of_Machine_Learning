{
 "cells": [
  {
   "cell_type": "code",
   "id": "initial_id",
   "metadata": {
    "collapsed": true,
    "ExecuteTime": {
     "end_time": "2024-12-24T14:15:08.070210Z",
     "start_time": "2024-12-24T14:15:08.062297Z"
    }
   },
   "source": [
    "from sklearn.datasets import load_diabetes\n",
    "\n",
    "import numpy as np\n",
    "from sklearn.linear_model import LinearRegression\n",
    "from sklearn.metrics import r2_score\n",
    "from sklearn.model_selection import train_test_split"
   ],
   "outputs": [],
   "execution_count": 14
  },
  {
   "metadata": {
    "ExecuteTime": {
     "end_time": "2024-12-24T14:15:08.083885Z",
     "start_time": "2024-12-24T14:15:08.071225Z"
    }
   },
   "cell_type": "code",
   "source": "X, y = load_diabetes(return_X_y=True)",
   "id": "9bb440dae46129c4",
   "outputs": [],
   "execution_count": 15
  },
  {
   "metadata": {
    "ExecuteTime": {
     "end_time": "2024-12-24T14:15:08.087724Z",
     "start_time": "2024-12-24T14:15:08.083885Z"
    }
   },
   "cell_type": "code",
   "source": "X_train, X_test, y_train, y_test = train_test_split(X, y, test_size=0.2, random_state=2)",
   "id": "aebe613d19f4e027",
   "outputs": [],
   "execution_count": 16
  },
  {
   "metadata": {
    "ExecuteTime": {
     "end_time": "2024-12-24T14:15:08.094479Z",
     "start_time": "2024-12-24T14:15:08.087724Z"
    }
   },
   "cell_type": "code",
   "source": [
    "lr =LinearRegression()\n",
    "lr.fit(X_train,y_train)\n",
    "lr.intercept_, lr.coef_"
   ],
   "id": "e27c9c8713b29122",
   "outputs": [
    {
     "data": {
      "text/plain": [
       "(151.88331005254167,\n",
       " array([  -9.15865318, -205.45432163,  516.69374454,  340.61999905,\n",
       "        -895.5520019 ,  561.22067904,  153.89310954,  126.73139688,\n",
       "         861.12700152,   52.42112238]))"
      ]
     },
     "execution_count": 17,
     "metadata": {},
     "output_type": "execute_result"
    }
   ],
   "execution_count": 17
  },
  {
   "metadata": {
    "ExecuteTime": {
     "end_time": "2024-12-24T14:15:08.101989Z",
     "start_time": "2024-12-24T14:15:08.094479Z"
    }
   },
   "cell_type": "code",
   "source": [
    "y_pred = lr.predict(X_test)\n",
    "r2_score(y_test,y_pred)"
   ],
   "id": "67412028e7232c23",
   "outputs": [
    {
     "data": {
      "text/plain": [
       "0.4399338661568968"
      ]
     },
     "execution_count": 18,
     "metadata": {},
     "output_type": "execute_result"
    }
   ],
   "execution_count": 18
  },
  {
   "metadata": {
    "ExecuteTime": {
     "end_time": "2024-12-24T14:15:08.105735Z",
     "start_time": "2024-12-24T14:15:08.101989Z"
    }
   },
   "cell_type": "code",
   "source": [
    "from sklearn.linear_model import SGDRegressor\n",
    "import random"
   ],
   "id": "dd35512bcd185ab5",
   "outputs": [],
   "execution_count": 19
  },
  {
   "metadata": {
    "ExecuteTime": {
     "end_time": "2024-12-24T14:15:08.110431Z",
     "start_time": "2024-12-24T14:15:08.105735Z"
    }
   },
   "cell_type": "code",
   "source": "miniSgd = SGDRegressor(learning_rate='constant',eta0=0.1)",
   "id": "fde91c41dc27e1a3",
   "outputs": [],
   "execution_count": 20
  },
  {
   "metadata": {
    "ExecuteTime": {
     "end_time": "2024-12-24T14:15:08.134823Z",
     "start_time": "2024-12-24T14:15:08.110431Z"
    }
   },
   "cell_type": "code",
   "source": [
    "batch_size = 35\n",
    "epochs = 100\n",
    "\n",
    "\n",
    "for i in range(epochs):\n",
    "    # select randomly batch size number from total number of rows\n",
    "    idx = random.sample(range(X_train.shape[0]), batch_size)\n",
    "    miniSgd.partial_fit(X_train[idx],y_train[idx])"
   ],
   "id": "c313011297685a09",
   "outputs": [],
   "execution_count": 21
  },
  {
   "metadata": {
    "ExecuteTime": {
     "end_time": "2024-12-24T14:15:08.140431Z",
     "start_time": "2024-12-24T14:15:08.134823Z"
    }
   },
   "cell_type": "code",
   "source": "miniSgd.intercept_, miniSgd.coef_",
   "id": "b0353401cc77ba45",
   "outputs": [
    {
     "data": {
      "text/plain": [
       "(array([148.73682354]),\n",
       " array([  63.78182344,  -59.1745448 ,  347.70759655,  257.54259501,\n",
       "          15.27926155,  -36.99553247, -165.59572372,  120.54163875,\n",
       "         323.91741275,  118.27602053]))"
      ]
     },
     "execution_count": 22,
     "metadata": {},
     "output_type": "execute_result"
    }
   ],
   "execution_count": 22
  },
  {
   "metadata": {
    "ExecuteTime": {
     "end_time": "2024-12-24T14:15:27.762530Z",
     "start_time": "2024-12-24T14:15:27.753010Z"
    }
   },
   "cell_type": "code",
   "source": "y_pred = miniSgd.predict(X_test)",
   "id": "a328dd4622e1eb0b",
   "outputs": [],
   "execution_count": 23
  },
  {
   "metadata": {
    "ExecuteTime": {
     "end_time": "2024-12-24T14:15:32.433968Z",
     "start_time": "2024-12-24T14:15:32.422920Z"
    }
   },
   "cell_type": "code",
   "source": "r2_score(y_test,y_pred)",
   "id": "9a64139821511e43",
   "outputs": [
    {
     "data": {
      "text/plain": [
       "0.42729251735413754"
      ]
     },
     "execution_count": 24,
     "metadata": {},
     "output_type": "execute_result"
    }
   ],
   "execution_count": 24
  },
  {
   "metadata": {},
   "cell_type": "code",
   "outputs": [],
   "execution_count": null,
   "source": "",
   "id": "a569982ef5f12970"
  }
 ],
 "metadata": {
  "kernelspec": {
   "display_name": "Python 3",
   "language": "python",
   "name": "python3"
  },
  "language_info": {
   "codemirror_mode": {
    "name": "ipython",
    "version": 2
   },
   "file_extension": ".py",
   "mimetype": "text/x-python",
   "name": "python",
   "nbconvert_exporter": "python",
   "pygments_lexer": "ipython2",
   "version": "2.7.6"
  }
 },
 "nbformat": 4,
 "nbformat_minor": 5
}
