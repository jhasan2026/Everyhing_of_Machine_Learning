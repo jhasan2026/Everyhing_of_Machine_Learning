{
 "cells": [
  {
   "cell_type": "code",
   "id": "initial_id",
   "metadata": {
    "collapsed": true,
    "ExecuteTime": {
     "end_time": "2024-12-25T03:37:59.746108Z",
     "start_time": "2024-12-25T03:37:59.112245Z"
    }
   },
   "source": [
    "import numpy as np\n",
    "from sklearn.datasets import load_diabetes"
   ],
   "outputs": [],
   "execution_count": 1
  },
  {
   "metadata": {
    "ExecuteTime": {
     "end_time": "2024-12-25T03:38:01.782513Z",
     "start_time": "2024-12-25T03:38:01.762822Z"
    }
   },
   "cell_type": "code",
   "source": "X,y = load_diabetes(return_X_y=True)",
   "id": "ba3df2bf1ea216d6",
   "outputs": [],
   "execution_count": 2
  },
  {
   "metadata": {
    "ExecuteTime": {
     "end_time": "2024-12-25T03:38:10.791653Z",
     "start_time": "2024-12-25T03:38:10.751695Z"
    }
   },
   "cell_type": "code",
   "source": [
    "from sklearn.model_selection import train_test_split\n",
    "\n",
    "X_train, X_test, y_train, y_test = train_test_split(X, y, test_size=0.2, random_state=2)"
   ],
   "id": "bc55d21f024e9c6f",
   "outputs": [],
   "execution_count": 3
  },
  {
   "metadata": {
    "ExecuteTime": {
     "end_time": "2024-12-25T03:38:35.864830Z",
     "start_time": "2024-12-25T03:38:35.831963Z"
    }
   },
   "cell_type": "code",
   "source": [
    "from sklearn.linear_model import LinearRegression\n",
    "from sklearn.metrics import r2_score"
   ],
   "id": "e017b61057d6cdf8",
   "outputs": [],
   "execution_count": 4
  },
  {
   "metadata": {
    "ExecuteTime": {
     "end_time": "2024-12-25T03:38:36.116370Z",
     "start_time": "2024-12-25T03:38:36.067192Z"
    }
   },
   "cell_type": "code",
   "source": [
    "reg = LinearRegression()\n",
    "reg.fit(X_train, y_train)\n",
    "y_pred = reg.predict(X_test)\n",
    "r2_score(y_test, y_pred)"
   ],
   "id": "951f8a71e6ccdb7b",
   "outputs": [
    {
     "data": {
      "text/plain": [
       "0.4399338661568968"
      ]
     },
     "execution_count": 5,
     "metadata": {},
     "output_type": "execute_result"
    }
   ],
   "execution_count": 5
  },
  {
   "metadata": {
    "ExecuteTime": {
     "end_time": "2024-12-25T03:38:49.055823Z",
     "start_time": "2024-12-25T03:38:49.051046Z"
    }
   },
   "cell_type": "code",
   "source": "reg.intercept_, reg.coef_",
   "id": "b7e90b21d0a02f17",
   "outputs": [
    {
     "data": {
      "text/plain": [
       "(151.88331005254167,\n",
       " array([  -9.15865318, -205.45432163,  516.69374454,  340.61999905,\n",
       "        -895.5520019 ,  561.22067904,  153.89310954,  126.73139688,\n",
       "         861.12700152,   52.42112238]))"
      ]
     },
     "execution_count": 6,
     "metadata": {},
     "output_type": "execute_result"
    }
   ],
   "execution_count": 6
  },
  {
   "metadata": {},
   "cell_type": "markdown",
   "source": "# Ownclass",
   "id": "a548debe43c8001a"
  },
  {
   "metadata": {},
   "cell_type": "markdown",
   "source": "![A descriptive alt text](linear_regression.png)\n",
   "id": "8158997dd0f59c48"
  },
  {
   "metadata": {
    "ExecuteTime": {
     "end_time": "2024-12-25T03:58:07.677791Z",
     "start_time": "2024-12-25T03:58:07.673785Z"
    }
   },
   "cell_type": "code",
   "source": [
    "class MultipleLinearRegression:\n",
    "    def __init__(self):\n",
    "        self.coef_ = None\n",
    "        self.intercept_ = None\n",
    "        \n",
    "    def fit(self,X_train,y_train):\n",
    "        # insert 1 at 0th column\n",
    "        X_train = np.insert(X_train,0,1,axis=1)\n",
    "        \n",
    "        beta = np.linalg.inv(np.dot(X_train.T, X_train)).dot(X_train.T).dot(y_train)\n",
    "        self.intercept_ = beta[0]\n",
    "        self.coef_ = beta[1:]\n",
    "        \n",
    "    def predict(self,X_test):\n",
    "        return  self.intercept_ + np.dot(X_test, self.coef_)\n",
    "    "
   ],
   "id": "b2bcc6593dd61b2b",
   "outputs": [],
   "execution_count": 16
  },
  {
   "metadata": {
    "ExecuteTime": {
     "end_time": "2024-12-25T03:58:08.042346Z",
     "start_time": "2024-12-25T03:58:08.038395Z"
    }
   },
   "cell_type": "code",
   "source": "lr = MultipleLinearRegression()",
   "id": "6bc70ef81ec0d787",
   "outputs": [],
   "execution_count": 17
  },
  {
   "metadata": {
    "ExecuteTime": {
     "end_time": "2024-12-25T03:58:08.424556Z",
     "start_time": "2024-12-25T03:58:08.421372Z"
    }
   },
   "cell_type": "code",
   "source": "lr.fit(X_train, y_train)",
   "id": "c154d263804504be",
   "outputs": [],
   "execution_count": 18
  },
  {
   "metadata": {
    "ExecuteTime": {
     "end_time": "2024-12-25T03:58:08.752606Z",
     "start_time": "2024-12-25T03:58:08.748881Z"
    }
   },
   "cell_type": "code",
   "source": "y_pred = lr.predict(X_test)",
   "id": "bd205bb09e4bb83f",
   "outputs": [],
   "execution_count": 19
  },
  {
   "metadata": {
    "ExecuteTime": {
     "end_time": "2024-12-25T03:58:23.052191Z",
     "start_time": "2024-12-25T03:58:23.048339Z"
    }
   },
   "cell_type": "code",
   "source": "r2_score(y_test,y_pred)",
   "id": "31e0d15bc9c977ab",
   "outputs": [
    {
     "data": {
      "text/plain": [
       "0.4399338661568969"
      ]
     },
     "execution_count": 20,
     "metadata": {},
     "output_type": "execute_result"
    }
   ],
   "execution_count": 20
  },
  {
   "metadata": {
    "ExecuteTime": {
     "end_time": "2024-12-25T03:58:31.127869Z",
     "start_time": "2024-12-25T03:58:31.123496Z"
    }
   },
   "cell_type": "code",
   "source": "lr.intercept_, lr.coef_",
   "id": "9436284907137e1d",
   "outputs": [
    {
     "data": {
      "text/plain": [
       "(151.88331005254167,\n",
       " array([  -9.15865318, -205.45432163,  516.69374454,  340.61999905,\n",
       "        -895.5520019 ,  561.22067904,  153.89310954,  126.73139688,\n",
       "         861.12700152,   52.42112238]))"
      ]
     },
     "execution_count": 21,
     "metadata": {},
     "output_type": "execute_result"
    }
   ],
   "execution_count": 21
  },
  {
   "metadata": {},
   "cell_type": "markdown",
   "source": "###### some manual calculation",
   "id": "2bfdbbbf1c9511b5"
  },
  {
   "metadata": {},
   "cell_type": "code",
   "outputs": [
    {
     "data": {
      "text/plain": [
       "array([[ 1.        , -0.00188202, -0.04464164, ..., -0.03949338,\n",
       "        -0.06291688,  0.04034337],\n",
       "       [ 1.        , -0.00914709, -0.04464164, ..., -0.03949338,\n",
       "         0.01703607, -0.0052198 ],\n",
       "       [ 1.        ,  0.02354575,  0.05068012, ..., -0.03949338,\n",
       "        -0.09643495, -0.01764613],\n",
       "       ...,\n",
       "       [ 1.        ,  0.06350368,  0.05068012, ..., -0.00259226,\n",
       "         0.08449153, -0.01764613],\n",
       "       [ 1.        , -0.05273755,  0.05068012, ...,  0.1081111 ,\n",
       "         0.03606033, -0.04249877],\n",
       "       [ 1.        ,  0.00175052,  0.05068012, ...,  0.1081111 ,\n",
       "         0.06898589,  0.12732762]])"
      ]
     },
     "execution_count": 10,
     "metadata": {},
     "output_type": "execute_result"
    }
   ],
   "execution_count": 10,
   "source": [
    "X_train1 = np.insert(X_train,0,1,axis=1)\n",
    "X_train1"
   ],
   "id": "ec832d90bc175565"
  },
  {
   "metadata": {},
   "cell_type": "code",
   "outputs": [
    {
     "data": {
      "text/plain": [
       "array([  11.10014699, -245.28091353,  381.8791825 ,  369.55714342,\n",
       "       -918.39620672,  601.65165138,  131.74485109, -167.02405018,\n",
       "       1055.08912682,   54.60659094])"
      ]
     },
     "execution_count": 11,
     "metadata": {},
     "output_type": "execute_result"
    }
   ],
   "execution_count": 11,
   "source": [
    "beta = np.linalg.inv(np.dot(X_train.T, X_train)).dot(X_train.T).dot(y_train)\n",
    "beta"
   ],
   "id": "9345c9fc0613c26b"
  },
  {
   "metadata": {},
   "cell_type": "code",
   "outputs": [],
   "execution_count": null,
   "source": "",
   "id": "c267341dbcb7e242"
  }
 ],
 "metadata": {
  "kernelspec": {
   "display_name": "Python 3",
   "language": "python",
   "name": "python3"
  },
  "language_info": {
   "codemirror_mode": {
    "name": "ipython",
    "version": 2
   },
   "file_extension": ".py",
   "mimetype": "text/x-python",
   "name": "python",
   "nbconvert_exporter": "python",
   "pygments_lexer": "ipython2",
   "version": "2.7.6"
  }
 },
 "nbformat": 4,
 "nbformat_minor": 5
}
