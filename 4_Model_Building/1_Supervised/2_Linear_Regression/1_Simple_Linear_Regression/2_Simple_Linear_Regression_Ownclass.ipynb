{
 "cells": [
  {
   "cell_type": "code",
   "id": "e65dd60cb07cdfd8",
   "metadata": {
    "collapsed": true,
    "ExecuteTime": {
     "end_time": "2024-12-24T15:30:54.819669Z",
     "start_time": "2024-12-24T15:30:54.804634Z"
    }
   },
   "source": [
    "import matplotlib.pyplot as plt\n",
    "import pandas as pd\n",
    "import numpy as np\n",
    "from sklearn.metrics import r2_score"
   ],
   "outputs": [],
   "execution_count": 38
  },
  {
   "metadata": {
    "ExecuteTime": {
     "end_time": "2024-12-24T15:29:50.837996Z",
     "start_time": "2024-12-24T15:29:50.822552Z"
    }
   },
   "cell_type": "code",
   "source": [
    "df = pd.read_csv('placement.csv')\n",
    "df"
   ],
   "id": "c1ba2e0bb4faa8b4",
   "outputs": [
    {
     "data": {
      "text/plain": [
       "     cgpa  package\n",
       "0    6.89     3.26\n",
       "1    5.12     1.98\n",
       "2    7.82     3.25\n",
       "3    7.42     3.67\n",
       "4    6.94     3.57\n",
       "..    ...      ...\n",
       "195  6.93     2.46\n",
       "196  5.89     2.57\n",
       "197  7.21     3.24\n",
       "198  7.63     3.96\n",
       "199  6.22     2.33\n",
       "\n",
       "[200 rows x 2 columns]"
      ],
      "text/html": [
       "<div>\n",
       "<style scoped>\n",
       "    .dataframe tbody tr th:only-of-type {\n",
       "        vertical-align: middle;\n",
       "    }\n",
       "\n",
       "    .dataframe tbody tr th {\n",
       "        vertical-align: top;\n",
       "    }\n",
       "\n",
       "    .dataframe thead th {\n",
       "        text-align: right;\n",
       "    }\n",
       "</style>\n",
       "<table border=\"1\" class=\"dataframe\">\n",
       "  <thead>\n",
       "    <tr style=\"text-align: right;\">\n",
       "      <th></th>\n",
       "      <th>cgpa</th>\n",
       "      <th>package</th>\n",
       "    </tr>\n",
       "  </thead>\n",
       "  <tbody>\n",
       "    <tr>\n",
       "      <th>0</th>\n",
       "      <td>6.89</td>\n",
       "      <td>3.26</td>\n",
       "    </tr>\n",
       "    <tr>\n",
       "      <th>1</th>\n",
       "      <td>5.12</td>\n",
       "      <td>1.98</td>\n",
       "    </tr>\n",
       "    <tr>\n",
       "      <th>2</th>\n",
       "      <td>7.82</td>\n",
       "      <td>3.25</td>\n",
       "    </tr>\n",
       "    <tr>\n",
       "      <th>3</th>\n",
       "      <td>7.42</td>\n",
       "      <td>3.67</td>\n",
       "    </tr>\n",
       "    <tr>\n",
       "      <th>4</th>\n",
       "      <td>6.94</td>\n",
       "      <td>3.57</td>\n",
       "    </tr>\n",
       "    <tr>\n",
       "      <th>...</th>\n",
       "      <td>...</td>\n",
       "      <td>...</td>\n",
       "    </tr>\n",
       "    <tr>\n",
       "      <th>195</th>\n",
       "      <td>6.93</td>\n",
       "      <td>2.46</td>\n",
       "    </tr>\n",
       "    <tr>\n",
       "      <th>196</th>\n",
       "      <td>5.89</td>\n",
       "      <td>2.57</td>\n",
       "    </tr>\n",
       "    <tr>\n",
       "      <th>197</th>\n",
       "      <td>7.21</td>\n",
       "      <td>3.24</td>\n",
       "    </tr>\n",
       "    <tr>\n",
       "      <th>198</th>\n",
       "      <td>7.63</td>\n",
       "      <td>3.96</td>\n",
       "    </tr>\n",
       "    <tr>\n",
       "      <th>199</th>\n",
       "      <td>6.22</td>\n",
       "      <td>2.33</td>\n",
       "    </tr>\n",
       "  </tbody>\n",
       "</table>\n",
       "<p>200 rows × 2 columns</p>\n",
       "</div>"
      ]
     },
     "execution_count": 28,
     "metadata": {},
     "output_type": "execute_result"
    }
   ],
   "execution_count": 28
  },
  {
   "metadata": {
    "ExecuteTime": {
     "end_time": "2024-12-24T15:29:50.944897Z",
     "start_time": "2024-12-24T15:29:50.837996Z"
    }
   },
   "cell_type": "code",
   "source": [
    "plt.scatter(df['cgpa'], df['package'])\n",
    "plt.xlabel('CGPA')\n",
    "plt.ylabel('Package(in lpa)')"
   ],
   "id": "988331c80d94371e",
   "outputs": [
    {
     "data": {
      "text/plain": [
       "Text(0, 0.5, 'Package(in lpa)')"
      ]
     },
     "execution_count": 29,
     "metadata": {},
     "output_type": "execute_result"
    },
    {
     "data": {
      "text/plain": [
       "<Figure size 640x480 with 1 Axes>"
      ],
      "image/png": "[encoded data removed]"
     },
     "metadata": {},
     "output_type": "display_data"
    }
   ],
   "execution_count": 29
  },
  {
   "metadata": {
    "ExecuteTime": {
     "end_time": "2024-12-24T15:29:50.948720Z",
     "start_time": "2024-12-24T15:29:50.944897Z"
    }
   },
   "cell_type": "code",
   "source": [
    "X = df.iloc[:, 0:1]\n",
    "y = df.iloc[:, -1]"
   ],
   "id": "6f8f428e301038fa",
   "outputs": [],
   "execution_count": 30
  },
  {
   "metadata": {
    "ExecuteTime": {
     "end_time": "2024-12-24T15:29:50.955172Z",
     "start_time": "2024-12-24T15:29:50.948720Z"
    }
   },
   "cell_type": "code",
   "source": [
    "from sklearn.model_selection import train_test_split\n",
    "X_train, X_test, y_train, y_test = train_test_split(X, y, test_size=0.2, random_state=2)\n",
    "X_train.shape, y_train.shape, X_test.shape, y_test.shape"
   ],
   "id": "initial_id",
   "outputs": [
    {
     "data": {
      "text/plain": [
       "((160, 1), (160,), (40, 1), (40,))"
      ]
     },
     "execution_count": 31,
     "metadata": {},
     "output_type": "execute_result"
    }
   ],
   "execution_count": 31
  },
  {
   "metadata": {},
   "cell_type": "markdown",
   "source": "![A descriptive alt text](simple_linear_regression.png)\n",
   "id": "bccd184764ea8793"
  },
  {
   "metadata": {
    "ExecuteTime": {
     "end_time": "2024-12-24T15:29:50.961072Z",
     "start_time": "2024-12-24T15:29:50.955172Z"
    }
   },
   "cell_type": "code",
   "source": [
    "class SimpleLinRegression:\n",
    "    def __init__(self):\n",
    "        self.m = None\n",
    "        self.b = None\n",
    "        \n",
    "    def fit(self,X_train,y_train):\n",
    "        numerator = 0\n",
    "        denominator = 0\n",
    "        \n",
    "        for i in range(X_train.shape[0]):\n",
    "            # {(xi -x') * {(yi - y')\n",
    "            numerator += (X_train[i] - X_train.mean()) * (y_train[i] - y_train.mean())\n",
    "\n",
    "            # {{(xi -x')^2\n",
    "            denominator += (X_train[i] - X_train.mean()) * (X_train[i] - X_train.mean())\n",
    "            \n",
    "            self.m = numerator / denominator\n",
    "            self.b = y_train.mean() - (self.m * X_train.mean())\n",
    "            print(self.m,self.b)\n",
    "            \n",
    "    def predict(self,X_test):\n",
    "        return self.b + (self.m * X_test)\n",
    "            "
   ],
   "id": "9e71316b3fa55c22",
   "outputs": [],
   "execution_count": 32
  },
  {
   "metadata": {
    "ExecuteTime": {
     "end_time": "2024-12-24T15:29:50.965293Z",
     "start_time": "2024-12-24T15:29:50.961072Z"
    }
   },
   "cell_type": "code",
   "source": "lr = SimpleLinRegression()",
   "id": "1f95b4694b995d82",
   "outputs": [],
   "execution_count": 33
  },
  {
   "metadata": {
    "ExecuteTime": {
     "end_time": "2024-12-24T15:29:50.969434Z",
     "start_time": "2024-12-24T15:29:50.965293Z"
    }
   },
   "cell_type": "code",
   "source": [
    "X_train = X_train.to_numpy()\n",
    "X_test = X_test.to_numpy()\n",
    "y_train = y_train.to_numpy()\n",
    "y_test = y_test.to_numpy()"
   ],
   "id": "2118dab9aeb4569f",
   "outputs": [],
   "execution_count": 34
  },
  {
   "metadata": {
    "ExecuteTime": {
     "end_time": "2024-12-24T15:29:50.996240Z",
     "start_time": "2024-12-24T15:29:50.970437Z"
    }
   },
   "cell_type": "code",
   "source": "lr.fit(X_train,y_train)",
   "id": "d70199645602603c",
   "outputs": [
    {
     "name": "stdout",
     "output_type": "stream",
     "text": [
      "[0.84006664] [-2.8680758]\n",
      "[0.46924607] [-0.27606319]\n",
      "[0.47357848] [-0.3063465]\n",
      "[0.43681145] [-0.04934724]\n",
      "[0.49030328] [-0.42325179]\n",
      "[0.4839694] [-0.37897834]\n",
      "[0.48640321] [-0.39599052]\n",
      "[0.49703213] [-0.47028605]\n",
      "[0.47199392] [-0.29527053]\n",
      "[0.43974818] [-0.06987478]\n",
      "[0.47590917] [-0.32263787]\n",
      "[0.51633972] [-0.6052449]\n",
      "[0.52119086] [-0.63915405]\n",
      "[0.5291616] [-0.69486903]\n",
      "[0.53052812] [-0.70442091]\n",
      "[0.52992237] [-0.70018678]\n",
      "[0.56393834] [-0.93795626]\n",
      "[0.57167524] [-0.99203668]\n",
      "[0.57294557] [-1.00091624]\n",
      "[0.57402428] [-1.00845632]\n",
      "[0.58145189] [-1.06037485]\n",
      "[0.5765852] [-1.026357]\n",
      "[0.57265117] [-0.99885839]\n",
      "[0.56740905] [-0.96221631]\n",
      "[0.5710666] [-0.98778236]\n",
      "[0.57227836] [-0.99625248]\n",
      "[0.562582] [-0.92847553]\n",
      "[0.57069231] [-0.98516609]\n",
      "[0.57278178] [-0.99977136]\n",
      "[0.5854696] [-1.08845843]\n",
      "[0.58185579] [-1.06319811]\n",
      "[0.58331111] [-1.07337067]\n",
      "[0.58346342] [-1.07443535]\n",
      "[0.58297067] [-1.07099108]\n",
      "[0.5803811] [-1.05289015]\n",
      "[0.57549084] [-1.01870748]\n",
      "[0.57602267] [-1.02242493]\n",
      "[0.57408152] [-1.00885646]\n",
      "[0.57365947] [-1.00590636]\n",
      "[0.5727445] [-0.99951076]\n",
      "[0.57355126] [-1.00514994]\n",
      "[0.56598372] [-0.95225333]\n",
      "[0.56928881] [-0.97535571]\n",
      "[0.56912737] [-0.97422726]\n",
      "[0.57548636] [-1.01867619]\n",
      "[0.57492288] [-1.01473751]\n",
      "[0.57333738] [-1.00365497]\n",
      "[0.5733894] [-1.00401858]\n",
      "[0.5784418] [-1.03933456]\n",
      "[0.5759322] [-1.02179255]\n",
      "[0.57587823] [-1.02141535]\n",
      "[0.56490508] [-0.94471374]\n",
      "[0.56429544] [-0.94045237]\n",
      "[0.56422601] [-0.93996706]\n",
      "[0.57876325] [-1.04158141]\n",
      "[0.57900367] [-1.04326199]\n",
      "[0.5787158] [-1.0412498]\n",
      "[0.57828951] [-1.03827]\n",
      "[0.57808989] [-1.03687467]\n",
      "[0.58121348] [-1.05870841]\n",
      "[0.5888371] [-1.11199702]\n",
      "[0.58815092] [-1.10720066]\n",
      "[0.58609768] [-1.09284866]\n",
      "[0.58735878] [-1.10166367]\n",
      "[0.58680952] [-1.09782438]\n",
      "[0.5835524] [-1.07505731]\n",
      "[0.58353722] [-1.07495122]\n",
      "[0.5782083] [-1.0377024]\n",
      "[0.57937821] [-1.04588]\n",
      "[0.57862617] [-1.04062326]\n",
      "[0.58301321] [-1.0712884]\n",
      "[0.5806505] [-1.05477323]\n",
      "[0.58643518] [-1.09520776]\n",
      "[0.5867421] [-1.09735313]\n",
      "[0.58579727] [-1.09074884]\n",
      "[0.58419851] [-1.07957357]\n",
      "[0.58477846] [-1.08362739]\n",
      "[0.58587434] [-1.09128751]\n",
      "[0.5829571] [-1.07089619]\n",
      "[0.58165698] [-1.06180846]\n",
      "[0.58104054] [-1.05749953]\n",
      "[0.57755941] [-1.03316668]\n",
      "[0.57755663] [-1.03314723]\n",
      "[0.5728013] [-0.99990776]\n",
      "[0.57067712] [-0.9850599]\n",
      "[0.57053233] [-0.98404783]\n",
      "[0.56245556] [-0.92759174]\n",
      "[0.56154413] [-0.9212209]\n",
      "[0.57007793] [-0.98087158]\n",
      "[0.5727878] [-0.99981341]\n",
      "[0.5708019] [-0.98593209]\n",
      "[0.57063253] [-0.98474823]\n",
      "[0.5660829] [-0.95294659]\n",
      "[0.56385727] [-0.93738961]\n",
      "[0.56023041] [-0.91203808]\n",
      "[0.5600134] [-0.91052116]\n",
      "[0.56056416] [-0.91437092]\n",
      "[0.56130958] [-0.91958141]\n",
      "[0.55416879] [-0.86966771]\n",
      "[0.55732125] [-0.89170318]\n",
      "[0.55724216] [-0.89115035]\n",
      "[0.56116128] [-0.9185448]\n",
      "[0.55734925] [-0.89189891]\n",
      "[0.55732455] [-0.8917263]\n",
      "[0.55759669] [-0.89362848]\n",
      "[0.55710465] [-0.89018917]\n",
      "[0.55303185] [-0.86172059]\n",
      "[0.55403661] [-0.86874376]\n",
      "[0.55403985] [-0.86876641]\n",
      "[0.55677174] [-0.88786219]\n",
      "[0.55667673] [-0.88719806]\n",
      "[0.55603649] [-0.88272283]\n",
      "[0.55780472] [-0.89508262]\n",
      "[0.55779713] [-0.8950296]\n",
      "[0.56098127] [-0.91728652]\n",
      "[0.56260077] [-0.92860674]\n",
      "[0.56288287] [-0.93057857]\n",
      "[0.57120819] [-0.98877202]\n",
      "[0.57107734] [-0.98785744]\n",
      "[0.5698847] [-0.97952094]\n",
      "[0.56892392] [-0.97280511]\n",
      "[0.57216549] [-0.99546349]\n",
      "[0.5724917] [-0.9977437]\n",
      "[0.56969612] [-0.97820277]\n",
      "[0.56864615] [-0.97086357]\n",
      "[0.57202382] [-0.99447328]\n",
      "[0.57345606] [-1.00448455]\n",
      "[0.57701039] [-1.02932906]\n",
      "[0.57649124] [-1.02570026]\n",
      "[0.57595359] [-1.02194207]\n",
      "[0.5750536] [-1.01565121]\n",
      "[0.57499284] [-1.01522652]\n",
      "[0.57458008] [-1.01234134]\n",
      "[0.57918671] [-1.04454137]\n",
      "[0.57917104] [-1.04443184]\n",
      "[0.57135664] [-0.98980973]\n",
      "[0.57151466] [-0.99091423]\n",
      "[0.56999037] [-0.98025959]\n",
      "[0.56979835] [-0.97891738]\n",
      "[0.57655392] [-1.0261384]\n",
      "[0.57611581] [-1.02307604]\n",
      "[0.5757493] [-1.0205141]\n",
      "[0.56512027] [-0.94621787]\n",
      "[0.56606583] [-0.95282724]\n",
      "[0.56630247] [-0.9544814]\n",
      "[0.56801162] [-0.96642819]\n",
      "[0.5681813] [-0.96761426]\n",
      "[0.56214425] [-0.92541569]\n",
      "[0.56297221] [-0.93120308]\n",
      "[0.56299557] [-0.93136635]\n",
      "[0.56332861] [-0.93369429]\n",
      "[0.56027736] [-0.91236622]\n",
      "[0.56080726] [-0.91607018]\n",
      "[0.56217142] [-0.92560561]\n",
      "[0.56213902] [-0.92537912]\n",
      "[0.55979246] [-0.9089768]\n",
      "[0.56088224] [-0.91659431]\n",
      "[0.56164739] [-0.92194265]\n",
      "[0.56176386] [-0.92275677]\n",
      "[0.55795197] [-0.89611192]\n"
     ]
    }
   ],
   "execution_count": 35
  },
  {
   "metadata": {
    "ExecuteTime": {
     "end_time": "2024-12-24T15:29:51.000838Z",
     "start_time": "2024-12-24T15:29:50.996240Z"
    }
   },
   "cell_type": "code",
   "source": "lr.b, lr.m",
   "id": "720e0fac3fd3d6f8",
   "outputs": [
    {
     "data": {
      "text/plain": [
       "(array([-0.89611192]), array([0.55795197]))"
      ]
     },
     "execution_count": 36,
     "metadata": {},
     "output_type": "execute_result"
    }
   ],
   "execution_count": 36
  },
  {
   "metadata": {
    "ExecuteTime": {
     "end_time": "2024-12-24T15:31:07.326893Z",
     "start_time": "2024-12-24T15:31:07.312434Z"
    }
   },
   "cell_type": "code",
   "source": [
    "y_pred = lr.predict(X_test)\n",
    "r2_score(y_test,y_pred)"
   ],
   "id": "9b577270917354aa",
   "outputs": [
    {
     "data": {
      "text/plain": [
       "0.7807301475103842"
      ]
     },
     "execution_count": 39,
     "metadata": {},
     "output_type": "execute_result"
    }
   ],
   "execution_count": 39
  },
  {
   "metadata": {},
   "cell_type": "code",
   "outputs": [],
   "execution_count": null,
   "source": "",
   "id": "53400fba24424f7"
  }
 ],
 "metadata": {
  "kernelspec": {
   "display_name": "Python 3",
   "language": "python",
   "name": "python3"
  },
  "language_info": {
   "codemirror_mode": {
    "name": "ipython",
    "version": 2
   },
   "file_extension": ".py",
   "mimetype": "text/x-python",
   "name": "python",
   "nbconvert_exporter": "python",
   "pygments_lexer": "ipython2",
   "version": "2.7.6"
  }
 },
 "nbformat": 4,
 "nbformat_minor": 5
}
