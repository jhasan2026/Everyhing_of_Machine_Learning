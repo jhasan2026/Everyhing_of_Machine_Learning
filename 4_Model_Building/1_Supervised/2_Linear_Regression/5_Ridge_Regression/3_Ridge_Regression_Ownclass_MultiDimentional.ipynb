{
 "cells": [
  {
   "cell_type": "code",
   "id": "7b5fb899135a6c48",
   "metadata": {
    "collapsed": true,
    "ExecuteTime": {
     "end_time": "2024-12-25T09:47:22.258760Z",
     "start_time": "2024-12-25T09:47:21.648065Z"
    }
   },
   "source": [
    "from sklearn.datasets import load_diabetes\n",
    "from sklearn.metrics import r2_score\n",
    "import numpy as np"
   ],
   "outputs": [],
   "execution_count": 1
  },
  {
   "metadata": {
    "ExecuteTime": {
     "end_time": "2024-12-25T09:47:22.274467Z",
     "start_time": "2024-12-25T09:47:22.258760Z"
    }
   },
   "cell_type": "code",
   "source": [
    "X, y = load_diabetes(return_X_y=True)\n",
    "from sklearn.model_selection import train_test_split\n",
    "\n",
    "X_train, X_test, y_train, y_test = train_test_split(X, y, test_size=0.2, random_state=4)"
   ],
   "id": "7a4d91bc68510636",
   "outputs": [],
   "execution_count": 2
  },
  {
   "metadata": {
    "ExecuteTime": {
     "end_time": "2024-12-25T09:47:22.309716Z",
     "start_time": "2024-12-25T09:47:22.275729Z"
    }
   },
   "cell_type": "code",
   "source": [
    "from sklearn.linear_model import Ridge\n",
    "\n",
    "reg = Ridge(alpha=0.1, solver='cholesky')"
   ],
   "id": "b96f39a7a3fd130f",
   "outputs": [],
   "execution_count": 3
  },
  {
   "metadata": {
    "ExecuteTime": {
     "end_time": "2024-12-25T09:47:22.325972Z",
     "start_time": "2024-12-25T09:47:22.310981Z"
    }
   },
   "cell_type": "code",
   "source": [
    "reg.fit(X_train, y_train)\n",
    "y_pred = reg.predict(X_test)\n",
    "r2_score(y_test, y_pred)"
   ],
   "id": "4e6adcdb0c0fecf0",
   "outputs": [
    {
     "data": {
      "text/plain": [
       "0.46931288533098026"
      ]
     },
     "execution_count": 4,
     "metadata": {},
     "output_type": "execute_result"
    }
   ],
   "execution_count": 4
  },
  {
   "metadata": {
    "ExecuteTime": {
     "end_time": "2024-12-25T09:47:22.331430Z",
     "start_time": "2024-12-25T09:47:22.326977Z"
    }
   },
   "cell_type": "code",
   "source": [
    "print(reg.coef_)\n",
    "print(reg.intercept_)"
   ],
   "id": "initial_id",
   "outputs": [
    {
     "name": "stdout",
     "output_type": "stream",
     "text": [
      "[  44.02063391 -241.69329987  452.98665299  332.04420177  -76.33686744\n",
      "  -68.52143809 -164.98809083  149.96908118  431.61347417   58.51862681]\n",
      "150.89053425602808\n"
     ]
    }
   ],
   "execution_count": 5
  },
  {
   "metadata": {},
   "cell_type": "markdown",
   "source": "# Ownclass",
   "id": "d4b8f855aa67cbc9"
  },
  {
   "metadata": {},
   "cell_type": "markdown",
   "source": "![A descriptive alt text](multiple_ridge_regression.png)",
   "id": "57738c359619c0d9"
  },
  {
   "metadata": {
    "ExecuteTime": {
     "end_time": "2024-12-25T09:54:59.565670Z",
     "start_time": "2024-12-25T09:54:59.547791Z"
    }
   },
   "cell_type": "code",
   "source": [
    "class RidgeRegressionMultiDim:\n",
    "    def __init__(self,alpha=0.1):\n",
    "        self.alpha = alpha\n",
    "        self.coef_ = None\n",
    "        self.intercept_ = None\n",
    "        \n",
    "    def fit(self,X_train,y_train):\n",
    "        # insert 1 at the first element\n",
    "        X_train = np.insert(X_train,0,1,axis=1)\n",
    "        \n",
    "        # Identity matrix size of number of column\n",
    "        I = np.identity(X_train.shape[1])\n",
    "        \n",
    "        B = np.linalg.inv(np.dot(X_train.T,X_train) + (self.alpha * I)).dot(X_train.T).dot(y_train)\n",
    "        \n",
    "        self.intercept_ = B[0]\n",
    "        self.coef_ = B[1:]\n",
    "        \n",
    "    def predict(self,X_test):\n",
    "        return self.intercept_ + np.dot(X_test, self.coef_)\n",
    "        "
   ],
   "id": "221ad0d66537ea14",
   "outputs": [],
   "execution_count": 6
  },
  {
   "metadata": {
    "ExecuteTime": {
     "end_time": "2024-12-25T09:55:10.526725Z",
     "start_time": "2024-12-25T09:55:10.511921Z"
    }
   },
   "cell_type": "code",
   "source": [
    "reg = RidgeRegressionMultiDim()\n",
    "reg.fit(X_train,y_train)\n",
    "y_pred = reg.predict(X_test)\n",
    "print(r2_score(y_test,y_pred))"
   ],
   "id": "5c0ebac16afaea7b",
   "outputs": [
    {
     "name": "stdout",
     "output_type": "stream",
     "text": [
      "0.4692136155993193\n"
     ]
    }
   ],
   "execution_count": 7
  },
  {
   "metadata": {
    "ExecuteTime": {
     "end_time": "2024-12-25T09:55:15.400536Z",
     "start_time": "2024-12-25T09:55:15.386260Z"
    }
   },
   "cell_type": "code",
   "source": [
    "print(reg.coef_)\n",
    "print(reg.intercept_)"
   ],
   "id": "aeb4bf24e9e434c9",
   "outputs": [
    {
     "name": "stdout",
     "output_type": "stream",
     "text": [
      "[  44.04252774 -241.72019592  452.99153345  332.06044266  -76.32617866\n",
      "  -68.54884462 -165.01664054  149.93980143  431.59483654   58.54419942]\n",
      "150.8476272002317\n"
     ]
    }
   ],
   "execution_count": 8
  },
  {
   "metadata": {},
   "cell_type": "code",
   "outputs": [],
   "execution_count": null,
   "source": "",
   "id": "3a8de57bbbffd0bf"
  }
 ],
 "metadata": {
  "kernelspec": {
   "display_name": "Python 3",
   "language": "python",
   "name": "python3"
  },
  "language_info": {
   "codemirror_mode": {
    "name": "ipython",
    "version": 2
   },
   "file_extension": ".py",
   "mimetype": "text/x-python",
   "name": "python",
   "nbconvert_exporter": "python",
   "pygments_lexer": "ipython2",
   "version": "2.7.6"
  }
 },
 "nbformat": 4,
 "nbformat_minor": 5
}
